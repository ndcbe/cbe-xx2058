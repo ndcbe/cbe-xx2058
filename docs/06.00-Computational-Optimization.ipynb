{
 "cells": [
  {
   "cell_type": "markdown",
   "metadata": {},
   "source": [
    "<!--NOTEBOOK_HEADER-->*This notebook contains material for CBE 20258 Numerical and Statistical Analysis taught at the University of Notre Dame. (c) Professors Alexander Dowling, Ryan McClarren, and Yamil Colón. This collection of notebooks [cbe-xx258](https://ndcbe.github.io/cbe-xx258) is available [on Github](https://github.com/ndcbe/cbe-xx258).*\n"
   ]
  },
  {
   "cell_type": "markdown",
   "metadata": {},
   "source": [
    "<!--NAVIGATION-->\n",
    "< [5.0 Nonlinear Systems of Equations](https://ndcbe.github.io/cbe-xx258/05.00-Nonlinear-Systems-Equations.html) | [Contents](toc.html) | [7.0 Numeric Integration](https://ndcbe.github.io/cbe-xx258/07.00-Numeric-Integration.html) ><p><a href=\"https://colab.research.google.com/github/ndcbe/cbe-xx258/blob/master/docs/06.00-Computational-Optimization.ipynb\"> <img align=\"left\" src=\"https://colab.research.google.com/assets/colab-badge.svg\" alt=\"Open in Colab\" title=\"Open in Google Colaboratory\"></a><p><a href=\"https://ndcbe.github.io/cbe-xx258/06.00-Computational-Optimization.ipynb\"> <img align=\"left\" src=\"https://img.shields.io/badge/Github-Download-blue.svg\" alt=\"Download\" title=\"Download Notebook\"></a>"
   ]
  },
  {
   "cell_type": "markdown",
   "metadata": {
    "nbpages": {
     "level": 1,
     "link": "[6.0 Computational Optimization](https://ndcbe.github.io/cbe-xx258/06.00-Computational-Optimization.html#6.0-Computational-Optimization)",
     "section": "6.0 Computational Optimization"
    }
   },
   "source": [
    "# 6.0 Computational Optimization"
   ]
  },
  {
   "cell_type": "code",
   "execution_count": null,
   "metadata": {
    "nbpages": {
     "level": 1,
     "link": "[6.0 Computational Optimization](https://ndcbe.github.io/cbe-xx258/06.00-Computational-Optimization.html#6.0-Computational-Optimization)",
     "section": "6.0 Computational Optimization"
    }
   },
   "outputs": [],
   "source": []
  },
  {
   "cell_type": "markdown",
   "metadata": {},
   "source": [
    "<!--NAVIGATION-->\n",
    "< [5.0 Nonlinear Systems of Equations](https://ndcbe.github.io/cbe-xx258/05.00-Nonlinear-Systems-Equations.html) | [Contents](toc.html) | [7.0 Numeric Integration](https://ndcbe.github.io/cbe-xx258/07.00-Numeric-Integration.html) ><p><a href=\"https://colab.research.google.com/github/ndcbe/cbe-xx258/blob/master/docs/06.00-Computational-Optimization.ipynb\"> <img align=\"left\" src=\"https://colab.research.google.com/assets/colab-badge.svg\" alt=\"Open in Colab\" title=\"Open in Google Colaboratory\"></a><p><a href=\"https://ndcbe.github.io/cbe-xx258/06.00-Computational-Optimization.ipynb\"> <img align=\"left\" src=\"https://img.shields.io/badge/Github-Download-blue.svg\" alt=\"Download\" title=\"Download Notebook\"></a>"
   ]
  }
 ],
 "metadata": {
  "kernelspec": {
   "display_name": "Python 3",
   "language": "python",
   "name": "python3"
  },
  "language_info": {
   "codemirror_mode": {
    "name": "ipython",
    "version": 3
   },
   "file_extension": ".py",
   "mimetype": "text/x-python",
   "name": "python",
   "nbconvert_exporter": "python",
   "pygments_lexer": "ipython3",
   "version": "3.6.12"
  }
 },
 "nbformat": 4,
 "nbformat_minor": 2
}
