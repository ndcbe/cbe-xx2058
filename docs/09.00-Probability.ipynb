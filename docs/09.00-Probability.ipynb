{
 "cells": [
  {
   "cell_type": "markdown",
   "metadata": {},
   "source": [
    "<!--NOTEBOOK_HEADER-->*This notebook contains material for CBE 20258 Numerical and Statistical Analysis taught at the University of Notre Dame. (c) Professors Alexander Dowling, Ryan McClarren, and Yamil Colón. This collection of notebooks [cbe-xx258](https://ndcbe.github.io/cbe-xx258) is available [on Github](https://github.com/ndcbe/cbe-xx258).*\n"
   ]
  },
  {
   "cell_type": "markdown",
   "metadata": {},
   "source": [
    "<!--NAVIGATION-->\n",
    "< [8.0 Linear Algebra](https://ndcbe.github.io/cbe-xx258/08.00-Descriptive-Statistics.html) | [Contents](toc.html) | [10.0 Common Probability Distributions](https://ndcbe.github.io/cbe-xx258/10.00-Probability-Distribtions.html) ><p><a href=\"https://colab.research.google.com/github/ndcbe/cbe-xx258/blob/master/docs/09.00-Probability.ipynb\"> <img align=\"left\" src=\"https://colab.research.google.com/assets/colab-badge.svg\" alt=\"Open in Colab\" title=\"Open in Google Colaboratory\"></a><p><a href=\"https://ndcbe.github.io/cbe-xx258/09.00-Probability.ipynb\"> <img align=\"left\" src=\"https://img.shields.io/badge/Github-Download-blue.svg\" alt=\"Download\" title=\"Download Notebook\"></a>"
   ]
  },
  {
   "cell_type": "markdown",
   "metadata": {
    "nbpages": {
     "level": 1,
     "link": "[9.0 Probability Theory](https://ndcbe.github.io/cbe-xx258/09.00-Probability.html#9.0-Probability-Theory)",
     "section": "9.0 Probability Theory"
    }
   },
   "source": [
    "# 9.0 Probability Theory"
   ]
  },
  {
   "cell_type": "markdown",
   "metadata": {},
   "source": [
    "<!--NAVIGATION-->\n",
    "< [8.0 Linear Algebra](https://ndcbe.github.io/cbe-xx258/08.00-Descriptive-Statistics.html) | [Contents](toc.html) | [10.0 Common Probability Distributions](https://ndcbe.github.io/cbe-xx258/10.00-Probability-Distribtions.html) ><p><a href=\"https://colab.research.google.com/github/ndcbe/cbe-xx258/blob/master/docs/09.00-Probability.ipynb\"> <img align=\"left\" src=\"https://colab.research.google.com/assets/colab-badge.svg\" alt=\"Open in Colab\" title=\"Open in Google Colaboratory\"></a><p><a href=\"https://ndcbe.github.io/cbe-xx258/09.00-Probability.ipynb\"> <img align=\"left\" src=\"https://img.shields.io/badge/Github-Download-blue.svg\" alt=\"Download\" title=\"Download Notebook\"></a>"
   ]
  }
 ],
 "metadata": {
  "kernelspec": {
   "display_name": "Python 3",
   "language": "python",
   "name": "python3"
  },
  "language_info": {
   "codemirror_mode": {
    "name": "ipython",
    "version": 3
   },
   "file_extension": ".py",
   "mimetype": "text/x-python",
   "name": "python",
   "nbconvert_exporter": "python",
   "pygments_lexer": "ipython3",
   "version": "3.6.12"
  }
 },
 "nbformat": 4,
 "nbformat_minor": 2
}
