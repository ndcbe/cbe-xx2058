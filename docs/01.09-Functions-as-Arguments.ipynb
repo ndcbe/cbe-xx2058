{
 "cells": [
  {
   "cell_type": "markdown",
   "metadata": {},
   "source": [
    "<!--NOTEBOOK_HEADER-->*This notebook contains material for CBE 20258 Numerical and Statistical Analysis taught at the University of Notre Dame. (c) Professors Alexander Dowling, Ryan McClarren, and Yamil Colón. This page [cbe-xx258](https://ndcbe.github.io/cbe-xx258) in addition to the entire course contents are available [on Github](https://github.com/ndcbe/cbe-xx258).*\n"
   ]
  },
  {
   "cell_type": "markdown",
   "metadata": {},
   "source": [
    "<!--NAVIGATION-->\n",
    "< [1.8 Manipulating Data with Pandas](https://ndcbe.github.io/cbe-xx258/01.08-Pandas.html) | [Contents](toc.html) | [1.10 Testing and Debugging in Python](https://ndcbe.github.io/cbe-xx258/01.10-Testing-and-Debugging.html) ><p><a href=\"https://colab.research.google.com/github/ndcbe/cbe-xx258/blob/master/docs/01.09-Functions-as-Arguments.ipynb\"> <img align=\"left\" src=\"https://colab.research.google.com/assets/colab-badge.svg\" alt=\"Open in Colab\" title=\"Open in Google Colaboratory\"></a><p><a href=\"https://ndcbe.github.io/cbe-xx258/01.09-Functions-as-Arguments.ipynb\"> <img align=\"left\" src=\"https://img.shields.io/badge/Github-Download-blue.svg\" alt=\"Download\" title=\"Download Notebook\"></a>"
   ]
  },
  {
   "cell_type": "markdown",
   "metadata": {
    "colab_type": "text",
    "id": "rG3kq9V5BPoN",
    "nbpages": {
     "level": 1,
     "link": "[1.9 Functions as Arguments](https://ndcbe.github.io/cbe-xx258/01.09-Functions-as-Arguments.html#1.9-Functions-as-Arguments)",
     "section": "1.9 Functions as Arguments"
    }
   },
   "source": [
    "# 1.9 Functions as Arguments"
   ]
  },
  {
   "cell_type": "markdown",
   "metadata": {
    "nbpages": {
     "level": 1,
     "link": "[1.9 Functions as Arguments](https://ndcbe.github.io/cbe-xx258/01.09-Functions-as-Arguments.html#1.9-Functions-as-Arguments)",
     "section": "1.9 Functions as Arguments"
    }
   },
   "source": [
    "**Reference**: Chapter 5 of *Computational Nuclear Engineering and Radiological Science Using Python*, R. McClarren (2018)"
   ]
  },
  {
   "cell_type": "markdown",
   "metadata": {
    "nbpages": {
     "level": 2,
     "link": "[1.9.1 Learning Objectives](https://ndcbe.github.io/cbe-xx258/01.09-Functions-as-Arguments.html#1.9.1-Learning-Objectives)",
     "section": "1.9.1 Learning Objectives"
    }
   },
   "source": [
    "## 1.9.1 Learning Objectives\n",
    "\n",
    "After studying this notebook, completing the activities, and asking questions in class, you should be able to:\n",
    "* Pass a function as an argument to a function\n",
    "* Define and use lambda functions"
   ]
  },
  {
   "cell_type": "markdown",
   "metadata": {
    "colab_type": "text",
    "id": "am_-pu3qBPou",
    "nbpages": {
     "level": 2,
     "link": "[1.9.2 Functions passed to Functions](https://ndcbe.github.io/cbe-xx258/01.09-Functions-as-Arguments.html#1.9.2-Functions-passed-to-Functions)",
     "section": "1.9.2 Functions passed to Functions"
    }
   },
   "source": [
    "## 1.9.2 Functions passed to Functions"
   ]
  },
  {
   "cell_type": "markdown",
   "metadata": {
    "nbpages": {
     "level": 2,
     "link": "[1.9.2 Functions passed to Functions](https://ndcbe.github.io/cbe-xx258/01.09-Functions-as-Arguments.html#1.9.2-Functions-passed-to-Functions)",
     "section": "1.9.2 Functions passed to Functions"
    }
   },
   "source": [
    "Functions can also use other functions. In the example below, the function my_g takes my_f as an input. Try and predict its output before you run the cell.\n",
    "\n",
    "$$g(x) = f(x)^2 + 1$$"
   ]
  },
  {
   "cell_type": "code",
   "execution_count": 14,
   "metadata": {
    "nbpages": {
     "level": 2,
     "link": "[1.9.2 Functions passed to Functions](https://ndcbe.github.io/cbe-xx258/01.09-Functions-as-Arguments.html#1.9.2-Functions-passed-to-Functions)",
     "section": "1.9.2 Functions passed to Functions"
    }
   },
   "outputs": [
    {
     "name": "stdout",
     "output_type": "stream",
     "text": [
      "101.0\n"
     ]
    }
   ],
   "source": [
    "def my_f(x):\n",
    "    return (x/3)*5\n",
    "\n",
    "def my_g(f,x):\n",
    "    return f(x)**2+1\n",
    "\n",
    "print (my_g(my_f,6))"
   ]
  },
  {
   "cell_type": "markdown",
   "metadata": {
    "colab_type": "text",
    "id": "djEUym1CBPo1",
    "nbpages": {
     "level": 3,
     "link": "[1.9.2.1 Motivating Example: Midpoint Integration](https://ndcbe.github.io/cbe-xx258/01.09-Functions-as-Arguments.html#1.9.2.1-Motivating-Example:-Midpoint-Integration)",
     "section": "1.9.2.1 Motivating Example: Midpoint Integration"
    }
   },
   "source": [
    "### 1.9.2.1 Motivating Example: Midpoint Integration"
   ]
  },
  {
   "cell_type": "markdown",
   "metadata": {
    "colab_type": "text",
    "id": "KLzhDxTqBPo2",
    "nbpages": {
     "level": 3,
     "link": "[1.9.2.1 Motivating Example: Midpoint Integration](https://ndcbe.github.io/cbe-xx258/01.09-Functions-as-Arguments.html#1.9.2.1-Motivating-Example:-Midpoint-Integration)",
     "section": "1.9.2.1 Motivating Example: Midpoint Integration"
    }
   },
   "source": [
    "Recall the Midpoint formula for approximating an integral.\n",
    "\n",
    "With only one element:\n",
    "\n",
    "$$\\int_{a}^{b} f(x) dx \\approx f\\left(\\frac{a + b}{2}\\right) (b - a)$$\n",
    "\n",
    "With $N$ elements:\n",
    "\n",
    "$$\\int_{a}^{b} f(x) dx \\approx \\Delta x \\sum_{i=0}^{N-1} f(m_i) ~~,$$\n",
    "\n",
    "where $$\\Delta x = \\frac{b - a}{N} ~~,$$ and $$m_i = i \\cdot \\Delta x +\\frac{\\Delta x}{2} + a ~~.$$"
   ]
  },
  {
   "cell_type": "markdown",
   "metadata": {
    "colab_type": "text",
    "id": "qCTvbbeBBPo3",
    "nbpages": {
     "level": 3,
     "link": "[1.9.2.1 Motivating Example: Midpoint Integration](https://ndcbe.github.io/cbe-xx258/01.09-Functions-as-Arguments.html#1.9.2.1-Motivating-Example:-Midpoint-Integration)",
     "section": "1.9.2.1 Motivating Example: Midpoint Integration"
    }
   },
   "source": [
    "We want to integrate an **arbitrary function** using the midpoint rule.  To do this, we need to evaluate the function at several values to calculate the midpoint sum.\n",
    "\n",
    "In the following Python code, argument ``f`` is a **function** with a scalar input and scalar output.\n"
   ]
  },
  {
   "cell_type": "code",
   "execution_count": 15,
   "metadata": {
    "colab": {
     "base_uri": "https://localhost:8080/",
     "height": 238
    },
    "colab_type": "code",
    "executionInfo": {
     "elapsed": 253,
     "status": "ok",
     "timestamp": 1548850752838,
     "user": {
      "displayName": "Alexander Dowling",
      "photoUrl": "https://lh3.googleusercontent.com/-LChdQ2m5OQE/AAAAAAAAAAI/AAAAAAAAAA0/JeXJe4vQJ7M/s64/photo.jpg",
      "userId": "00988067626794866502"
     },
     "user_tz": 300
    },
    "id": "qRpk6buBBPo4",
    "nbpages": {
     "level": 3,
     "link": "[1.9.2.1 Motivating Example: Midpoint Integration](https://ndcbe.github.io/cbe-xx258/01.09-Functions-as-Arguments.html#1.9.2.1-Motivating-Example:-Midpoint-Integration)",
     "section": "1.9.2.1 Motivating Example: Midpoint Integration"
    },
    "outputId": "e9b3a315-28ad-4385-9b82-d9149d9f4764"
   },
   "outputs": [
    {
     "name": "stdout",
     "output_type": "stream",
     "text": [
      "Help on function midpoint_rule in module __main__:\n",
      "\n",
      "midpoint_rule(f, a, b, num_intervals)\n",
      "    integrate function f using the midpoint rule\n",
      "    \n",
      "    Args:\n",
      "        f: function to be integrated, it must take one argument\n",
      "        a: lower bound of integral range\n",
      "        b: upper bound of integral range\n",
      "        num_intervals: the number of intervals to break [a,b] into\n",
      "    Returns:\n",
      "        estimate of the integral\n",
      "\n"
     ]
    }
   ],
   "source": [
    "def midpoint_rule(f,a,b,num_intervals):\n",
    "    \"\"\"integrate function f using the midpoint rule\n",
    "\n",
    "    Args:\n",
    "        f: function to be integrated, it must take one argument\n",
    "        a: lower bound of integral range\n",
    "        b: upper bound of integral range\n",
    "        num_intervals: the number of intervals to break [a,b] into\n",
    "    Returns:\n",
    "        estimate of the integral\n",
    "    \"\"\"\n",
    "    L = (b-a) #how big is the range\n",
    "    dx = L/num_intervals #how big is each interval\n",
    "    #midpoints are a+dx/2, a+3dx/2, ..., b-dx/2\n",
    "    midpoints = np.arange(num_intervals)*dx+0.5*dx+a\n",
    "    integral = 0\n",
    "    for point in midpoints:\n",
    "        integral += f(point)\n",
    "    return integral*dx\n",
    "\n",
    "help(midpoint_rule)"
   ]
  },
  {
   "cell_type": "code",
   "execution_count": 16,
   "metadata": {
    "colab": {
     "base_uri": "https://localhost:8080/",
     "height": 34
    },
    "colab_type": "code",
    "executionInfo": {
     "elapsed": 220,
     "status": "ok",
     "timestamp": 1548776116828,
     "user": {
      "displayName": "Alexander Dowling",
      "photoUrl": "https://lh3.googleusercontent.com/-LChdQ2m5OQE/AAAAAAAAAAI/AAAAAAAAAA0/JeXJe4vQJ7M/s64/photo.jpg",
      "userId": "00988067626794866502"
     },
     "user_tz": 300
    },
    "id": "FqzOO4bwPpW0",
    "nbpages": {
     "level": 3,
     "link": "[1.9.2.1 Motivating Example: Midpoint Integration](https://ndcbe.github.io/cbe-xx258/01.09-Functions-as-Arguments.html#1.9.2.1-Motivating-Example:-Midpoint-Integration)",
     "section": "1.9.2.1 Motivating Example: Midpoint Integration"
    },
    "outputId": "262bdf4f-7109-4599-f814-b20eb9384d10"
   },
   "outputs": [
    {
     "name": "stdout",
     "output_type": "stream",
     "text": [
      "[ 1.5  2.5  3.5  4.5  5.5  6.5  7.5  8.5  9.5 10.5]\n"
     ]
    }
   ],
   "source": [
    "import numpy as np\n",
    "a = 1.0\n",
    "dx = 1.0\n",
    "midpoints = np.arange(10)*dx+0.5*dx+a\n",
    "\n",
    "print(midpoints)"
   ]
  },
  {
   "cell_type": "markdown",
   "metadata": {
    "colab_type": "text",
    "id": "djdVleBxBPo6",
    "nbpages": {
     "level": 3,
     "link": "[1.9.2.1 Motivating Example: Midpoint Integration](https://ndcbe.github.io/cbe-xx258/01.09-Functions-as-Arguments.html#1.9.2.1-Motivating-Example:-Midpoint-Integration)",
     "section": "1.9.2.1 Motivating Example: Midpoint Integration"
    }
   },
   "source": [
    "Thus ``midpoint_rule`` is a function that takes another function, ``f``, as an argument (input)."
   ]
  },
  {
   "cell_type": "markdown",
   "metadata": {
    "colab_type": "text",
    "id": "4ISlt7bMBPo7",
    "nbpages": {
     "level": 3,
     "link": "[1.9.2.1 Motivating Example: Midpoint Integration](https://ndcbe.github.io/cbe-xx258/01.09-Functions-as-Arguments.html#1.9.2.1-Motivating-Example:-Midpoint-Integration)",
     "section": "1.9.2.1 Motivating Example: Midpoint Integration"
    }
   },
   "source": [
    "Now we will approximate:\n",
    "\n",
    "$$\\int_0^\\pi \\sin x ~ dx$$\n",
    "\n",
    "using $N=10$ and the midpoint rule. The analytic solution (correct answer) is 2."
   ]
  },
  {
   "cell_type": "code",
   "execution_count": 17,
   "metadata": {
    "colab": {
     "base_uri": "https://localhost:8080/",
     "height": 34
    },
    "colab_type": "code",
    "executionInfo": {
     "elapsed": 212,
     "status": "ok",
     "timestamp": 1548776222243,
     "user": {
      "displayName": "Alexander Dowling",
      "photoUrl": "https://lh3.googleusercontent.com/-LChdQ2m5OQE/AAAAAAAAAAI/AAAAAAAAAA0/JeXJe4vQJ7M/s64/photo.jpg",
      "userId": "00988067626794866502"
     },
     "user_tz": 300
    },
    "id": "w_ncqQsGBPo8",
    "nbpages": {
     "level": 3,
     "link": "[1.9.2.1 Motivating Example: Midpoint Integration](https://ndcbe.github.io/cbe-xx258/01.09-Functions-as-Arguments.html#1.9.2.1-Motivating-Example:-Midpoint-Integration)",
     "section": "1.9.2.1 Motivating Example: Midpoint Integration"
    },
    "outputId": "7b778762-97c3-4b27-fb50-5de7c2862671"
   },
   "outputs": [
    {
     "name": "stdout",
     "output_type": "stream",
     "text": [
      "2.0082484079079745\n"
     ]
    }
   ],
   "source": [
    "print(midpoint_rule(np.sin,0,np.pi,10))"
   ]
  },
  {
   "cell_type": "markdown",
   "metadata": {
    "nbpages": {
     "level": 3,
     "link": "[1.9.2.1 Motivating Example: Midpoint Integration](https://ndcbe.github.io/cbe-xx258/01.09-Functions-as-Arguments.html#1.9.2.1-Motivating-Example:-Midpoint-Integration)",
     "section": "1.9.2.1 Motivating Example: Midpoint Integration"
    }
   },
   "source": [
    "<div style=\"background-color: rgba(0,255,0,0.05) ; padding: 10px; border: 1px solid darkgreen;\"> \n",
    "<b>Home Activity</b>: Approximate the integral below using the midpoint formula with 5 intervals. Store your answer in <tt>approx_integral</tt>.\n",
    "</div>"
   ]
  },
  {
   "cell_type": "markdown",
   "metadata": {
    "nbpages": {
     "level": 3,
     "link": "[1.9.2.1 Motivating Example: Midpoint Integration](https://ndcbe.github.io/cbe-xx258/01.09-Functions-as-Arguments.html#1.9.2.1-Motivating-Example:-Midpoint-Integration)",
     "section": "1.9.2.1 Motivating Example: Midpoint Integration"
    }
   },
   "source": [
    "$$\\int_\\pi^{2 \\pi} x \\cos x ~ dx$$"
   ]
  },
  {
   "cell_type": "code",
   "execution_count": 18,
   "metadata": {
    "nbpages": {
     "level": 3,
     "link": "[1.9.2.1 Motivating Example: Midpoint Integration](https://ndcbe.github.io/cbe-xx258/01.09-Functions-as-Arguments.html#1.9.2.1-Motivating-Example:-Midpoint-Integration)",
     "section": "1.9.2.1 Motivating Example: Midpoint Integration"
    }
   },
   "outputs": [
    {
     "name": "stdout",
     "output_type": "stream",
     "text": [
      "1.9659448856595125\n"
     ]
    }
   ],
   "source": [
    "# YOUR SOLUTION HERE"
   ]
  },
  {
   "cell_type": "code",
   "execution_count": 19,
   "metadata": {
    "collapsed": true,
    "nbgrader": {
     "grade": true,
     "grade_id": "integral-approximation",
     "locked": true,
     "points": "0.3",
     "solution": false
    },
    "nbpages": {
     "level": 3,
     "link": "[1.9.2.1 Motivating Example: Midpoint Integration](https://ndcbe.github.io/cbe-xx258/01.09-Functions-as-Arguments.html#1.9.2.1-Motivating-Example:-Midpoint-Integration)",
     "section": "1.9.2.1 Motivating Example: Midpoint Integration"
    }
   },
   "outputs": [],
   "source": []
  },
  {
   "cell_type": "markdown",
   "metadata": {
    "colab_type": "text",
    "id": "n8U3RtCSBPpC",
    "nbpages": {
     "level": 3,
     "link": "[1.9.2.2 Convergence Analysis](https://ndcbe.github.io/cbe-xx258/01.09-Functions-as-Arguments.html#1.9.2.2-Convergence-Analysis)",
     "section": "1.9.2.2 Convergence Analysis"
    }
   },
   "source": [
    "### 1.9.2.2 Convergence Analysis"
   ]
  },
  {
   "cell_type": "markdown",
   "metadata": {
    "colab_type": "text",
    "id": "hSb3-HOVBPpD",
    "nbpages": {
     "level": 3,
     "link": "[1.9.2.2 Convergence Analysis](https://ndcbe.github.io/cbe-xx258/01.09-Functions-as-Arguments.html#1.9.2.2-Convergence-Analysis)",
     "section": "1.9.2.2 Convergence Analysis"
    }
   },
   "source": [
    "*At what rate does an approximation converge to the true solution?* is a central question in numerical analysis.\n",
    "\n",
    "Let's characterize the convergence of the midpoint approximation for this particular integral."
   ]
  },
  {
   "cell_type": "code",
   "execution_count": 20,
   "metadata": {
    "colab": {
     "base_uri": "https://localhost:8080/",
     "height": 476
    },
    "colab_type": "code",
    "executionInfo": {
     "elapsed": 16534,
     "status": "ok",
     "timestamp": 1548850774357,
     "user": {
      "displayName": "Alexander Dowling",
      "photoUrl": "https://lh3.googleusercontent.com/-LChdQ2m5OQE/AAAAAAAAAAI/AAAAAAAAAA0/JeXJe4vQJ7M/s64/photo.jpg",
      "userId": "00988067626794866502"
     },
     "user_tz": 300
    },
    "id": "U4oNbelmBPpF",
    "nbpages": {
     "level": 3,
     "link": "[1.9.2.2 Convergence Analysis](https://ndcbe.github.io/cbe-xx258/01.09-Functions-as-Arguments.html#1.9.2.2-Convergence-Analysis)",
     "section": "1.9.2.2 Convergence Analysis"
    },
    "outputId": "c36091fa-52e7-4e5a-b9e4-787198d81d43"
   },
   "outputs": [
    {
     "name": "stdout",
     "output_type": "stream",
     "text": [
      "We will consider the following values of N:\n",
      "[       1       10      100     1000    10000   100000  1000000 10000000]\n",
      " \n",
      "Considering N = 1\n",
      "Considering N = 10\n",
      "Considering N = 100\n",
      "Considering N = 1000\n",
      "Considering N = 10000\n",
      "Considering N = 100000\n",
      "Considering N = 1000000\n",
      "Considering N = 10000000\n"
     ]
    },
    {
     "data": {
      "image/png": "[encoded data removed]",
      "text/plain": [
       "<Figure size 432x288 with 1 Axes>"
      ]
     },
     "metadata": {},
     "output_type": "display_data"
    }
   ],
   "source": [
    "import math\n",
    "import numpy as np\n",
    "import matplotlib.pyplot as plt\n",
    "%matplotlib inline\n",
    "\n",
    "# Define values of N to consider\n",
    "num_intervals = 8 #number of interval sizes\n",
    "intervals = 10**np.arange(num_intervals) #run several different intervals\n",
    "print(\"We will consider the following values of N:\")\n",
    "print(intervals)\n",
    "print(\" \")\n",
    "\n",
    "\n",
    "# Allocate an array to store result\n",
    "integral_error = np.zeros(num_intervals)\n",
    "\n",
    "# Define integration limits\n",
    "a = 0\n",
    "b = np.pi\n",
    "\n",
    "# Loop over different values of N\n",
    "count = 0\n",
    "for interval in intervals:\n",
    "    print(\"Considering N =\",interval)\n",
    "    integral_error[count] = np.fabs(2 - midpoint_rule(np.sin,a,b,interval))\n",
    "    count += 1\n",
    "\n",
    "# Create figure\n",
    "fig = plt.figure()\n",
    "ax = fig.add_subplot(111)\n",
    "import matplotlib.ticker as mtick\n",
    "plt.loglog(intervals,integral_error,marker=\"o\",markersize = 10,linewidth=2);\n",
    "plt.xlabel(\"# of intervals\")\n",
    "plt.ylabel(\"Error in midpoint rule\")\n",
    "plt.axis([1,1.5e7,1.0e-13,10])\n",
    "plt.show()"
   ]
  },
  {
   "cell_type": "markdown",
   "metadata": {
    "nbpages": {
     "level": 3,
     "link": "[1.9.2.2 Convergence Analysis](https://ndcbe.github.io/cbe-xx258/01.09-Functions-as-Arguments.html#1.9.2.2-Convergence-Analysis)",
     "section": "1.9.2.2 Convergence Analysis"
    }
   },
   "source": [
    "<div style=\"background-color: rgba(0,0,255,0.05) ; padding: 10px; border: 1px solid darkblue;\"> \n",
    "<b>Class Activity</b>: Copy the code from above to below. Adapt it to analyze the integal from the previous home activity.\n",
    "</div>"
   ]
  },
  {
   "cell_type": "code",
   "execution_count": null,
   "metadata": {
    "collapsed": true,
    "nbpages": {
     "level": 3,
     "link": "[1.9.2.2 Convergence Analysis](https://ndcbe.github.io/cbe-xx258/01.09-Functions-as-Arguments.html#1.9.2.2-Convergence-Analysis)",
     "section": "1.9.2.2 Convergence Analysis"
    }
   },
   "outputs": [],
   "source": []
  },
  {
   "cell_type": "markdown",
   "metadata": {
    "nbpages": {
     "level": 3,
     "link": "[1.9.2.2 Convergence Analysis](https://ndcbe.github.io/cbe-xx258/01.09-Functions-as-Arguments.html#1.9.2.2-Convergence-Analysis)",
     "section": "1.9.2.2 Convergence Analysis"
    }
   },
   "source": [
    "<div style=\"background-color: rgba(0,0,255,0.05) ; padding: 10px; border: 1px solid darkblue;\"> \n",
    "<b>Class Activity</b>: Approximate the exponential integration function below using the midpoint formula.\n",
    "</div>"
   ]
  },
  {
   "cell_type": "markdown",
   "metadata": {
    "colab_type": "text",
    "id": "LwNkfr_RBPpI",
    "nbpages": {
     "level": 3,
     "link": "[1.9.2.2 Convergence Analysis](https://ndcbe.github.io/cbe-xx258/01.09-Functions-as-Arguments.html#1.9.2.2-Convergence-Analysis)",
     "section": "1.9.2.2 Convergence Analysis"
    }
   },
   "source": [
    "Approximate the exponential integral function:\n",
    "$$E_n(x) = \\int\\limits_1^\\infty \\frac{e^{-xt}}{t^n} ~ \\!dt ~.$$\n",
    "\n",
    "Use $N = 10^6$ element, $x=1$, $n=1$, and an upper bound of 10,000 (instead of infinity)."
   ]
  },
  {
   "cell_type": "code",
   "execution_count": 21,
   "metadata": {
    "colab": {},
    "colab_type": "code",
    "id": "Rh25d-waBPpI",
    "nbpages": {
     "level": 3,
     "link": "[1.9.2.2 Convergence Analysis](https://ndcbe.github.io/cbe-xx258/01.09-Functions-as-Arguments.html#1.9.2.2-Convergence-Analysis)",
     "section": "1.9.2.2 Convergence Analysis"
    }
   },
   "outputs": [
    {
     "name": "stdout",
     "output_type": "stream",
     "text": [
      "0.21938086941811155\n"
     ]
    }
   ],
   "source": [
    "def exp_int_argument(t,n=1,x=1):\n",
    "    ''' Exponential function integrand\n",
    "    \n",
    "    Arguments:\n",
    "        t: scalar\n",
    "        n: scalar, default is n=1\n",
    "        x: scalar, default is x=1\n",
    "    \n",
    "    Returns:\n",
    "        f: value of integrand at t,n,x\n",
    "    '''\n",
    "    \n",
    "    ###BEGIN SOLUTION\n",
    "    f = np.exp(-x*t)/t**n\n",
    "    return f\n",
    "\n",
    "approx_exp_integral = midpoint_rule(exp_int_argument, 1, 10000, 10**6)\n",
    "print(approx_exp_integral)\n",
    "###END SOLUTION\n"
   ]
  },
  {
   "cell_type": "markdown",
   "metadata": {
    "colab_type": "text",
    "id": "6o98IID9BPpM",
    "nbpages": {
     "level": 3,
     "link": "[1.9.2.2 Convergence Analysis](https://ndcbe.github.io/cbe-xx258/01.09-Functions-as-Arguments.html#1.9.2.2-Convergence-Analysis)",
     "section": "1.9.2.2 Convergence Analysis"
    }
   },
   "source": [
    "The exact answer is 0.2193839343."
   ]
  },
  {
   "cell_type": "markdown",
   "metadata": {
    "colab_type": "text",
    "id": "T3BIXk9TBPpN",
    "nbpages": {
     "level": 3,
     "link": "[1.9.2.3 A Fancier Integration Function](https://ndcbe.github.io/cbe-xx258/01.09-Functions-as-Arguments.html#1.9.2.3-A-Fancier-Integration-Function)",
     "section": "1.9.2.3 A Fancier Integration Function"
    }
   },
   "source": [
    "### 1.9.2.3 A Fancier Integration Function"
   ]
  },
  {
   "cell_type": "markdown",
   "metadata": {
    "colab_type": "text",
    "id": "NSQxKRCIBPpO",
    "nbpages": {
     "level": 3,
     "link": "[1.9.2.3 A Fancier Integration Function](https://ndcbe.github.io/cbe-xx258/01.09-Functions-as-Arguments.html#1.9.2.3-A-Fancier-Integration-Function)",
     "section": "1.9.2.3 A Fancier Integration Function"
    }
   },
   "source": [
    "Using matplotlib we can make an even fancier integration function"
   ]
  },
  {
   "cell_type": "code",
   "execution_count": 22,
   "metadata": {
    "colab": {
     "base_uri": "https://localhost:8080/",
     "height": 311
    },
    "colab_type": "code",
    "executionInfo": {
     "elapsed": 590,
     "status": "ok",
     "timestamp": 1548851335797,
     "user": {
      "displayName": "Alexander Dowling",
      "photoUrl": "https://lh3.googleusercontent.com/-LChdQ2m5OQE/AAAAAAAAAAI/AAAAAAAAAA0/JeXJe4vQJ7M/s64/photo.jpg",
      "userId": "00988067626794866502"
     },
     "user_tz": 300
    },
    "id": "FGElfOANBPpO",
    "nbpages": {
     "level": 3,
     "link": "[1.9.2.3 A Fancier Integration Function](https://ndcbe.github.io/cbe-xx258/01.09-Functions-as-Arguments.html#1.9.2.3-A-Fancier-Integration-Function)",
     "section": "1.9.2.3 A Fancier Integration Function"
    },
    "outputId": "dfbcf55f-21ce-4289-c648-5c9e86ffe4b3"
   },
   "outputs": [
    {
     "data": {
      "text/plain": [
       "-3.487868498008632e-16"
      ]
     },
     "execution_count": 22,
     "metadata": {},
     "output_type": "execute_result"
    },
    {
     "data": {
      "image/png": "[encoded data removed]",
      "text/plain": [
       "<Figure size 432x288 with 1 Axes>"
      ]
     },
     "metadata": {},
     "output_type": "display_data"
    }
   ],
   "source": [
    "import numpy as np\n",
    "import matplotlib.pyplot as plt\n",
    "%matplotlib inline\n",
    "\n",
    "def midpoint_rule_graphical(f,a,b,num_intervals,filename):\n",
    "    \"\"\"integrate function f using the midpoint rule\n",
    "\n",
    "    Args:\n",
    "        f: function to be integrated, it must take one argument\n",
    "        a: lower bound of integral range\n",
    "        b: upper bound of integral range\n",
    "        num_intervals: the number of intervals to break [a,b] into\n",
    "    Returns:\n",
    "        estimate of the integral\n",
    "    Side Effect:\n",
    "        Plots intervals and areas of midpoint rule\n",
    "    \"\"\"\n",
    "    # Create plot\n",
    "    ax = plt.subplot(111)\n",
    "    \n",
    "    # Setup, similar to previous midpoint_rule function\n",
    "    L = (b-a) #how big is the range\n",
    "    dx = L/num_intervals #how big is each interval\n",
    "    midpoints = np.arange(num_intervals)*dx+0.5*dx+a\n",
    "    x = midpoints\n",
    "    #y = np.zeros(num_intervals)\n",
    "    integral = 0\n",
    "    count = 0\n",
    "    \n",
    "    # Loop over points\n",
    "    for point in midpoints:\n",
    "        # Evaluate function f\n",
    "        #y[count] = f(point)\n",
    "        \n",
    "        # Calculate integral\n",
    "        integral = integral + f(point)\n",
    "        \n",
    "        # Calculate verticies for plots\n",
    "        verts = [(point-dx/2,0)] + [(point-dx/2,f(point))]\n",
    "        verts += [(point+dx/2,f(point))] + [(point+dx/2,0)]\n",
    "        \n",
    "        # Draw rectangles\n",
    "        poly = plt.Polygon(verts, facecolor='0.8', edgecolor='k')\n",
    "        ax.add_patch(poly)\n",
    "        \n",
    "        # Incrememnt counter\n",
    "        count += 1\n",
    "    # y = f(x)\n",
    "    \n",
    "    # Draw smooth line for f\n",
    "    smooth_x = np.linspace(a,b,10000)\n",
    "    smooth_y = f(smooth_x)\n",
    "    plt.plot(smooth_x, smooth_y, linewidth=1)\n",
    "    \n",
    "    # Add labels and title\n",
    "    plt.xlabel(\"x\")\n",
    "    plt.ylabel(\"f(x)\")\n",
    "    plt.title(\"Integral Estimate is \" + str(integral*dx))\n",
    "    \n",
    "    # Save figure\n",
    "    plt.savefig(filename)\n",
    "    \n",
    "    # Return approximation for integral\n",
    "    return integral*dx\n",
    "\n",
    "# Call function\n",
    "midpoint_rule_graphical(np.sin,0,2*np.pi,4,'C4_fig7.pdf')"
   ]
  },
  {
   "cell_type": "markdown",
   "metadata": {
    "colab_type": "text",
    "id": "CAMl3sgqBPpS",
    "nbpages": {
     "level": 3,
     "link": "[1.9.2.3 A Fancier Integration Function](https://ndcbe.github.io/cbe-xx258/01.09-Functions-as-Arguments.html#1.9.2.3-A-Fancier-Integration-Function)",
     "section": "1.9.2.3 A Fancier Integration Function"
    }
   },
   "source": [
    "<div style=\"background-color: rgba(0,0,255,0.05) ; padding: 10px; border: 1px solid darkblue;\"> \n",
    "<b>Class Activity</b>: Also apply to the previous class example. The code below will not work until <tt>exp_int_argument</tt> is defined correctly.\n",
    "</div>"
   ]
  },
  {
   "cell_type": "code",
   "execution_count": 23,
   "metadata": {
    "colab": {
     "base_uri": "https://localhost:8080/",
     "height": 328
    },
    "colab_type": "code",
    "executionInfo": {
     "elapsed": 675,
     "status": "ok",
     "timestamp": 1548851421821,
     "user": {
      "displayName": "Alexander Dowling",
      "photoUrl": "https://lh3.googleusercontent.com/-LChdQ2m5OQE/AAAAAAAAAAI/AAAAAAAAAA0/JeXJe4vQJ7M/s64/photo.jpg",
      "userId": "00988067626794866502"
     },
     "user_tz": 300
    },
    "id": "D_Veez_IBPpU",
    "nbpages": {
     "level": 3,
     "link": "[1.9.2.3 A Fancier Integration Function](https://ndcbe.github.io/cbe-xx258/01.09-Functions-as-Arguments.html#1.9.2.3-A-Fancier-Integration-Function)",
     "section": "1.9.2.3 A Fancier Integration Function"
    },
    "outputId": "45a55754-914f-406a-c15a-869d470f87c5"
   },
   "outputs": [
    {
     "name": "stdout",
     "output_type": "stream",
     "text": [
      "Answer is 0.2193839343\n",
      "Our appoximation with upper bound 5 and 100 points is 0.21818671430783745\n"
     ]
    },
    {
     "data": {
      "image/png": "[encoded data removed]",
      "text/plain": [
       "<Figure size 432x288 with 1 Axes>"
      ]
     },
     "metadata": {},
     "output_type": "display_data"
    }
   ],
   "source": [
    "num_points = 100\n",
    "upper_bound = 5\n",
    "print(\"Answer is 0.2193839343\")\n",
    "print(\"Our appoximation with upper bound\",upper_bound,\"and\",num_points,\"points is\"\n",
    "      ,midpoint_rule_graphical(exp_int_argument,1,upper_bound,num_points,'C4_fig8.pdf'))"
   ]
  },
  {
   "cell_type": "markdown",
   "metadata": {
    "colab_type": "text",
    "id": "DXv_A6SaBPpY",
    "nbpages": {
     "level": 2,
     "link": "[1.9.3 Lambda Functions](https://ndcbe.github.io/cbe-xx258/01.09-Functions-as-Arguments.html#1.9.3-Lambda-Functions)",
     "section": "1.9.3 Lambda Functions"
    }
   },
   "source": [
    "## 1.9.3 Lambda Functions"
   ]
  },
  {
   "cell_type": "markdown",
   "metadata": {
    "colab_type": "text",
    "id": "m_x53t6pBPpa",
    "nbpages": {
     "level": 2,
     "link": "[1.9.3 Lambda Functions](https://ndcbe.github.io/cbe-xx258/01.09-Functions-as-Arguments.html#1.9.3-Lambda-Functions)",
     "section": "1.9.3 Lambda Functions"
    }
   },
   "source": [
    "Python also allows you to define a **lambda function**, which is basically a one line function without the whole <tt>def</tt> business. Here's an example where the lambda function is a line."
   ]
  },
  {
   "cell_type": "code",
   "execution_count": 24,
   "metadata": {
    "colab": {},
    "colab_type": "code",
    "collapsed": true,
    "id": "212t9-TMvg8x",
    "nbpages": {
     "level": 2,
     "link": "[1.9.3 Lambda Functions](https://ndcbe.github.io/cbe-xx258/01.09-Functions-as-Arguments.html#1.9.3-Lambda-Functions)",
     "section": "1.9.3 Lambda Functions"
    }
   },
   "outputs": [],
   "source": [
    "# `Normal` function definition\n",
    "def simple_line(x):\n",
    "    '''Fill me in!!!\n",
    "    \n",
    "    '''\n",
    "    return 2.0*x + 1.0"
   ]
  },
  {
   "cell_type": "code",
   "execution_count": 25,
   "metadata": {
    "colab": {
     "base_uri": "https://localhost:8080/",
     "height": 330
    },
    "colab_type": "code",
    "executionInfo": {
     "elapsed": 485,
     "status": "ok",
     "timestamp": 1548851559789,
     "user": {
      "displayName": "Alexander Dowling",
      "photoUrl": "https://lh3.googleusercontent.com/-LChdQ2m5OQE/AAAAAAAAAAI/AAAAAAAAAA0/JeXJe4vQJ7M/s64/photo.jpg",
      "userId": "00988067626794866502"
     },
     "user_tz": 300
    },
    "id": "Hm2e0UT1BPpa",
    "nbpages": {
     "level": 2,
     "link": "[1.9.3 Lambda Functions](https://ndcbe.github.io/cbe-xx258/01.09-Functions-as-Arguments.html#1.9.3-Lambda-Functions)",
     "section": "1.9.3 Lambda Functions"
    },
    "outputId": "f16b643c-3f17-40ba-a5b8-aba8128caaf4"
   },
   "outputs": [
    {
     "name": "stdout",
     "output_type": "stream",
     "text": [
      "The line at x = 0 is 1.0\n",
      "The line at x = 1 is 3.0\n",
      "The line at x = 2 is 5.0\n"
     ]
    },
    {
     "data": {
      "image/png": "[encoded data removed]",
      "text/plain": [
       "<Figure size 432x288 with 1 Axes>"
      ]
     },
     "metadata": {},
     "output_type": "display_data"
    }
   ],
   "source": [
    "# define the function `simple_line` with a single line of code\n",
    "simple_line = lambda x: 2.0*x + 1.0\n",
    "\n",
    "# Evaluate function at three values of x\n",
    "print(\"The line at x = 0 is\", simple_line(0))\n",
    "print(\"The line at x = 1 is\", simple_line(1))\n",
    "print(\"The line at x = 2 is\", simple_line(2))\n",
    "\n",
    "# Evaluate function at many values of f\n",
    "x = np.linspace(0,6,50)\n",
    "y = simple_line(x)\n",
    "\n",
    "# Make plot\n",
    "plt.plot(x,y)\n",
    "plt.ylabel(\"y\")\n",
    "plt.xlabel(\"x\")\n",
    "plt.show()"
   ]
  },
  {
   "cell_type": "markdown",
   "metadata": {
    "colab_type": "text",
    "id": "6tv08uh5BPpc",
    "nbpages": {
     "level": 2,
     "link": "[1.9.3 Lambda Functions](https://ndcbe.github.io/cbe-xx258/01.09-Functions-as-Arguments.html#1.9.3-Lambda-Functions)",
     "section": "1.9.3 Lambda Functions"
    }
   },
   "source": [
    "Lambda functions in Python are analogous to **anonymous functions in MATLAB**."
   ]
  },
  {
   "cell_type": "markdown",
   "metadata": {
    "nbpages": {
     "level": 2,
     "link": "[1.9.3 Lambda Functions](https://ndcbe.github.io/cbe-xx258/01.09-Functions-as-Arguments.html#1.9.3-Lambda-Functions)",
     "section": "1.9.3 Lambda Functions"
    }
   },
   "source": [
    "<div style=\"background-color: rgba(0,255,0,0.05) ; padding: 10px; border: 1px solid darkgreen;\"> \n",
    "<b>Home Activity</b>: Predict the output of the code below before you run it.\n",
    "</div>"
   ]
  },
  {
   "cell_type": "code",
   "execution_count": 26,
   "metadata": {
    "nbpages": {
     "level": 2,
     "link": "[1.9.3 Lambda Functions](https://ndcbe.github.io/cbe-xx258/01.09-Functions-as-Arguments.html#1.9.3-Lambda-Functions)",
     "section": "1.9.3 Lambda Functions"
    }
   },
   "outputs": [
    {
     "name": "stdout",
     "output_type": "stream",
     "text": [
      "4\n",
      "6\n"
     ]
    }
   ],
   "source": [
    "func_1 = (lambda x: x + x)(2)\n",
    "func_2 = lambda x, y:x+y\n",
    "\n",
    "print (func_1)\n",
    "print (func_2(1,5))"
   ]
  },
  {
   "cell_type": "markdown",
   "metadata": {
    "colab_type": "text",
    "id": "zieTtP4jBPpd",
    "nbpages": {
     "level": 3,
     "link": "[1.9.3.1 Example: Lambda Functions and Midpoint Integration](https://ndcbe.github.io/cbe-xx258/01.09-Functions-as-Arguments.html#1.9.3.1-Example:-Lambda-Functions-and-Midpoint-Integration)",
     "section": "1.9.3.1 Example: Lambda Functions and Midpoint Integration"
    }
   },
   "source": [
    "### 1.9.3.1 Example: Lambda Functions and Midpoint Integration"
   ]
  },
  {
   "cell_type": "markdown",
   "metadata": {
    "colab_type": "text",
    "id": "7-jcDaZkBPpf",
    "nbpages": {
     "level": 3,
     "link": "[1.9.3.1 Example: Lambda Functions and Midpoint Integration](https://ndcbe.github.io/cbe-xx258/01.09-Functions-as-Arguments.html#1.9.3.1-Example:-Lambda-Functions-and-Midpoint-Integration)",
     "section": "1.9.3.1 Example: Lambda Functions and Midpoint Integration"
    }
   },
   "source": [
    "We can use lambda functions in our midpoint integration routine as well. Here we define a Gaussian as the integrand:\n",
    "\n",
    "$$\\int_{-\\infty}^{\\infty} \\frac{e^{-x^2}}{\\sqrt{\\pi}} dx$$\n",
    "\n",
    "The analytic answer to the integral is 1."
   ]
  },
  {
   "cell_type": "code",
   "execution_count": 27,
   "metadata": {
    "colab": {
     "base_uri": "https://localhost:8080/",
     "height": 311
    },
    "colab_type": "code",
    "executionInfo": {
     "elapsed": 507,
     "status": "ok",
     "timestamp": 1548851724133,
     "user": {
      "displayName": "Alexander Dowling",
      "photoUrl": "https://lh3.googleusercontent.com/-LChdQ2m5OQE/AAAAAAAAAAI/AAAAAAAAAA0/JeXJe4vQJ7M/s64/photo.jpg",
      "userId": "00988067626794866502"
     },
     "user_tz": 300
    },
    "id": "_YyUguPSBPpf",
    "nbpages": {
     "level": 3,
     "link": "[1.9.3.1 Example: Lambda Functions and Midpoint Integration](https://ndcbe.github.io/cbe-xx258/01.09-Functions-as-Arguments.html#1.9.3.1-Example:-Lambda-Functions-and-Midpoint-Integration)",
     "section": "1.9.3.1 Example: Lambda Functions and Midpoint Integration"
    },
    "outputId": "793be183-d569-4f94-ec62-c6f40242d5f2"
   },
   "outputs": [
    {
     "data": {
      "text/plain": [
       "0.999980808068639"
      ]
     },
     "execution_count": 27,
     "metadata": {},
     "output_type": "execute_result"
    },
    {
     "data": {
      "image/png": "[encoded data removed]",
      "text/plain": [
       "<Figure size 432x288 with 1 Axes>"
      ]
     },
     "metadata": {},
     "output_type": "display_data"
    }
   ],
   "source": [
    "# Define lambda function\n",
    "gaussian = lambda x: np.exp(-x**2)/np.sqrt(np.pi) #function to compute gaussian\n",
    "\n",
    "# Approximate integral using lambda function\n",
    "midpoint_rule_graphical(gaussian,-3,3,20,'C4-with-lambda-func.pdf')"
   ]
  },
  {
   "cell_type": "code",
   "execution_count": 28,
   "metadata": {
    "colab": {
     "base_uri": "https://localhost:8080/",
     "height": 311
    },
    "colab_type": "code",
    "executionInfo": {
     "elapsed": 590,
     "status": "ok",
     "timestamp": 1548851732347,
     "user": {
      "displayName": "Alexander Dowling",
      "photoUrl": "https://lh3.googleusercontent.com/-LChdQ2m5OQE/AAAAAAAAAAI/AAAAAAAAAA0/JeXJe4vQJ7M/s64/photo.jpg",
      "userId": "00988067626794866502"
     },
     "user_tz": 300
    },
    "id": "LnGbIlfkwZUL",
    "nbpages": {
     "level": 3,
     "link": "[1.9.3.1 Example: Lambda Functions and Midpoint Integration](https://ndcbe.github.io/cbe-xx258/01.09-Functions-as-Arguments.html#1.9.3.1-Example:-Lambda-Functions-and-Midpoint-Integration)",
     "section": "1.9.3.1 Example: Lambda Functions and Midpoint Integration"
    },
    "outputId": "2fec5b6f-8b30-402c-af5c-410b37a589b7"
   },
   "outputs": [
    {
     "data": {
      "text/plain": [
       "0.999980808068639"
      ]
     },
     "execution_count": 28,
     "metadata": {},
     "output_type": "execute_result"
    },
    {
     "data": {
      "image/png": "[encoded data removed]",
      "text/plain": [
       "<Figure size 432x288 with 1 Axes>"
      ]
     },
     "metadata": {},
     "output_type": "display_data"
    }
   ],
   "source": [
    "# Approximate integral with more manual approach\n",
    "midpoint_rule_graphical(lambda x: np.exp(-x**2)/np.sqrt(np.pi),-3,3,20,'C4-without-lambda-func.pdf')"
   ]
  },
  {
   "cell_type": "markdown",
   "metadata": {
    "colab_type": "text",
    "id": "Y9PVWLpYBPpj",
    "nbpages": {
     "level": 3,
     "link": "[1.9.3.2 4c-ii. Extension to Two Dimensional Functions](https://ndcbe.github.io/cbe-xx258/01.09-Functions-as-Arguments.html#1.9.3.2-4c-ii.-Extension-to-Two-Dimensional-Functions)",
     "section": "1.9.3.2 4c-ii. Extension to Two Dimensional Functions"
    }
   },
   "source": [
    "### 1.9.3.2 4c-ii. Extension to Two Dimensional Functions\n",
    "\n",
    "We will revisit numeric integration at the end of the semester. We can use two lambda functions to extend the midpoint rule to integrate two dimensional functions, such as\n",
    "\n",
    "$$\\int_{0}^{\\pi} \\int_{0}^{\\pi} \\sin(x) \\sin(y) dx dy ~~.$$"
   ]
  },
  {
   "cell_type": "markdown",
   "metadata": {
    "nbpages": {
     "level": 3,
     "link": "[1.9.3.2 4c-ii. Extension to Two Dimensional Functions](https://ndcbe.github.io/cbe-xx258/01.09-Functions-as-Arguments.html#1.9.3.2-4c-ii.-Extension-to-Two-Dimensional-Functions)",
     "section": "1.9.3.2 4c-ii. Extension to Two Dimensional Functions"
    }
   },
   "source": [
    "<div style=\"background-color: rgba(0,255,0,0.05) ; padding: 10px; border: 1px solid darkgreen;\"> \n",
    "<b>Home Activity</b>: Spend 5-10 minutes brainstorming how to approximate a 2 dimensional integral by calling the <tt>midpoint_rule</tt> function twice (nested).\n",
    "</div>"
   ]
  },
  {
   "cell_type": "markdown",
   "metadata": {
    "nbpages": {
     "level": 3,
     "link": "[1.9.3.2 4c-ii. Extension to Two Dimensional Functions](https://ndcbe.github.io/cbe-xx258/01.09-Functions-as-Arguments.html#1.9.3.2-4c-ii.-Extension-to-Two-Dimensional-Functions)",
     "section": "1.9.3.2 4c-ii. Extension to Two Dimensional Functions"
    }
   },
   "source": [
    "<div style=\"background-color: rgba(0,0,255,0.05) ; padding: 10px; border: 1px solid darkblue;\"> \n",
    "<b>Class Activity</b>: Walk through the code below together.\n",
    "</div>"
   ]
  },
  {
   "cell_type": "code",
   "execution_count": 29,
   "metadata": {
    "colab": {
     "base_uri": "https://localhost:8080/",
     "height": 34
    },
    "colab_type": "code",
    "executionInfo": {
     "elapsed": 3452,
     "status": "ok",
     "timestamp": 1548851829922,
     "user": {
      "displayName": "Alexander Dowling",
      "photoUrl": "https://lh3.googleusercontent.com/-LChdQ2m5OQE/AAAAAAAAAAI/AAAAAAAAAA0/JeXJe4vQJ7M/s64/photo.jpg",
      "userId": "00988067626794866502"
     },
     "user_tz": 300
    },
    "id": "PLRD7uJABPpl",
    "nbpages": {
     "level": 3,
     "link": "[1.9.3.2 4c-ii. Extension to Two Dimensional Functions](https://ndcbe.github.io/cbe-xx258/01.09-Functions-as-Arguments.html#1.9.3.2-4c-ii.-Extension-to-Two-Dimensional-Functions)",
     "section": "1.9.3.2 4c-ii. Extension to Two Dimensional Functions"
    },
    "outputId": "55f1df03-af4b-4a6a-a45a-e172728d849c"
   },
   "outputs": [
    {
     "name": "stdout",
     "output_type": "stream",
     "text": [
      "Estimate of the integral of sin(x)sin(y), over [0,pi] x [0,pi] is 4.000003289869757\n"
     ]
    }
   ],
   "source": [
    "def midpoint_2D(f,ax,bx,ay,by,num_intervals_x,num_intervals_y):\n",
    "    \"\"\"Midpoint rule extended to 2D functions\n",
    "    \n",
    "    Arguments:\n",
    "        f: function to be integrated. Takes two scalar inputs (x,y) and returns a scalar.\n",
    "        ax: lower bound for dimension 1\n",
    "        bx: upper bound for dimension 1\n",
    "        ay: lower bound for dimension 2\n",
    "        by: upper bound for dimension 2\n",
    "        num_intervals_x: number of intervals for dimension 1\n",
    "        num_intervals_y: number of intervals for dimension 2\n",
    "    \n",
    "    Returns:\n",
    "        approximation to integral (scalar)\n",
    "    \n",
    "    \"\"\"\n",
    "    \n",
    "    # For a given y, calculate the integral in dimension 1 (from ax to bx) using midpoint rule\n",
    "    integral_over_x = lambda y: midpoint_rule(lambda x: f(x,y),ax,bx,num_intervals_x)\n",
    "    \n",
    "    # Apply midpoint rule to dimension 2\n",
    "    return midpoint_rule(integral_over_x,ay,by,num_intervals_y)\n",
    "\n",
    "# \n",
    "sin2 = lambda x,y:np.sin(x)*np.sin(y)\n",
    "print(\"Estimate of the integral of sin(x)sin(y), over [0,pi] x [0,pi] is\",\n",
    "      midpoint_2D(sin2,0,np.pi,0,np.pi,1000,1000))"
   ]
  },
  {
   "cell_type": "markdown",
   "metadata": {
    "colab_type": "text",
    "id": "NYDCkKKkBPpn",
    "nbpages": {
     "level": 3,
     "link": "[1.9.3.2 4c-ii. Extension to Two Dimensional Functions](https://ndcbe.github.io/cbe-xx258/01.09-Functions-as-Arguments.html#1.9.3.2-4c-ii.-Extension-to-Two-Dimensional-Functions)",
     "section": "1.9.3.2 4c-ii. Extension to Two Dimensional Functions"
    }
   },
   "source": [
    "This code snippet defines one lambda function that takes care of the x argument to f, and another that defines the integral over x for a given y, this second function is passed to the midpoint rule. \n",
    "\n",
    "The way that this works is that when the second midpoint rule evaluates <tt>integral_over_x</tt> at a certain point in y, it evaluates the integral over all x at that point. "
   ]
  },
  {
   "cell_type": "markdown",
   "metadata": {},
   "source": [
    "<!--NAVIGATION-->\n",
    "< [1.8 Manipulating Data with Pandas](https://ndcbe.github.io/cbe-xx258/01.08-Pandas.html) | [Contents](toc.html) | [1.10 Testing and Debugging in Python](https://ndcbe.github.io/cbe-xx258/01.10-Testing-and-Debugging.html) ><p><a href=\"https://colab.research.google.com/github/ndcbe/cbe-xx258/blob/master/docs/01.09-Functions-as-Arguments.ipynb\"> <img align=\"left\" src=\"https://colab.research.google.com/assets/colab-badge.svg\" alt=\"Open in Colab\" title=\"Open in Google Colaboratory\"></a><p><a href=\"https://ndcbe.github.io/cbe-xx258/01.09-Functions-as-Arguments.ipynb\"> <img align=\"left\" src=\"https://img.shields.io/badge/Github-Download-blue.svg\" alt=\"Download\" title=\"Download Notebook\"></a>"
   ]
  }
 ],
 "metadata": {
  "colab": {
   "collapsed_sections": [
    "EjPprXYjBPog",
    "JKLdQ1x6BPom"
   ],
   "name": "L5-Dictionaries-and-Functions-as-Arguments.ipynb",
   "provenance": [],
   "version": "0.3.2"
  },
  "kernelspec": {
   "display_name": "Python 3",
   "language": "python",
   "name": "python3"
  },
  "language_info": {
   "codemirror_mode": {
    "name": "ipython",
    "version": 3
   },
   "file_extension": ".py",
   "mimetype": "text/x-python",
   "name": "python",
   "nbconvert_exporter": "python",
   "pygments_lexer": "ipython3",
   "version": "3.7.3"
  }
 },
 "nbformat": 4,
 "nbformat_minor": 2
}
