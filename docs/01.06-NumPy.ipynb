{
 "cells": [
  {
   "cell_type": "markdown",
   "metadata": {},
   "source": [
    "<!--NOTEBOOK_HEADER-->*This notebook contains material for CBE 20258 Numerical and Statistical Analysis taught at the University of Notre Dame. (c) Professors Alexander Dowling, Ryan McClarren, and Yamil Colón. This page [cbe-xx258](https://ndcbe.github.io/cbe-xx258) in addition to the entire course contents are available [on Github](https://github.com/ndcbe/cbe-xx258).*\n"
   ]
  },
  {
   "cell_type": "markdown",
   "metadata": {},
   "source": [
    "<!--NAVIGATION-->\n",
    "< [1.5 List, Dictionaries, and Enumeration](https://ndcbe.github.io/cbe-xx258/01.05-Lists-Dictionaries-Enumerate.html) | [Contents](toc.html) | [1.7 Visualization with matplotlib](https://ndcbe.github.io/cbe-xx258/01.07-Matplotlib.html) ><p><a href=\"https://colab.research.google.com/github/ndcbe/cbe-xx258/blob/master/docs/01.06-NumPy.ipynb\"> <img align=\"left\" src=\"https://colab.research.google.com/assets/colab-badge.svg\" alt=\"Open in Colab\" title=\"Open in Google Colaboratory\"></a><p><a href=\"https://ndcbe.github.io/cbe-xx258/01.06-NumPy.ipynb\"> <img align=\"left\" src=\"https://img.shields.io/badge/Github-Download-blue.svg\" alt=\"Download\" title=\"Download Notebook\"></a>"
   ]
  },
  {
   "cell_type": "markdown",
   "metadata": {
    "colab_type": "text",
    "id": "MElKNIbuqnWJ",
    "nbpages": {
     "level": 1,
     "link": "[1.6 Linear Algebra with Numpy and Scipy](https://ndcbe.github.io/cbe-xx258/01.06-NumPy.html#1.6-Linear-Algebra-with-Numpy-and-Scipy)",
     "section": "1.6 Linear Algebra with Numpy and Scipy"
    }
   },
   "source": [
    "# 1.6 Linear Algebra with Numpy and Scipy\n",
    "\n",
    "**Reference**: Chapter 1 of *Computational Nuclear Engineering and Radiological Science Using Python*, R. McClarren (2018)"
   ]
  },
  {
   "cell_type": "markdown",
   "metadata": {
    "colab_type": "text",
    "id": "OS9TuD7EhSZQ",
    "nbpages": {
     "level": 2,
     "link": "[1.6.1 Learning Objectives](https://ndcbe.github.io/cbe-xx258/01.06-NumPy.html#1.6.1-Learning-Objectives)",
     "section": "1.6.1 Learning Objectives"
    }
   },
   "source": [
    "## 1.6.1 Learning Objectives\n",
    "After studying this notebook, completing the activities, and asking questions in class, you should be able to:\n",
    "* Create, manipulate, and use NumPy arrays\n",
    " * Explain scoping rules for arrays in Python\n",
    " * Perform element-wise and matrix operations with arrays\n",
    " * Access elements of an array with indices and slices\n",
    " * Iterate over elements of an array with for loops"
   ]
  },
  {
   "cell_type": "markdown",
   "metadata": {
    "colab_type": "text",
    "id": "qUr_ziKTqnWL",
    "nbpages": {
     "level": 2,
     "link": "[1.6.2 NumPy Arrays](https://ndcbe.github.io/cbe-xx258/01.06-NumPy.html#1.6.2-NumPy-Arrays)",
     "section": "1.6.2 NumPy Arrays"
    }
   },
   "source": [
    "## 1.6.2 NumPy Arrays"
   ]
  },
  {
   "cell_type": "markdown",
   "metadata": {
    "colab_type": "text",
    "id": "U7VGvVepqnWM",
    "nbpages": {
     "level": 2,
     "link": "[1.6.2 NumPy Arrays](https://ndcbe.github.io/cbe-xx258/01.06-NumPy.html#1.6.2-NumPy-Arrays)",
     "section": "1.6.2 NumPy Arrays"
    }
   },
   "source": [
    "So far, we have discussed lists, which are containers that hold any type of Python object such as strings, floats, integers, other lists, etc.\n",
    "\n",
    "As engineers, we often want to store floating point numbers in vectors and matrices to perform linear algebra calculations. In this class, we will use **NumPy**. For a less engineering specific tutorial on NumPy, see https://docs.scipy.org/doc/numpy-1.15.0/user/quickstart.html\n",
    "\n",
    "The basic unit in numpy is a multi-dimensional array:\n",
    "* A one-dimensional (1-D) array is a **vector**\n",
    "* A 2-D array is a **matrix**\n",
    "* A 3-D array is a vector of matrices\n",
    "* etc"
   ]
  },
  {
   "cell_type": "markdown",
   "metadata": {
    "nbpages": {
     "level": 3,
     "link": "[1.6.2.1 Getting Started](https://ndcbe.github.io/cbe-xx258/01.06-NumPy.html#1.6.2.1-Getting-Started)",
     "section": "1.6.2.1 Getting Started"
    }
   },
   "source": [
    "### 1.6.2.1 Getting Started"
   ]
  },
  {
   "cell_type": "markdown",
   "metadata": {
    "nbpages": {
     "level": 3,
     "link": "[1.6.2.1 Getting Started](https://ndcbe.github.io/cbe-xx258/01.06-NumPy.html#1.6.2.1-Getting-Started)",
     "section": "1.6.2.1 Getting Started"
    }
   },
   "source": [
    "We'll start by loading the numpy module (a.k.a. library)."
   ]
  },
  {
   "cell_type": "code",
   "execution_count": 4,
   "metadata": {
    "collapsed": true,
    "nbpages": {
     "level": 3,
     "link": "[1.6.2.1 Getting Started](https://ndcbe.github.io/cbe-xx258/01.06-NumPy.html#1.6.2.1-Getting-Started)",
     "section": "1.6.2.1 Getting Started"
    }
   },
   "outputs": [],
   "source": [
    "# Import the numpy module (a.k.a library) and give it the \"nickname\" np\n",
    "# Warning: Do not modify this line. The autograde assumes numpy is loades as 'np'\n",
    "import numpy as np"
   ]
  },
  {
   "cell_type": "markdown",
   "metadata": {
    "nbpages": {
     "level": 3,
     "link": "[1.6.2.1 Getting Started](https://ndcbe.github.io/cbe-xx258/01.06-NumPy.html#1.6.2.1-Getting-Started)",
     "section": "1.6.2.1 Getting Started"
    }
   },
   "source": [
    "We can now write `np.` to call functions in the numpy library (a.k.a. module). You'll see we place a few standard import statements at the top of most notebooks in this class."
   ]
  },
  {
   "cell_type": "code",
   "execution_count": 5,
   "metadata": {
    "colab": {
     "base_uri": "https://localhost:8080/",
     "height": 104
    },
    "colab_type": "code",
    "executionInfo": {
     "elapsed": 222,
     "status": "ok",
     "timestamp": 1548343368881,
     "user": {
      "displayName": "Alexander Dowling",
      "photoUrl": "https://lh3.googleusercontent.com/-LChdQ2m5OQE/AAAAAAAAAAI/AAAAAAAAAA0/JeXJe4vQJ7M/s64/photo.jpg",
      "userId": "00988067626794866502"
     },
     "user_tz": 300
    },
    "id": "g9x9LjJ9qnWN",
    "nbpages": {
     "level": 3,
     "link": "[1.6.2.1 Getting Started](https://ndcbe.github.io/cbe-xx258/01.06-NumPy.html#1.6.2.1-Getting-Started)",
     "section": "1.6.2.1 Getting Started"
    },
    "outputId": "abef1bed-e788-44cf-c253-2e7c1dbd5be4"
   },
   "outputs": [
    {
     "name": "stdout",
     "output_type": "stream",
     "text": [
      "The vector [1 2 3 4]\n",
      "The matrix\n",
      " [[1 2 3]\n",
      " [4 5 6]\n",
      " [7 8 9]]\n"
     ]
    }
   ],
   "source": [
    "# Create a vector\n",
    "a_vector = np.array([1,2,3,4])\n",
    "\n",
    "# Create a matrix\n",
    "a_matrix = np.array([(1,2,3),(4,5,6),(7,8,9)])\n",
    "\n",
    "# Print to the screen\n",
    "print(\"The vector\",a_vector)\n",
    "print(\"The matrix\\n\",a_matrix)"
   ]
  },
  {
   "cell_type": "markdown",
   "metadata": {
    "colab_type": "text",
    "id": "o0GjLpF5qnWR",
    "nbpages": {
     "level": 3,
     "link": "[1.6.2.1 Getting Started](https://ndcbe.github.io/cbe-xx258/01.06-NumPy.html#1.6.2.1-Getting-Started)",
     "section": "1.6.2.1 Getting Started"
    }
   },
   "source": [
    "Arrays have several **attributes** that you can use to find out information regarding the array you're working with."
   ]
  },
  {
   "cell_type": "code",
   "execution_count": 6,
   "metadata": {
    "colab": {
     "base_uri": "https://localhost:8080/",
     "height": 52
    },
    "colab_type": "code",
    "executionInfo": {
     "elapsed": 349,
     "status": "ok",
     "timestamp": 1548343428032,
     "user": {
      "displayName": "Alexander Dowling",
      "photoUrl": "https://lh3.googleusercontent.com/-LChdQ2m5OQE/AAAAAAAAAAI/AAAAAAAAAA0/JeXJe4vQJ7M/s64/photo.jpg",
      "userId": "00988067626794866502"
     },
     "user_tz": 300
    },
    "id": "qsg8MLrXqnWS",
    "nbpages": {
     "level": 3,
     "link": "[1.6.2.1 Getting Started](https://ndcbe.github.io/cbe-xx258/01.06-NumPy.html#1.6.2.1-Getting-Started)",
     "section": "1.6.2.1 Getting Started"
    },
    "outputId": "8f9f7c51-3907-4e7b-a0a7-7d34db98d936"
   },
   "outputs": [
    {
     "name": "stdout",
     "output_type": "stream",
     "text": [
      "The shape of a_vector is  (4,)\n",
      "The shape of a_matrix is  (3, 3)\n"
     ]
    }
   ],
   "source": [
    "#shape tells you the shape\n",
    "print(\"The shape of a_vector is \", a_vector.shape)\n",
    "print(\"The shape of a_matrix is \", a_matrix.shape)"
   ]
  },
  {
   "cell_type": "code",
   "execution_count": 7,
   "metadata": {
    "colab": {
     "base_uri": "https://localhost:8080/",
     "height": 52
    },
    "colab_type": "code",
    "executionInfo": {
     "elapsed": 235,
     "status": "ok",
     "timestamp": 1548343447541,
     "user": {
      "displayName": "Alexander Dowling",
      "photoUrl": "https://lh3.googleusercontent.com/-LChdQ2m5OQE/AAAAAAAAAAI/AAAAAAAAAA0/JeXJe4vQJ7M/s64/photo.jpg",
      "userId": "00988067626794866502"
     },
     "user_tz": 300
    },
    "id": "FJPmLTRgqnWU",
    "nbpages": {
     "level": 3,
     "link": "[1.6.2.1 Getting Started](https://ndcbe.github.io/cbe-xx258/01.06-NumPy.html#1.6.2.1-Getting-Started)",
     "section": "1.6.2.1 Getting Started"
    },
    "outputId": "c6e859e6-4fc4-4c9d-de50-ff83e97835b0"
   },
   "outputs": [
    {
     "name": "stdout",
     "output_type": "stream",
     "text": [
      "The dimension of a_vector is  1\n",
      "The dimension of a_matrix is  2\n"
     ]
    }
   ],
   "source": [
    "#ndim tells you the dimensionality of an array\n",
    "print(\"The dimension of a_vector is \", a_vector.ndim)\n",
    "print(\"The dimension of a_matrix is \", a_matrix.ndim)"
   ]
  },
  {
   "cell_type": "code",
   "execution_count": 8,
   "metadata": {
    "colab": {
     "base_uri": "https://localhost:8080/",
     "height": 52
    },
    "colab_type": "code",
    "executionInfo": {
     "elapsed": 349,
     "status": "ok",
     "timestamp": 1548343461935,
     "user": {
      "displayName": "Alexander Dowling",
      "photoUrl": "https://lh3.googleusercontent.com/-LChdQ2m5OQE/AAAAAAAAAAI/AAAAAAAAAA0/JeXJe4vQJ7M/s64/photo.jpg",
      "userId": "00988067626794866502"
     },
     "user_tz": 300
    },
    "id": "rOL818DSqnWX",
    "nbpages": {
     "level": 3,
     "link": "[1.6.2.1 Getting Started](https://ndcbe.github.io/cbe-xx258/01.06-NumPy.html#1.6.2.1-Getting-Started)",
     "section": "1.6.2.1 Getting Started"
    },
    "outputId": "5bec0c0d-e27a-4ba8-a20c-0ce9146bf8fc"
   },
   "outputs": [
    {
     "name": "stdout",
     "output_type": "stream",
     "text": [
      "The size of a_vector is  4 =  4\n",
      "The size of a_matrix is  9 = 3 * 3\n"
     ]
    }
   ],
   "source": [
    "#size is the total number of elements = \n",
    "#the product of the number of elements in each dimension\n",
    "print(\"The size of a_vector is \", a_vector.size,\"= \",\n",
    "      a_vector.shape[0])\n",
    "print(\"The size of a_matrix is \", a_matrix.size,\"=\",\n",
    "      a_matrix.shape[0],\"*\",a_matrix.shape[1])"
   ]
  },
  {
   "cell_type": "markdown",
   "metadata": {
    "nbpages": {
     "level": 3,
     "link": "[1.6.2.1 Getting Started](https://ndcbe.github.io/cbe-xx258/01.06-NumPy.html#1.6.2.1-Getting-Started)",
     "section": "1.6.2.1 Getting Started"
    }
   },
   "source": [
    "Notice that `a_matrix.shape` is a list. We can access the number of rows with `a_matrix.shape[0]` and the number of columns with `a_matrix.shape[1]`."
   ]
  },
  {
   "cell_type": "markdown",
   "metadata": {
    "nbpages": {
     "level": 3,
     "link": "[1.6.2.1 Getting Started](https://ndcbe.github.io/cbe-xx258/01.06-NumPy.html#1.6.2.1-Getting-Started)",
     "section": "1.6.2.1 Getting Started"
    }
   },
   "source": [
    "<div style=\"background-color: rgba(0,255,0,0.05) ; padding: 10px; border: 1px solid darkgreen;\"> \n",
    "<b>Home Activity</b>: Create the array shown below and store it in the variable <tt>my_array</tt>.\n",
    "</div>"
   ]
  },
  {
   "cell_type": "markdown",
   "metadata": {
    "nbpages": {
     "level": 3,
     "link": "[1.6.2.1 Getting Started](https://ndcbe.github.io/cbe-xx258/01.06-NumPy.html#1.6.2.1-Getting-Started)",
     "section": "1.6.2.1 Getting Started"
    }
   },
   "source": [
    "$$ A = \\begin{bmatrix} 1 & 2 \\\\ 3 & 1 \\\\ 9 & 2 \\end{bmatrix} $$"
   ]
  },
  {
   "cell_type": "code",
   "execution_count": 9,
   "metadata": {
    "nbpages": {
     "level": 3,
     "link": "[1.6.2.1 Getting Started](https://ndcbe.github.io/cbe-xx258/01.06-NumPy.html#1.6.2.1-Getting-Started)",
     "section": "1.6.2.1 Getting Started"
    }
   },
   "outputs": [
    {
     "name": "stdout",
     "output_type": "stream",
     "text": [
      "[[1 2]\n",
      " [3 1]\n",
      " [9 2]]\n"
     ]
    }
   ],
   "source": [
    "# YOUR SOLUTION HERE"
   ]
  },
  {
   "cell_type": "code",
   "execution_count": 10,
   "metadata": {
    "collapsed": true,
    "nbgrader": {
     "grade": true,
     "grade_id": "3a-i",
     "locked": true,
     "points": "0.1",
     "solution": false
    },
    "nbpages": {
     "level": 3,
     "link": "[1.6.2.1 Getting Started](https://ndcbe.github.io/cbe-xx258/01.06-NumPy.html#1.6.2.1-Getting-Started)",
     "section": "1.6.2.1 Getting Started"
    }
   },
   "outputs": [],
   "source": []
  },
  {
   "cell_type": "markdown",
   "metadata": {
    "nbpages": {
     "level": 3,
     "link": "[1.6.2.1 Getting Started](https://ndcbe.github.io/cbe-xx258/01.06-NumPy.html#1.6.2.1-Getting-Started)",
     "section": "1.6.2.1 Getting Started"
    }
   },
   "source": [
    "You can also re-size an array after you create it:"
   ]
  },
  {
   "cell_type": "code",
   "execution_count": 11,
   "metadata": {
    "colab": {
     "base_uri": "https://localhost:8080/",
     "height": 121
    },
    "colab_type": "code",
    "executionInfo": {
     "elapsed": 340,
     "status": "ok",
     "timestamp": 1548343510838,
     "user": {
      "displayName": "Alexander Dowling",
      "photoUrl": "https://lh3.googleusercontent.com/-LChdQ2m5OQE/AAAAAAAAAAI/AAAAAAAAAA0/JeXJe4vQJ7M/s64/photo.jpg",
      "userId": "00988067626794866502"
     },
     "user_tz": 300
    },
    "id": "KsU3Wdd3qnWZ",
    "nbpages": {
     "level": 3,
     "link": "[1.6.2.1 Getting Started](https://ndcbe.github.io/cbe-xx258/01.06-NumPy.html#1.6.2.1-Getting-Started)",
     "section": "1.6.2.1 Getting Started"
    },
    "outputId": "ebc21e24-ec8e-4b86-b04f-78a751df48ca"
   },
   "outputs": [
    {
     "name": "stdout",
     "output_type": "stream",
     "text": [
      "A is now a vector [2 4 6 8] \n",
      "\n",
      "A is now a matrix\n",
      " [[2 4]\n",
      " [6 8]]\n",
      "\n",
      "Now let's shape A back to a vector\n",
      "[2 4 6 8]\n"
     ]
    }
   ],
   "source": [
    "A = np.array([2,4,6,8])\n",
    "print(\"A is now a vector\",A,\"\\n\")\n",
    "A = A.reshape(2,2)\n",
    "print(\"A is now a matrix\\n\",A)\n",
    "print(\"\\nNow let's shape A back to a vector\")\n",
    "print(A.reshape(4))"
   ]
  },
  {
   "cell_type": "markdown",
   "metadata": {
    "nbpages": {
     "level": 3,
     "link": "[1.6.2.1 Getting Started](https://ndcbe.github.io/cbe-xx258/01.06-NumPy.html#1.6.2.1-Getting-Started)",
     "section": "1.6.2.1 Getting Started"
    }
   },
   "source": [
    "Notice how I needed to assign ``A`` with the reshaped array.  We'll talk more about this later. \n",
    "\n",
    "We can resize `my_array` by stacking the 1st row followed by the 2nd row followed by the 3rd row:"
   ]
  },
  {
   "cell_type": "code",
   "execution_count": 12,
   "metadata": {
    "nbpages": {
     "level": 3,
     "link": "[1.6.2.1 Getting Started](https://ndcbe.github.io/cbe-xx258/01.06-NumPy.html#1.6.2.1-Getting-Started)",
     "section": "1.6.2.1 Getting Started"
    }
   },
   "outputs": [
    {
     "name": "stdout",
     "output_type": "stream",
     "text": [
      "Before:\n",
      "[[1 2]\n",
      " [3 1]\n",
      " [9 2]]\n",
      "\n",
      "After stacking:\n",
      "[1 2 3 1 9 2]\n"
     ]
    }
   ],
   "source": [
    "print(\"Before:\")\n",
    "print(my_array)\n",
    "\n",
    "print(\"\\nAfter stacking:\")\n",
    "print(my_array.reshape(6))"
   ]
  },
  {
   "cell_type": "markdown",
   "metadata": {
    "nbpages": {
     "level": 3,
     "link": "[1.6.2.1 Getting Started](https://ndcbe.github.io/cbe-xx258/01.06-NumPy.html#1.6.2.1-Getting-Started)",
     "section": "1.6.2.1 Getting Started"
    }
   },
   "source": [
    "We can resize `my_array` by stacking the 2nd column under the first column."
   ]
  },
  {
   "cell_type": "code",
   "execution_count": 13,
   "metadata": {
    "nbpages": {
     "level": 3,
     "link": "[1.6.2.1 Getting Started](https://ndcbe.github.io/cbe-xx258/01.06-NumPy.html#1.6.2.1-Getting-Started)",
     "section": "1.6.2.1 Getting Started"
    }
   },
   "outputs": [
    {
     "data": {
      "text/plain": [
       "array([1, 3, 9, 2, 1, 2])"
      ]
     },
     "execution_count": 13,
     "metadata": {},
     "output_type": "execute_result"
    }
   ],
   "source": [
    "my_array.reshape(6,order='F')"
   ]
  },
  {
   "cell_type": "markdown",
   "metadata": {
    "nbpages": {
     "level": 3,
     "link": "[1.6.2.1 Getting Started](https://ndcbe.github.io/cbe-xx258/01.06-NumPy.html#1.6.2.1-Getting-Started)",
     "section": "1.6.2.1 Getting Started"
    }
   },
   "source": [
    "I want to highlight two things in the above example:\n",
    "1. NumPy does not distinguish between a row vector and a column vector.\n",
    "2. Specifying `order='F'` stacks by columns, which seems strange at first glance.\n",
    "\n",
    "Regarding 2., a quick check of the documentation, https://docs.scipy.org/doc/numpy/reference/generated/numpy.reshape.html, reveals that `order='C'` is the default. Moreover, `'C'` if shorthand for C-style stacking and `'F'` if short for Fortan-style stacking. C and Fortran are two mature (read \"old\") and popular programming languages for scientific computing. They use different conventions for storing arrays in memory, which means different stacking styles. The main take away is, *why in doubt, peek at the documentation*."
   ]
  },
  {
   "cell_type": "markdown",
   "metadata": {
    "colab_type": "text",
    "id": "BZUyHQ_ZqnWb",
    "nbpages": {
     "level": 3,
     "link": "[1.6.2.2 Creating Arrays in Neat Ways](https://ndcbe.github.io/cbe-xx258/01.06-NumPy.html#1.6.2.2-Creating-Arrays-in-Neat-Ways)",
     "section": "1.6.2.2 Creating Arrays in Neat Ways"
    }
   },
   "source": [
    "### 1.6.2.2 Creating Arrays in Neat Ways"
   ]
  },
  {
   "cell_type": "markdown",
   "metadata": {
    "colab_type": "text",
    "id": "oLrSf-Q5qnWc",
    "nbpages": {
     "level": 3,
     "link": "[1.6.2.2 Creating Arrays in Neat Ways](https://ndcbe.github.io/cbe-xx258/01.06-NumPy.html#1.6.2.2-Creating-Arrays-in-Neat-Ways)",
     "section": "1.6.2.2 Creating Arrays in Neat Ways"
    }
   },
   "source": [
    "The ``arange`` is a Numpy variant of the ``range`` we saw earlier. "
   ]
  },
  {
   "cell_type": "code",
   "execution_count": 14,
   "metadata": {
    "colab": {
     "base_uri": "https://localhost:8080/",
     "height": 87
    },
    "colab_type": "code",
    "executionInfo": {
     "elapsed": 366,
     "status": "ok",
     "timestamp": 1548343545872,
     "user": {
      "displayName": "Alexander Dowling",
      "photoUrl": "https://lh3.googleusercontent.com/-LChdQ2m5OQE/AAAAAAAAAAI/AAAAAAAAAA0/JeXJe4vQJ7M/s64/photo.jpg",
      "userId": "00988067626794866502"
     },
     "user_tz": 300
    },
    "id": "2mU81aSgqnWd",
    "nbpages": {
     "level": 3,
     "link": "[1.6.2.2 Creating Arrays in Neat Ways](https://ndcbe.github.io/cbe-xx258/01.06-NumPy.html#1.6.2.2-Creating-Arrays-in-Neat-Ways)",
     "section": "1.6.2.2 Creating Arrays in Neat Ways"
    },
    "outputId": "f4b57ea1-339e-4ac1-d1ff-4be2caecd595"
   },
   "outputs": [
    {
     "name": "stdout",
     "output_type": "stream",
     "text": [
      "[0.  0.1 0.2 0.3 0.4 0.5 0.6 0.7 0.8 0.9 1.  1.1 1.2 1.3 1.4 1.5 1.6 1.7\n",
      " 1.8 1.9 2.  2.1 2.2 2.3 2.4 2.5 2.6 2.7 2.8 2.9 3.  3.1 3.2 3.3 3.4 3.5\n",
      " 3.6 3.7 3.8 3.9 4.  4.1 4.2 4.3 4.4 4.5 4.6 4.7 4.8 4.9 5.  5.1 5.2 5.3\n",
      " 5.4 5.5 5.6 5.7 5.8 5.9 6.  6.1 6.2]\n"
     ]
    }
   ],
   "source": [
    "#let's make a vector from 0 to 2*pi in intervals of 0.1\n",
    "dx = 0.1\n",
    "X = np.arange(0,2*np.pi,dx)\n",
    "print(X)"
   ]
  },
  {
   "cell_type": "markdown",
   "metadata": {
    "colab_type": "text",
    "id": "xTOovzdzqnWh",
    "nbpages": {
     "level": 3,
     "link": "[1.6.2.2 Creating Arrays in Neat Ways](https://ndcbe.github.io/cbe-xx258/01.06-NumPy.html#1.6.2.2-Creating-Arrays-in-Neat-Ways)",
     "section": "1.6.2.2 Creating Arrays in Neat Ways"
    }
   },
   "source": [
    "Typically, however, the ``linspace`` function is actually what you want."
   ]
  },
  {
   "cell_type": "code",
   "execution_count": 15,
   "metadata": {
    "colab": {
     "base_uri": "https://localhost:8080/",
     "height": 208
    },
    "colab_type": "code",
    "executionInfo": {
     "elapsed": 348,
     "status": "ok",
     "timestamp": 1548343585263,
     "user": {
      "displayName": "Alexander Dowling",
      "photoUrl": "https://lh3.googleusercontent.com/-LChdQ2m5OQE/AAAAAAAAAAI/AAAAAAAAAA0/JeXJe4vQJ7M/s64/photo.jpg",
      "userId": "00988067626794866502"
     },
     "user_tz": 300
    },
    "id": "NFgaVYPsqnWh",
    "nbpages": {
     "level": 3,
     "link": "[1.6.2.2 Creating Arrays in Neat Ways](https://ndcbe.github.io/cbe-xx258/01.06-NumPy.html#1.6.2.2-Creating-Arrays-in-Neat-Ways)",
     "section": "1.6.2.2 Creating Arrays in Neat Ways"
    },
    "outputId": "c6371ac5-9c83-4ebb-8743-f3154faa39df"
   },
   "outputs": [
    {
     "name": "stdout",
     "output_type": "stream",
     "text": [
      "[0.         0.10300304 0.20600608 0.30900911 0.41201215 0.51501519\n",
      " 0.61801823 0.72102126 0.8240243  0.92702734 1.03003038 1.13303342\n",
      " 1.23603645 1.33903949 1.44204253 1.54504557 1.64804861 1.75105164\n",
      " 1.85405468 1.95705772 2.06006076 2.16306379 2.26606683 2.36906987\n",
      " 2.47207291 2.57507595 2.67807898 2.78108202 2.88408506 2.9870881\n",
      " 3.09009113 3.19309417 3.29609721 3.39910025 3.50210329 3.60510632\n",
      " 3.70810936 3.8111124  3.91411544 4.01711848 4.12012151 4.22312455\n",
      " 4.32612759 4.42913063 4.53213366 4.6351367  4.73813974 4.84114278\n",
      " 4.94414582 5.04714885 5.15015189 5.25315493 5.35615797 5.459161\n",
      " 5.56216404 5.66516708 5.76817012 5.87117316 5.97417619 6.07717923\n",
      " 6.18018227 6.28318531]\n"
     ]
    }
   ],
   "source": [
    "X = np.linspace(start = 0, stop = 2*np.pi, num = 62)\n",
    "print(X)"
   ]
  },
  {
   "cell_type": "markdown",
   "metadata": {
    "colab_type": "text",
    "id": "T9njl1VSqnWk",
    "nbpages": {
     "level": 3,
     "link": "[1.6.2.2 Creating Arrays in Neat Ways](https://ndcbe.github.io/cbe-xx258/01.06-NumPy.html#1.6.2.2-Creating-Arrays-in-Neat-Ways)",
     "section": "1.6.2.2 Creating Arrays in Neat Ways"
    }
   },
   "source": [
    "Notice how it starts and ends exactly where I told it to."
   ]
  },
  {
   "cell_type": "markdown",
   "metadata": {
    "colab_type": "text",
    "id": "KsEL6BgZqnWk",
    "nbpages": {
     "level": 3,
     "link": "[1.6.2.2 Creating Arrays in Neat Ways](https://ndcbe.github.io/cbe-xx258/01.06-NumPy.html#1.6.2.2-Creating-Arrays-in-Neat-Ways)",
     "section": "1.6.2.2 Creating Arrays in Neat Ways"
    }
   },
   "source": [
    "If you want an array of zeros or ones, NumPy has a function for you."
   ]
  },
  {
   "cell_type": "code",
   "execution_count": 16,
   "metadata": {
    "colab": {
     "base_uri": "https://localhost:8080/",
     "height": 121
    },
    "colab_type": "code",
    "executionInfo": {
     "elapsed": 262,
     "status": "ok",
     "timestamp": 1548343626286,
     "user": {
      "displayName": "Alexander Dowling",
      "photoUrl": "https://lh3.googleusercontent.com/-LChdQ2m5OQE/AAAAAAAAAAI/AAAAAAAAAA0/JeXJe4vQJ7M/s64/photo.jpg",
      "userId": "00988067626794866502"
     },
     "user_tz": 300
    },
    "id": "V6wYkOtsqnWl",
    "nbpages": {
     "level": 3,
     "link": "[1.6.2.2 Creating Arrays in Neat Ways](https://ndcbe.github.io/cbe-xx258/01.06-NumPy.html#1.6.2.2-Creating-Arrays-in-Neat-Ways)",
     "section": "1.6.2.2 Creating Arrays in Neat Ways"
    },
    "outputId": "696adbbf-56da-4e62-d7c5-85aa1015978a"
   },
   "outputs": [
    {
     "name": "stdout",
     "output_type": "stream",
     "text": [
      "The zero vector: [0. 0. 0. 0. 0. 0. 0. 0. 0. 0.]\n",
      "The zero matrix\n",
      " [[0. 0. 0. 0.]\n",
      " [0. 0. 0. 0.]\n",
      " [0. 0. 0. 0.]\n",
      " [0. 0. 0. 0.]]\n"
     ]
    }
   ],
   "source": [
    "zero_vector = np.zeros(10) #vector of length 10\n",
    "zero_matrix = np.zeros((4,4)) #4 by 4 matrix\n",
    "print(\"The zero vector:\",zero_vector)\n",
    "print(\"The zero matrix\\n\",zero_matrix)"
   ]
  },
  {
   "cell_type": "code",
   "execution_count": 17,
   "metadata": {
    "colab": {
     "base_uri": "https://localhost:8080/",
     "height": 121
    },
    "colab_type": "code",
    "executionInfo": {
     "elapsed": 333,
     "status": "ok",
     "timestamp": 1548343636748,
     "user": {
      "displayName": "Alexander Dowling",
      "photoUrl": "https://lh3.googleusercontent.com/-LChdQ2m5OQE/AAAAAAAAAAI/AAAAAAAAAA0/JeXJe4vQJ7M/s64/photo.jpg",
      "userId": "00988067626794866502"
     },
     "user_tz": 300
    },
    "id": "qCuLqbNdqnWn",
    "nbpages": {
     "level": 3,
     "link": "[1.6.2.2 Creating Arrays in Neat Ways](https://ndcbe.github.io/cbe-xx258/01.06-NumPy.html#1.6.2.2-Creating-Arrays-in-Neat-Ways)",
     "section": "1.6.2.2 Creating Arrays in Neat Ways"
    },
    "outputId": "20ecf097-ed49-4f6c-93bd-333a40847912"
   },
   "outputs": [
    {
     "name": "stdout",
     "output_type": "stream",
     "text": [
      "The ones vector: [1. 1. 1. 1. 1. 1. 1. 1. 1. 1.]\n",
      "The ones matrix\n",
      " [[1. 1. 1. 1.]\n",
      " [1. 1. 1. 1.]\n",
      " [1. 1. 1. 1.]\n",
      " [1. 1. 1. 1.]]\n"
     ]
    }
   ],
   "source": [
    "ones_vector = np.ones(10) #vector of length 10\n",
    "ones_matrix = np.ones((4,4)) #4 by 4 matrix\n",
    "print(\"The ones vector:\",ones_vector)\n",
    "print(\"The ones matrix\\n\",ones_matrix)"
   ]
  },
  {
   "cell_type": "markdown",
   "metadata": {
    "nbpages": {
     "level": 3,
     "link": "[1.6.2.2 Creating Arrays in Neat Ways](https://ndcbe.github.io/cbe-xx258/01.06-NumPy.html#1.6.2.2-Creating-Arrays-in-Neat-Ways)",
     "section": "1.6.2.2 Creating Arrays in Neat Ways"
    }
   },
   "source": [
    "<div style=\"background-color: rgba(0,255,0,0.05) ; padding: 10px; border: 1px solid darkgreen;\"> \n",
    "<b>Home Activity</b>: Create a 6 by 5 matrix of zeros and store in variable <tt>zeros65</tt>\n",
    "</div>"
   ]
  },
  {
   "cell_type": "code",
   "execution_count": 18,
   "metadata": {
    "collapsed": true,
    "nbpages": {
     "level": 3,
     "link": "[1.6.2.2 Creating Arrays in Neat Ways](https://ndcbe.github.io/cbe-xx258/01.06-NumPy.html#1.6.2.2-Creating-Arrays-in-Neat-Ways)",
     "section": "1.6.2.2 Creating Arrays in Neat Ways"
    }
   },
   "outputs": [],
   "source": [
    "# YOUR SOLUTION HERE"
   ]
  },
  {
   "cell_type": "code",
   "execution_count": 19,
   "metadata": {
    "collapsed": true,
    "nbgrader": {
     "grade": true,
     "grade_id": "3a-ii",
     "locked": true,
     "points": "0.1",
     "solution": false
    },
    "nbpages": {
     "level": 3,
     "link": "[1.6.2.2 Creating Arrays in Neat Ways](https://ndcbe.github.io/cbe-xx258/01.06-NumPy.html#1.6.2.2-Creating-Arrays-in-Neat-Ways)",
     "section": "1.6.2.2 Creating Arrays in Neat Ways"
    }
   },
   "outputs": [],
   "source": []
  },
  {
   "cell_type": "markdown",
   "metadata": {
    "colab_type": "text",
    "id": "hqKBQjH9qnWp",
    "nbpages": {
     "level": 3,
     "link": "[1.6.2.2 Creating Arrays in Neat Ways](https://ndcbe.github.io/cbe-xx258/01.06-NumPy.html#1.6.2.2-Creating-Arrays-in-Neat-Ways)",
     "section": "1.6.2.2 Creating Arrays in Neat Ways"
    }
   },
   "source": [
    "You can also create an array with random entries between 0 and 1:"
   ]
  },
  {
   "cell_type": "code",
   "execution_count": 20,
   "metadata": {
    "colab": {
     "base_uri": "https://localhost:8080/",
     "height": 208
    },
    "colab_type": "code",
    "executionInfo": {
     "elapsed": 343,
     "status": "ok",
     "timestamp": 1548343660535,
     "user": {
      "displayName": "Alexander Dowling",
      "photoUrl": "https://lh3.googleusercontent.com/-LChdQ2m5OQE/AAAAAAAAAAI/AAAAAAAAAA0/JeXJe4vQJ7M/s64/photo.jpg",
      "userId": "00988067626794866502"
     },
     "user_tz": 300
    },
    "id": "KcQnY8S_qnWq",
    "nbpages": {
     "level": 3,
     "link": "[1.6.2.2 Creating Arrays in Neat Ways](https://ndcbe.github.io/cbe-xx258/01.06-NumPy.html#1.6.2.2-Creating-Arrays-in-Neat-Ways)",
     "section": "1.6.2.2 Creating Arrays in Neat Ways"
    },
    "outputId": "e8e01911-c62d-4bf8-b654-ff38e834d7f9"
   },
   "outputs": [
    {
     "name": "stdout",
     "output_type": "stream",
     "text": [
      "Here's a random 2 x 3 matrix\n",
      " [[0.94875575 0.25466422 0.93693155]\n",
      " [0.96635427 0.41600105 0.79932228]]\n",
      "\n",
      "Another example\n",
      "[[ 1.81257083  4.12154316 -0.49858544]\n",
      " [ 5.1941563   3.91335452 -3.18464743]\n",
      " [ 4.09537986  2.175721    3.15271181]]\n",
      "\n",
      "A third example\n",
      "[2 2 2 2 4 2 2 4 3 2]\n"
     ]
    }
   ],
   "source": [
    "random_matrix = np.random.rand(2,3) #random 2 x 3 matrix\n",
    "print(\"Here's a random 2 x 3 matrix\\n\",random_matrix)\n",
    "\n",
    "print(\"\\nAnother example\")\n",
    "\n",
    "#make a random array between two numbers\n",
    "print(np.random.uniform(low=-5,high=6,size=(3,3)))\n",
    "\n",
    "#make random integers\n",
    "\n",
    "print(\"\\nA third example\")\n",
    "print(np.random.randint(low=1,high=6,size=10))"
   ]
  },
  {
   "cell_type": "markdown",
   "metadata": {
    "colab_type": "text",
    "id": "jUy0074FqnWt",
    "nbpages": {
     "level": 3,
     "link": "[1.6.2.2 Creating Arrays in Neat Ways](https://ndcbe.github.io/cbe-xx258/01.06-NumPy.html#1.6.2.2-Creating-Arrays-in-Neat-Ways)",
     "section": "1.6.2.2 Creating Arrays in Neat Ways"
    }
   },
   "source": [
    "Finally, you may want to create an **identity matrix**:"
   ]
  },
  {
   "cell_type": "code",
   "execution_count": 21,
   "metadata": {
    "colab": {
     "base_uri": "https://localhost:8080/",
     "height": 69
    },
    "colab_type": "code",
    "executionInfo": {
     "elapsed": 212,
     "status": "ok",
     "timestamp": 1548343714058,
     "user": {
      "displayName": "Alexander Dowling",
      "photoUrl": "https://lh3.googleusercontent.com/-LChdQ2m5OQE/AAAAAAAAAAI/AAAAAAAAAA0/JeXJe4vQJ7M/s64/photo.jpg",
      "userId": "00988067626794866502"
     },
     "user_tz": 300
    },
    "id": "KV_RJJ51qnWt",
    "nbpages": {
     "level": 3,
     "link": "[1.6.2.2 Creating Arrays in Neat Ways](https://ndcbe.github.io/cbe-xx258/01.06-NumPy.html#1.6.2.2-Creating-Arrays-in-Neat-Ways)",
     "section": "1.6.2.2 Creating Arrays in Neat Ways"
    },
    "outputId": "3324d107-50ce-4757-df80-fdb72b73d49b"
   },
   "outputs": [
    {
     "name": "stdout",
     "output_type": "stream",
     "text": [
      "[[1. 0. 0.]\n",
      " [0. 1. 0.]\n",
      " [0. 0. 1.]]\n"
     ]
    }
   ],
   "source": [
    "#3 x 3 identity matrix\n",
    "identity33 = np.identity(3)\n",
    "print(identity33)"
   ]
  },
  {
   "cell_type": "markdown",
   "metadata": {
    "nbpages": {
     "level": 3,
     "link": "[1.6.2.2 Creating Arrays in Neat Ways](https://ndcbe.github.io/cbe-xx258/01.06-NumPy.html#1.6.2.2-Creating-Arrays-in-Neat-Ways)",
     "section": "1.6.2.2 Creating Arrays in Neat Ways"
    }
   },
   "source": [
    "<div style=\"background-color: rgba(0,255,0,0.05) ; padding: 10px; border: 1px solid darkgreen;\"> \n",
    "<b>Home Activity</b>: Read the documentation for <tt>vstack</tt> and <tt>hstack</tt>. Then create the following array in Python and store it in variable <tt>M</tt>. Hint: How can you use <tt>vstack</tt>, <tt>identity</tt>, and <tt>zeros</tt> together?\n",
    "</div>"
   ]
  },
  {
   "cell_type": "markdown",
   "metadata": {
    "nbpages": {
     "level": 3,
     "link": "[1.6.2.2 Creating Arrays in Neat Ways](https://ndcbe.github.io/cbe-xx258/01.06-NumPy.html#1.6.2.2-Creating-Arrays-in-Neat-Ways)",
     "section": "1.6.2.2 Creating Arrays in Neat Ways"
    }
   },
   "source": [
    "https://docs.scipy.org/doc/numpy/reference/generated/numpy.vstack.html\n",
    "\n",
    "https://docs.scipy.org/doc/numpy/reference/generated/numpy.hstack.html\n",
    "\n",
    "$$ M = \\begin{bmatrix} 1 & 0 & 0 \\\\ 0 & 1 & 0 \\\\ 0 & 0 & 1 \\\\ 0 & 0 & 0 \\end{bmatrix}$$"
   ]
  },
  {
   "cell_type": "code",
   "execution_count": 22,
   "metadata": {
    "nbpages": {
     "level": 3,
     "link": "[1.6.2.2 Creating Arrays in Neat Ways](https://ndcbe.github.io/cbe-xx258/01.06-NumPy.html#1.6.2.2-Creating-Arrays-in-Neat-Ways)",
     "section": "1.6.2.2 Creating Arrays in Neat Ways"
    }
   },
   "outputs": [
    {
     "name": "stdout",
     "output_type": "stream",
     "text": [
      "[[1. 0. 0.]\n",
      " [0. 1. 0.]\n",
      " [0. 0. 1.]\n",
      " [0. 0. 0.]]\n"
     ]
    }
   ],
   "source": [
    "# YOUR SOLUTION HERE"
   ]
  },
  {
   "cell_type": "code",
   "execution_count": 23,
   "metadata": {
    "collapsed": true,
    "nbgrader": {
     "grade": true,
     "grade_id": "3a-ii-2",
     "locked": true,
     "points": "0.2",
     "solution": false
    },
    "nbpages": {
     "level": 3,
     "link": "[1.6.2.2 Creating Arrays in Neat Ways](https://ndcbe.github.io/cbe-xx258/01.06-NumPy.html#1.6.2.2-Creating-Arrays-in-Neat-Ways)",
     "section": "1.6.2.2 Creating Arrays in Neat Ways"
    }
   },
   "outputs": [],
   "source": []
  },
  {
   "cell_type": "markdown",
   "metadata": {
    "colab_type": "text",
    "id": "xCRFBLk3qnWw",
    "nbpages": {
     "level": 3,
     "link": "[1.6.2.3 Operations on Arrays](https://ndcbe.github.io/cbe-xx258/01.06-NumPy.html#1.6.2.3-Operations-on-Arrays)",
     "section": "1.6.2.3 Operations on Arrays"
    }
   },
   "source": [
    "### 1.6.2.3 Operations on Arrays"
   ]
  },
  {
   "cell_type": "markdown",
   "metadata": {
    "colab_type": "text",
    "id": "GraFJMdEqnWx",
    "nbpages": {
     "level": 3,
     "link": "[1.6.2.3 Operations on Arrays](https://ndcbe.github.io/cbe-xx258/01.06-NumPy.html#1.6.2.3-Operations-on-Arrays)",
     "section": "1.6.2.3 Operations on Arrays"
    }
   },
   "source": [
    "NumPy also defines arithmetic operations mostly in the way that you would expect."
   ]
  },
  {
   "cell_type": "code",
   "execution_count": 24,
   "metadata": {
    "colab": {
     "base_uri": "https://localhost:8080/",
     "height": 52
    },
    "colab_type": "code",
    "executionInfo": {
     "elapsed": 204,
     "status": "ok",
     "timestamp": 1548343730530,
     "user": {
      "displayName": "Alexander Dowling",
      "photoUrl": "https://lh3.googleusercontent.com/-LChdQ2m5OQE/AAAAAAAAAAI/AAAAAAAAAA0/JeXJe4vQJ7M/s64/photo.jpg",
      "userId": "00988067626794866502"
     },
     "user_tz": 300
    },
    "id": "2g3FZI5YqnWy",
    "nbpages": {
     "level": 3,
     "link": "[1.6.2.3 Operations on Arrays](https://ndcbe.github.io/cbe-xx258/01.06-NumPy.html#1.6.2.3-Operations-on-Arrays)",
     "section": "1.6.2.3 Operations on Arrays"
    },
    "outputId": "0209954a-a50d-4fbc-bd06-70a3d698052d"
   },
   "outputs": [
    {
     "name": "stdout",
     "output_type": "stream",
     "text": [
      "[1. 1. 1.] + [2. 2. 2.] = [3. 3. 3.]\n",
      "[1. 1. 1.] - [2. 2. 2.] = [-1. -1. -1.]\n"
     ]
    }
   ],
   "source": [
    "#vector addition\n",
    "x = np.ones(3) #3-vector of ones\n",
    "y = 3*np.ones(3)-1 #3-vector of 2's\n",
    "print(x,\"+\",y,\"=\",x+y)\n",
    "print(x,\"-\",y,\"=\",x-y)"
   ]
  },
  {
   "cell_type": "markdown",
   "metadata": {
    "colab_type": "text",
    "id": "n29Tiqq_qnW1",
    "nbpages": {
     "level": 3,
     "link": "[1.6.2.3 Operations on Arrays](https://ndcbe.github.io/cbe-xx258/01.06-NumPy.html#1.6.2.3-Operations-on-Arrays)",
     "section": "1.6.2.3 Operations on Arrays"
    }
   },
   "source": [
    "Multiplication and division are **element-wise**, which may not be what you expect, but it is helpful."
   ]
  },
  {
   "cell_type": "code",
   "execution_count": 25,
   "metadata": {
    "colab": {
     "base_uri": "https://localhost:8080/",
     "height": 35
    },
    "colab_type": "code",
    "executionInfo": {
     "elapsed": 201,
     "status": "ok",
     "timestamp": 1548343776806,
     "user": {
      "displayName": "Alexander Dowling",
      "photoUrl": "https://lh3.googleusercontent.com/-LChdQ2m5OQE/AAAAAAAAAAI/AAAAAAAAAA0/JeXJe4vQJ7M/s64/photo.jpg",
      "userId": "00988067626794866502"
     },
     "user_tz": 300
    },
    "id": "hZbLj-Dpew9y",
    "nbpages": {
     "level": 3,
     "link": "[1.6.2.3 Operations on Arrays](https://ndcbe.github.io/cbe-xx258/01.06-NumPy.html#1.6.2.3-Operations-on-Arrays)",
     "section": "1.6.2.3 Operations on Arrays"
    },
    "outputId": "7245a56f-aec8-409e-a827-980b7c6b9097"
   },
   "outputs": [
    {
     "data": {
      "text/plain": [
       "array([1., 1., 1.])"
      ]
     },
     "execution_count": 25,
     "metadata": {},
     "output_type": "execute_result"
    }
   ],
   "source": [
    "x"
   ]
  },
  {
   "cell_type": "code",
   "execution_count": 26,
   "metadata": {
    "colab": {
     "base_uri": "https://localhost:8080/",
     "height": 52
    },
    "colab_type": "code",
    "executionInfo": {
     "elapsed": 222,
     "status": "ok",
     "timestamp": 1548343801013,
     "user": {
      "displayName": "Alexander Dowling",
      "photoUrl": "https://lh3.googleusercontent.com/-LChdQ2m5OQE/AAAAAAAAAAI/AAAAAAAAAA0/JeXJe4vQJ7M/s64/photo.jpg",
      "userId": "00988067626794866502"
     },
     "user_tz": 300
    },
    "id": "OH1vp8BGqnW1",
    "nbpages": {
     "level": 3,
     "link": "[1.6.2.3 Operations on Arrays](https://ndcbe.github.io/cbe-xx258/01.06-NumPy.html#1.6.2.3-Operations-on-Arrays)",
     "section": "1.6.2.3 Operations on Arrays"
    },
    "outputId": "b2059c9b-1bae-4f76-a5ac-8754b686f6f9"
   },
   "outputs": [
    {
     "name": "stdout",
     "output_type": "stream",
     "text": [
      "[1. 1. 1.] * [1. 2. 3.] = [1. 2. 3.]\n",
      "[1. 1. 1.] / [1. 2. 3.] = [1.         0.5        0.33333333]\n"
     ]
    }
   ],
   "source": [
    "y = np.array([1.0,2.0,3.0])\n",
    "print(x,\"*\",y,\"=\",x*y)\n",
    "print(x,\"/\",y,\"=\",x/y)"
   ]
  },
  {
   "cell_type": "markdown",
   "metadata": {
    "colab_type": "text",
    "id": "w_yJLYUBqnW3",
    "nbpages": {
     "level": 3,
     "link": "[1.6.2.3 Operations on Arrays](https://ndcbe.github.io/cbe-xx258/01.06-NumPy.html#1.6.2.3-Operations-on-Arrays)",
     "section": "1.6.2.3 Operations on Arrays"
    }
   },
   "source": [
    "If you want the dot product, you have to use the ``dot`` function:"
   ]
  },
  {
   "cell_type": "code",
   "execution_count": 27,
   "metadata": {
    "colab": {
     "base_uri": "https://localhost:8080/",
     "height": 35
    },
    "colab_type": "code",
    "executionInfo": {
     "elapsed": 346,
     "status": "ok",
     "timestamp": 1548343828062,
     "user": {
      "displayName": "Alexander Dowling",
      "photoUrl": "https://lh3.googleusercontent.com/-LChdQ2m5OQE/AAAAAAAAAAI/AAAAAAAAAA0/JeXJe4vQJ7M/s64/photo.jpg",
      "userId": "00988067626794866502"
     },
     "user_tz": 300
    },
    "id": "9-RhhCHiqnW4",
    "nbpages": {
     "level": 3,
     "link": "[1.6.2.3 Operations on Arrays](https://ndcbe.github.io/cbe-xx258/01.06-NumPy.html#1.6.2.3-Operations-on-Arrays)",
     "section": "1.6.2.3 Operations on Arrays"
    },
    "outputId": "79f0a300-5f36-461b-dbfd-e6c576d1f641"
   },
   "outputs": [
    {
     "name": "stdout",
     "output_type": "stream",
     "text": [
      "[1. 1. 1.] . [1. 2. 3.] = 6.0\n"
     ]
    }
   ],
   "source": [
    "print(x,\".\",y,\"=\",np.dot(x,y))"
   ]
  },
  {
   "cell_type": "markdown",
   "metadata": {
    "colab_type": "text",
    "id": "klxdPqmDqnW6",
    "nbpages": {
     "level": 3,
     "link": "[1.6.2.3 Operations on Arrays](https://ndcbe.github.io/cbe-xx258/01.06-NumPy.html#1.6.2.3-Operations-on-Arrays)",
     "section": "1.6.2.3 Operations on Arrays"
    }
   },
   "source": [
    "<div style=\"background-color: rgba(0,255,0,0.05) ; padding: 10px; border: 1px solid darkgreen;\"> \n",
    "<b>Home Activity</b>: Predict what will happen when you run the code below.\n",
    "</div>"
   ]
  },
  {
   "cell_type": "code",
   "execution_count": 28,
   "metadata": {
    "colab": {
     "base_uri": "https://localhost:8080/",
     "height": 201
    },
    "colab_type": "code",
    "executionInfo": {
     "elapsed": 232,
     "status": "error",
     "timestamp": 1548343902255,
     "user": {
      "displayName": "Alexander Dowling",
      "photoUrl": "https://lh3.googleusercontent.com/-LChdQ2m5OQE/AAAAAAAAAAI/AAAAAAAAAA0/JeXJe4vQJ7M/s64/photo.jpg",
      "userId": "00988067626794866502"
     },
     "user_tz": 300
    },
    "id": "aoX1sCuyqnW7",
    "nbpages": {
     "level": 3,
     "link": "[1.6.2.3 Operations on Arrays](https://ndcbe.github.io/cbe-xx258/01.06-NumPy.html#1.6.2.3-Operations-on-Arrays)",
     "section": "1.6.2.3 Operations on Arrays"
    },
    "outputId": "7ec967d8-8a37-4871-fd05-95bb8d61a90b"
   },
   "outputs": [
    {
     "ename": "ValueError",
     "evalue": "operands could not be broadcast together with shapes (3,) (4,) ",
     "output_type": "error",
     "traceback": [
      "\u001b[0;31m---------------------------------------------------------------------------\u001b[0m",
      "\u001b[0;31mValueError\u001b[0m                                Traceback (most recent call last)",
      "\u001b[0;32m<ipython-input-28-178b01ba410c>\u001b[0m in \u001b[0;36m<module>\u001b[0;34m()\u001b[0m\n\u001b[1;32m      1\u001b[0m \u001b[0mx\u001b[0m \u001b[0;34m=\u001b[0m \u001b[0mnp\u001b[0m\u001b[0;34m.\u001b[0m\u001b[0marray\u001b[0m\u001b[0;34m(\u001b[0m\u001b[0;34m[\u001b[0m\u001b[0;36m1\u001b[0m\u001b[0;34m,\u001b[0m\u001b[0;36m2.5\u001b[0m\u001b[0;34m,\u001b[0m\u001b[0;36m5\u001b[0m\u001b[0;34m]\u001b[0m\u001b[0;34m)\u001b[0m\u001b[0;34m\u001b[0m\u001b[0m\n\u001b[1;32m      2\u001b[0m \u001b[0my\u001b[0m \u001b[0;34m=\u001b[0m \u001b[0mnp\u001b[0m\u001b[0;34m.\u001b[0m\u001b[0marray\u001b[0m\u001b[0;34m(\u001b[0m\u001b[0;34m[\u001b[0m\u001b[0;36m4\u001b[0m\u001b[0;34m,\u001b[0m\u001b[0;36m6\u001b[0m\u001b[0;34m,\u001b[0m\u001b[0;36m7\u001b[0m\u001b[0;34m,\u001b[0m\u001b[0;36m9.0\u001b[0m\u001b[0;34m]\u001b[0m\u001b[0;34m)\u001b[0m\u001b[0;34m\u001b[0m\u001b[0m\n\u001b[0;32m----> 3\u001b[0;31m \u001b[0mprint\u001b[0m\u001b[0;34m(\u001b[0m\u001b[0mx\u001b[0m\u001b[0;34m+\u001b[0m\u001b[0my\u001b[0m\u001b[0;34m)\u001b[0m\u001b[0;34m\u001b[0m\u001b[0m\n\u001b[0m",
      "\u001b[0;31mValueError\u001b[0m: operands could not be broadcast together with shapes (3,) (4,) "
     ]
    }
   ],
   "source": [
    "x = np.array([1,2.5,5])\n",
    "y = np.array([4,6,7,9.0])\n",
    "print(x+y)"
   ]
  },
  {
   "cell_type": "markdown",
   "metadata": {
    "nbpages": {
     "level": 3,
     "link": "[1.6.2.3 Operations on Arrays](https://ndcbe.github.io/cbe-xx258/01.06-NumPy.html#1.6.2.3-Operations-on-Arrays)",
     "section": "1.6.2.3 Operations on Arrays"
    }
   },
   "source": [
    "<div style=\"background-color: rgba(0,255,0,0.05) ; padding: 10px; border: 1px solid darkgreen;\"> \n",
    "<b>Home Activity</b>: Write a sentence with at least 50 characters describing why the behavor you observed makes sense. If it does not make sense, write out the question you will ask in class. Store your answer in the string <tt>my_answer</tt>.\n",
    "</div>"
   ]
  },
  {
   "cell_type": "code",
   "execution_count": 29,
   "metadata": {
    "collapsed": true,
    "nbgrader": {
     "grade": false,
     "grade_id": "3a-iii",
     "locked": false,
     "points": "0.1",
     "solution": false
    },
    "nbpages": {
     "level": 3,
     "link": "[1.6.2.3 Operations on Arrays](https://ndcbe.github.io/cbe-xx258/01.06-NumPy.html#1.6.2.3-Operations-on-Arrays)",
     "section": "1.6.2.3 Operations on Arrays"
    }
   },
   "outputs": [],
   "source": [
    "my_answer = 'ehferbgrweavurebfvbidbv oisrevfbsrwiuevbgirwosgbvisbv . wefigwiuegfiuw'"
   ]
  },
  {
   "cell_type": "code",
   "execution_count": 30,
   "metadata": {
    "collapsed": true,
    "nbgrader": {
     "grade": true,
     "grade_id": "3a-iii",
     "locked": true,
     "points": "0.1",
     "solution": false
    },
    "nbpages": {
     "level": 3,
     "link": "[1.6.2.3 Operations on Arrays](https://ndcbe.github.io/cbe-xx258/01.06-NumPy.html#1.6.2.3-Operations-on-Arrays)",
     "section": "1.6.2.3 Operations on Arrays"
    }
   },
   "outputs": [],
   "source": []
  },
  {
   "cell_type": "markdown",
   "metadata": {
    "colab_type": "text",
    "id": "1HXrgdw0qnW9",
    "nbpages": {
     "level": 3,
     "link": "[1.6.2.3 Operations on Arrays](https://ndcbe.github.io/cbe-xx258/01.06-NumPy.html#1.6.2.3-Operations-on-Arrays)",
     "section": "1.6.2.3 Operations on Arrays"
    }
   },
   "source": [
    "Matrices work about the same way"
   ]
  },
  {
   "cell_type": "code",
   "execution_count": 31,
   "metadata": {
    "colab": {
     "base_uri": "https://localhost:8080/",
     "height": 225
    },
    "colab_type": "code",
    "executionInfo": {
     "elapsed": 219,
     "status": "ok",
     "timestamp": 1548343950961,
     "user": {
      "displayName": "Alexander Dowling",
      "photoUrl": "https://lh3.googleusercontent.com/-LChdQ2m5OQE/AAAAAAAAAAI/AAAAAAAAAA0/JeXJe4vQJ7M/s64/photo.jpg",
      "userId": "00988067626794866502"
     },
     "user_tz": 300
    },
    "id": "JOI-vxI-qnW9",
    "nbpages": {
     "level": 3,
     "link": "[1.6.2.3 Operations on Arrays](https://ndcbe.github.io/cbe-xx258/01.06-NumPy.html#1.6.2.3-Operations-on-Arrays)",
     "section": "1.6.2.3 Operations on Arrays"
    },
    "outputId": "1bba5ef2-a954-4aea-fcbd-30bd44ac0c44"
   },
   "outputs": [
    {
     "name": "stdout",
     "output_type": "stream",
     "text": [
      "The sum of\n",
      " [[1. 0. 0.]\n",
      " [0. 1. 0.]\n",
      " [0. 0. 1.]] \n",
      "and\n",
      " [[1 2 3]\n",
      " [1 2 3]\n",
      " [1 2 3]] \n",
      "is\n",
      " [[2. 2. 3.]\n",
      " [1. 3. 3.]\n",
      " [1. 2. 4.]]\n"
     ]
    }
   ],
   "source": [
    "silly_matrix = np.array([(1,2,3),(1,2,3),(1,2,3)])\n",
    "print(\"The sum of\\n\",identity33,\"\\nand\\n\",\n",
    "      silly_matrix,\"\\nis\\n\",identity33+silly_matrix)"
   ]
  },
  {
   "cell_type": "markdown",
   "metadata": {
    "colab_type": "text",
    "id": "Ah5uzq2rqnXA",
    "nbpages": {
     "level": 3,
     "link": "[1.6.2.3 Operations on Arrays](https://ndcbe.github.io/cbe-xx258/01.06-NumPy.html#1.6.2.3-Operations-on-Arrays)",
     "section": "1.6.2.3 Operations on Arrays"
    }
   },
   "source": [
    "Multiplication and division are **element-wise**:"
   ]
  },
  {
   "cell_type": "code",
   "execution_count": 32,
   "metadata": {
    "colab": {
     "base_uri": "https://localhost:8080/",
     "height": 69
    },
    "colab_type": "code",
    "executionInfo": {
     "elapsed": 293,
     "status": "ok",
     "timestamp": 1548343964546,
     "user": {
      "displayName": "Alexander Dowling",
      "photoUrl": "https://lh3.googleusercontent.com/-LChdQ2m5OQE/AAAAAAAAAAI/AAAAAAAAAA0/JeXJe4vQJ7M/s64/photo.jpg",
      "userId": "00988067626794866502"
     },
     "user_tz": 300
    },
    "id": "nBn4HpXfqnXA",
    "nbpages": {
     "level": 3,
     "link": "[1.6.2.3 Operations on Arrays](https://ndcbe.github.io/cbe-xx258/01.06-NumPy.html#1.6.2.3-Operations-on-Arrays)",
     "section": "1.6.2.3 Operations on Arrays"
    },
    "outputId": "2c8f437b-4987-46c3-9a7f-2fecbd950051"
   },
   "outputs": [
    {
     "data": {
      "text/plain": [
       "array([[1., 0., 0.],\n",
       "       [0., 2., 0.],\n",
       "       [0., 0., 3.]])"
      ]
     },
     "execution_count": 32,
     "metadata": {},
     "output_type": "execute_result"
    }
   ],
   "source": [
    "identity33 * silly_matrix"
   ]
  },
  {
   "cell_type": "code",
   "execution_count": 33,
   "metadata": {
    "colab": {
     "base_uri": "https://localhost:8080/",
     "height": 69
    },
    "colab_type": "code",
    "executionInfo": {
     "elapsed": 328,
     "status": "ok",
     "timestamp": 1548343973710,
     "user": {
      "displayName": "Alexander Dowling",
      "photoUrl": "https://lh3.googleusercontent.com/-LChdQ2m5OQE/AAAAAAAAAAI/AAAAAAAAAA0/JeXJe4vQJ7M/s64/photo.jpg",
      "userId": "00988067626794866502"
     },
     "user_tz": 300
    },
    "id": "wHqQo7swqnXD",
    "nbpages": {
     "level": 3,
     "link": "[1.6.2.3 Operations on Arrays](https://ndcbe.github.io/cbe-xx258/01.06-NumPy.html#1.6.2.3-Operations-on-Arrays)",
     "section": "1.6.2.3 Operations on Arrays"
    },
    "outputId": "686b0f0b-69fa-41d2-9ae3-ce9e27b3d2a6"
   },
   "outputs": [
    {
     "data": {
      "text/plain": [
       "array([[1.        , 0.        , 0.        ],\n",
       "       [0.        , 0.5       , 0.        ],\n",
       "       [0.        , 0.        , 0.33333333]])"
      ]
     },
     "execution_count": 33,
     "metadata": {},
     "output_type": "execute_result"
    }
   ],
   "source": [
    "identity33 / silly_matrix"
   ]
  },
  {
   "cell_type": "markdown",
   "metadata": {
    "colab_type": "text",
    "id": "gcY69xxHqnXF",
    "nbpages": {
     "level": 3,
     "link": "[1.6.2.3 Operations on Arrays](https://ndcbe.github.io/cbe-xx258/01.06-NumPy.html#1.6.2.3-Operations-on-Arrays)",
     "section": "1.6.2.3 Operations on Arrays"
    }
   },
   "source": [
    "The ``dot`` function will give you the **matrix product**:"
   ]
  },
  {
   "cell_type": "code",
   "execution_count": 34,
   "metadata": {
    "colab": {
     "base_uri": "https://localhost:8080/",
     "height": 225
    },
    "colab_type": "code",
    "executionInfo": {
     "elapsed": 204,
     "status": "ok",
     "timestamp": 1548343990589,
     "user": {
      "displayName": "Alexander Dowling",
      "photoUrl": "https://lh3.googleusercontent.com/-LChdQ2m5OQE/AAAAAAAAAAI/AAAAAAAAAA0/JeXJe4vQJ7M/s64/photo.jpg",
      "userId": "00988067626794866502"
     },
     "user_tz": 300
    },
    "id": "HBtGWBd7qnXG",
    "nbpages": {
     "level": 3,
     "link": "[1.6.2.3 Operations on Arrays](https://ndcbe.github.io/cbe-xx258/01.06-NumPy.html#1.6.2.3-Operations-on-Arrays)",
     "section": "1.6.2.3 Operations on Arrays"
    },
    "outputId": "e56e89a6-1202-4a1e-e04a-96544da9aba8"
   },
   "outputs": [
    {
     "name": "stdout",
     "output_type": "stream",
     "text": [
      "The matrix product of\n",
      " [[1. 0. 0.]\n",
      " [0. 1. 0.]\n",
      " [0. 0. 1.]] \n",
      "and\n",
      " [[1 2 3]\n",
      " [1 2 3]\n",
      " [1 2 3]] \n",
      "is\n",
      " [[1. 2. 3.]\n",
      " [1. 2. 3.]\n",
      " [1. 2. 3.]]\n"
     ]
    }
   ],
   "source": [
    "print(\"The matrix product of\\n\",identity33,\n",
    "      \"\\nand\\n\",silly_matrix,\"\\nis\\n\",np.dot(identity33,silly_matrix))"
   ]
  },
  {
   "cell_type": "code",
   "execution_count": 35,
   "metadata": {
    "colab": {
     "base_uri": "https://localhost:8080/",
     "height": 87
    },
    "colab_type": "code",
    "executionInfo": {
     "elapsed": 220,
     "status": "ok",
     "timestamp": 1548344044425,
     "user": {
      "displayName": "Alexander Dowling",
      "photoUrl": "https://lh3.googleusercontent.com/-LChdQ2m5OQE/AAAAAAAAAAI/AAAAAAAAAA0/JeXJe4vQJ7M/s64/photo.jpg",
      "userId": "00988067626794866502"
     },
     "user_tz": 300
    },
    "id": "ZHBFcLjLqnXI",
    "nbpages": {
     "level": 3,
     "link": "[1.6.2.3 Operations on Arrays](https://ndcbe.github.io/cbe-xx258/01.06-NumPy.html#1.6.2.3-Operations-on-Arrays)",
     "section": "1.6.2.3 Operations on Arrays"
    },
    "outputId": "19b1e457-4163-4ad4-8a37-19f17cbf240d"
   },
   "outputs": [
    {
     "name": "stdout",
     "output_type": "stream",
     "text": [
      "[[1 2 3]\n",
      " [1 2 3]\n",
      " [1 2 3]] times [1. 2. 3.] is\n",
      "[14. 14. 14.]\n"
     ]
    }
   ],
   "source": [
    "#matrix times a vector\n",
    "y = np.array([1.0,2.0,3.0])\n",
    "print(silly_matrix,\"times\", y, \"is\")\n",
    "print(np.dot(silly_matrix,y))"
   ]
  },
  {
   "cell_type": "markdown",
   "metadata": {
    "nbpages": {
     "level": 3,
     "link": "[1.6.2.3 Operations on Arrays](https://ndcbe.github.io/cbe-xx258/01.06-NumPy.html#1.6.2.3-Operations-on-Arrays)",
     "section": "1.6.2.3 Operations on Arrays"
    }
   },
   "source": [
    "Writing `np.dot` can get tedious. You can also use the `@` symbol for matrix multiplication:"
   ]
  },
  {
   "cell_type": "code",
   "execution_count": 36,
   "metadata": {
    "nbpages": {
     "level": 3,
     "link": "[1.6.2.3 Operations on Arrays](https://ndcbe.github.io/cbe-xx258/01.06-NumPy.html#1.6.2.3-Operations-on-Arrays)",
     "section": "1.6.2.3 Operations on Arrays"
    }
   },
   "outputs": [
    {
     "name": "stdout",
     "output_type": "stream",
     "text": [
      "[14. 14. 14.]\n"
     ]
    }
   ],
   "source": [
    "print(silly_matrix @ y)"
   ]
  },
  {
   "cell_type": "markdown",
   "metadata": {
    "colab_type": "text",
    "id": "0b7S8aRkqnXL",
    "nbpages": {
     "level": 3,
     "link": "[1.6.2.4 Universal Functions](https://ndcbe.github.io/cbe-xx258/01.06-NumPy.html#1.6.2.4-Universal-Functions)",
     "section": "1.6.2.4 Universal Functions"
    }
   },
   "source": [
    "### 1.6.2.4 Universal Functions"
   ]
  },
  {
   "cell_type": "markdown",
   "metadata": {
    "colab_type": "text",
    "id": "Bf4iXE3aqnXL",
    "nbpages": {
     "level": 3,
     "link": "[1.6.2.4 Universal Functions](https://ndcbe.github.io/cbe-xx258/01.06-NumPy.html#1.6.2.4-Universal-Functions)",
     "section": "1.6.2.4 Universal Functions"
    }
   },
   "source": [
    "NumPy also provides universal functions that operate on each element of an array.  Common mathematical functions are defined in this way."
   ]
  },
  {
   "cell_type": "code",
   "execution_count": 37,
   "metadata": {
    "colab": {
     "base_uri": "https://localhost:8080/",
     "height": 520
    },
    "colab_type": "code",
    "executionInfo": {
     "elapsed": 204,
     "status": "ok",
     "timestamp": 1548344065989,
     "user": {
      "displayName": "Alexander Dowling",
      "photoUrl": "https://lh3.googleusercontent.com/-LChdQ2m5OQE/AAAAAAAAAAI/AAAAAAAAAA0/JeXJe4vQJ7M/s64/photo.jpg",
      "userId": "00988067626794866502"
     },
     "user_tz": 300
    },
    "id": "hp-q82PDqnXM",
    "nbpages": {
     "level": 3,
     "link": "[1.6.2.4 Universal Functions](https://ndcbe.github.io/cbe-xx258/01.06-NumPy.html#1.6.2.4-Universal-Functions)",
     "section": "1.6.2.4 Universal Functions"
    },
    "outputId": "75fd0030-641b-4d14-e0c1-4b93e8df3bf3"
   },
   "outputs": [
    {
     "name": "stdout",
     "output_type": "stream",
     "text": [
      "[0.         0.10300304 0.20600608 0.30900911 0.41201215 0.51501519\n",
      " 0.61801823 0.72102126 0.8240243  0.92702734 1.03003038 1.13303342\n",
      " 1.23603645 1.33903949 1.44204253 1.54504557 1.64804861 1.75105164\n",
      " 1.85405468 1.95705772 2.06006076 2.16306379 2.26606683 2.36906987\n",
      " 2.47207291 2.57507595 2.67807898 2.78108202 2.88408506 2.9870881\n",
      " 3.09009113 3.19309417 3.29609721 3.39910025 3.50210329 3.60510632\n",
      " 3.70810936 3.8111124  3.91411544 4.01711848 4.12012151 4.22312455\n",
      " 4.32612759 4.42913063 4.53213366 4.6351367  4.73813974 4.84114278\n",
      " 4.94414582 5.04714885 5.15015189 5.25315493 5.35615797 5.459161\n",
      " 5.56216404 5.66516708 5.76817012 5.87117316 5.97417619 6.07717923\n",
      " 6.18018227 6.28318531]\n",
      "\n",
      "\n",
      "[ 0.00000000e+00  1.02820997e-01  2.04552066e-01  3.04114832e-01\n",
      "  4.00453906e-01  4.92548068e-01  5.79421098e-01  6.60152121e-01\n",
      "  7.33885366e-01  7.99839245e-01  8.57314628e-01  9.05702263e-01\n",
      "  9.44489229e-01  9.73264374e-01  9.91722674e-01  9.99668468e-01\n",
      "  9.97017526e-01  9.83797952e-01  9.60149874e-01  9.26323968e-01\n",
      "  8.82678798e-01  8.29677014e-01  7.67880446e-01  6.97944155e-01\n",
      "  6.20609482e-01  5.36696194e-01  4.47093793e-01  3.52752087e-01\n",
      "  2.54671120e-01  1.53890577e-01  5.14787548e-02 -5.14787548e-02\n",
      " -1.53890577e-01 -2.54671120e-01 -3.52752087e-01 -4.47093793e-01\n",
      " -5.36696194e-01 -6.20609482e-01 -6.97944155e-01 -7.67880446e-01\n",
      " -8.29677014e-01 -8.82678798e-01 -9.26323968e-01 -9.60149874e-01\n",
      " -9.83797952e-01 -9.97017526e-01 -9.99668468e-01 -9.91722674e-01\n",
      " -9.73264374e-01 -9.44489229e-01 -9.05702263e-01 -8.57314628e-01\n",
      " -7.99839245e-01 -7.33885366e-01 -6.60152121e-01 -5.79421098e-01\n",
      " -4.92548068e-01 -4.00453906e-01 -3.04114832e-01 -2.04552066e-01\n",
      " -1.02820997e-01 -2.44929360e-16]\n"
     ]
    }
   ],
   "source": [
    "#recall we defined X as a linspace from 0 to 2pi\n",
    "print(X)\n",
    "\n",
    "# Print an empty line\n",
    "print(\"\\n\")\n",
    "\n",
    "#taking the sin(X) should be one whole sine wave\n",
    "print(np.sin(X))"
   ]
  },
  {
   "cell_type": "code",
   "execution_count": 38,
   "metadata": {
    "colab": {
     "base_uri": "https://localhost:8080/",
     "height": 265
    },
    "colab_type": "code",
    "executionInfo": {
     "elapsed": 323,
     "status": "ok",
     "timestamp": 1548344086517,
     "user": {
      "displayName": "Alexander Dowling",
      "photoUrl": "https://lh3.googleusercontent.com/-LChdQ2m5OQE/AAAAAAAAAAI/AAAAAAAAAA0/JeXJe4vQJ7M/s64/photo.jpg",
      "userId": "00988067626794866502"
     },
     "user_tz": 300
    },
    "id": "GDq7eQ_7qnXR",
    "nbpages": {
     "level": 3,
     "link": "[1.6.2.4 Universal Functions](https://ndcbe.github.io/cbe-xx258/01.06-NumPy.html#1.6.2.4-Universal-Functions)",
     "section": "1.6.2.4 Universal Functions"
    },
    "outputId": "e52e1404-5f60-448d-aae1-07b334dab3aa"
   },
   "outputs": [
    {
     "data": {
      "image/png": "[encoded data removed]",
      "text/plain": [
       "<Figure size 432x288 with 1 Axes>"
      ]
     },
     "metadata": {},
     "output_type": "display_data"
    }
   ],
   "source": [
    "import matplotlib.pyplot as plt\n",
    "\n",
    "#the next line is only needed in iPython notebooks\n",
    "%matplotlib inline\n",
    "\n",
    "# Create a plot. We'll learn more about this below\n",
    "plt.plot(X,np.sin(X));\n",
    "plt.axis([0,2*np.pi,-1.05,1.05])\n",
    "plt.show()"
   ]
  },
  {
   "cell_type": "markdown",
   "metadata": {
    "nbpages": {
     "level": 3,
     "link": "[1.6.2.4 Universal Functions](https://ndcbe.github.io/cbe-xx258/01.06-NumPy.html#1.6.2.4-Universal-Functions)",
     "section": "1.6.2.4 Universal Functions"
    }
   },
   "source": [
    "<div style=\"background-color: rgba(0,255,0,0.05) ; padding: 10px; border: 1px solid darkgreen;\"> \n",
    "<b>Home Activity</b>: Copy the code from above to below. Then modify to plot cosine instead of sine.\n",
    "</div>"
   ]
  },
  {
   "cell_type": "code",
   "execution_count": 39,
   "metadata": {
    "nbpages": {
     "level": 3,
     "link": "[1.6.2.4 Universal Functions](https://ndcbe.github.io/cbe-xx258/01.06-NumPy.html#1.6.2.4-Universal-Functions)",
     "section": "1.6.2.4 Universal Functions"
    }
   },
   "outputs": [
    {
     "data": {
      "image/png": "[encoded data removed]",
      "text/plain": [
       "<Figure size 432x288 with 1 Axes>"
      ]
     },
     "metadata": {},
     "output_type": "display_data"
    }
   ],
   "source": [
    "import matplotlib.pyplot as plt\n",
    "\n",
    "#the next line is only needed in iPython notebooks\n",
    "%matplotlib inline\n",
    "\n",
    "# Create a plot. We'll learn more about this below\n",
    "plt.plot(X,np.cos(X));\n",
    "plt.axis([0,2*np.pi,-1.05,1.05])\n",
    "plt.show()"
   ]
  },
  {
   "cell_type": "markdown",
   "metadata": {
    "colab_type": "text",
    "id": "hVTWyRgyqnXT",
    "nbpages": {
     "level": 3,
     "link": "[1.6.2.5 Copying Arrays](https://ndcbe.github.io/cbe-xx258/01.06-NumPy.html#1.6.2.5-Copying-Arrays)",
     "section": "1.6.2.5 Copying Arrays"
    }
   },
   "source": [
    "### 1.6.2.5 Copying Arrays"
   ]
  },
  {
   "cell_type": "markdown",
   "metadata": {
    "colab_type": "text",
    "id": "8YOPAODoqnXU",
    "nbpages": {
     "level": 3,
     "link": "[1.6.2.5 Copying Arrays](https://ndcbe.github.io/cbe-xx258/01.06-NumPy.html#1.6.2.5-Copying-Arrays)",
     "section": "1.6.2.5 Copying Arrays"
    }
   },
   "source": [
    "When you assign a new variable name to an existing array, it is the same as giving two names for the object."
   ]
  },
  {
   "cell_type": "code",
   "execution_count": 40,
   "metadata": {
    "colab": {
     "base_uri": "https://localhost:8080/",
     "height": 69
    },
    "colab_type": "code",
    "executionInfo": {
     "elapsed": 210,
     "status": "ok",
     "timestamp": 1548344168698,
     "user": {
      "displayName": "Alexander Dowling",
      "photoUrl": "https://lh3.googleusercontent.com/-LChdQ2m5OQE/AAAAAAAAAAI/AAAAAAAAAA0/JeXJe4vQJ7M/s64/photo.jpg",
      "userId": "00988067626794866502"
     },
     "user_tz": 300
    },
    "id": "_VLZmvJ1qnXU",
    "nbpages": {
     "level": 3,
     "link": "[1.6.2.5 Copying Arrays](https://ndcbe.github.io/cbe-xx258/01.06-NumPy.html#1.6.2.5-Copying-Arrays)",
     "section": "1.6.2.5 Copying Arrays"
    },
    "outputId": "32ade637-630b-4228-dfa3-a7e52a7e7070"
   },
   "outputs": [
    {
     "name": "stdout",
     "output_type": "stream",
     "text": [
      "[1. 2. 3. 4. 5. 6.]\n",
      "The value of array a is [1.   2.   2.56 4.   5.   6.  ]\n",
      "The value of array b is [1.   2.   2.56 4.   5.   6.  ]\n"
     ]
    }
   ],
   "source": [
    "a = np.array([1.0,2,3,4,5,6])\n",
    "print(a)\n",
    "b = a # this will make a and b different names for the same array\n",
    "b[2] = 2.56 #change b at position 2, also changes a\n",
    "print(\"The value of array a is\",a)\n",
    "print(\"The value of array b is\",b)"
   ]
  },
  {
   "cell_type": "markdown",
   "metadata": {
    "colab_type": "text",
    "id": "XYqm-VtwqnXW",
    "nbpages": {
     "level": 3,
     "link": "[1.6.2.5 Copying Arrays](https://ndcbe.github.io/cbe-xx258/01.06-NumPy.html#1.6.2.5-Copying-Arrays)",
     "section": "1.6.2.5 Copying Arrays"
    }
   },
   "source": [
    "**Warning to MATLAB users:** MATLAB would not change `a` with the assignment `b[2] = 2.56`. Python and MATLAB behave differently in this respect."
   ]
  },
  {
   "cell_type": "markdown",
   "metadata": {
    "colab_type": "text",
    "id": "Kc0trDOTqnXW",
    "nbpages": {
     "level": 3,
     "link": "[1.6.2.5 Copying Arrays](https://ndcbe.github.io/cbe-xx258/01.06-NumPy.html#1.6.2.5-Copying-Arrays)",
     "section": "1.6.2.5 Copying Arrays"
    }
   },
   "source": [
    "When you pass an array to a function, the **function does not copy the array**, it just assigns that array another name as in the previous example."
   ]
  },
  {
   "cell_type": "code",
   "execution_count": 41,
   "metadata": {
    "colab": {
     "base_uri": "https://localhost:8080/",
     "height": 52
    },
    "colab_type": "code",
    "executionInfo": {
     "elapsed": 201,
     "status": "ok",
     "timestamp": 1548344340250,
     "user": {
      "displayName": "Alexander Dowling",
      "photoUrl": "https://lh3.googleusercontent.com/-LChdQ2m5OQE/AAAAAAAAAAI/AAAAAAAAAA0/JeXJe4vQJ7M/s64/photo.jpg",
      "userId": "00988067626794866502"
     },
     "user_tz": 300
    },
    "id": "pRQtdHjVgt-y",
    "nbpages": {
     "level": 3,
     "link": "[1.6.2.5 Copying Arrays](https://ndcbe.github.io/cbe-xx258/01.06-NumPy.html#1.6.2.5-Copying-Arrays)",
     "section": "1.6.2.5 Copying Arrays"
    },
    "outputId": "77740348-970f-40de-9314-d622186b66c9"
   },
   "outputs": [
    {
     "name": "stdout",
     "output_type": "stream",
     "text": [
      "['apples', 'grapes']\n",
      "['apples', 'grapes']\n"
     ]
    }
   ],
   "source": [
    "a1 = [\"apples\",\"oranges\"]\n",
    "b1 = a1\n",
    "b1[1] = \"grapes\"\n",
    "print(a1)\n",
    "print(b1)"
   ]
  },
  {
   "cell_type": "code",
   "execution_count": 42,
   "metadata": {
    "colab": {
     "base_uri": "https://localhost:8080/",
     "height": 52
    },
    "colab_type": "code",
    "executionInfo": {
     "elapsed": 357,
     "status": "ok",
     "timestamp": 1548344407228,
     "user": {
      "displayName": "Alexander Dowling",
      "photoUrl": "https://lh3.googleusercontent.com/-LChdQ2m5OQE/AAAAAAAAAAI/AAAAAAAAAA0/JeXJe4vQJ7M/s64/photo.jpg",
      "userId": "00988067626794866502"
     },
     "user_tz": 300
    },
    "id": "adRTQkiYqnXX",
    "nbpages": {
     "level": 3,
     "link": "[1.6.2.5 Copying Arrays](https://ndcbe.github.io/cbe-xx258/01.06-NumPy.html#1.6.2.5-Copying-Arrays)",
     "section": "1.6.2.5 Copying Arrays"
    },
    "outputId": "42e7a8eb-0120-4bcc-c0e5-edf1e99207a4"
   },
   "outputs": [
    {
     "name": "stdout",
     "output_type": "stream",
     "text": [
      "Before the function a = [1. 2. 3. 4. 5. 6.]\n",
      "After the function a = [-1.e+06  2.e+00  3.e+00  4.e+00  5.e+00  6.e+00]\n"
     ]
    }
   ],
   "source": [
    "def devious_function(func_array):\n",
    "    func_array[0] = -1.0e6 #changes the value of array passed in\n",
    "\n",
    "a = np.array([1.0,2,3,4,5,6])\n",
    "print(\"Before the function a =\",a)\n",
    "devious_function(a)\n",
    "print(\"After the function a =\",a)"
   ]
  },
  {
   "cell_type": "code",
   "execution_count": 43,
   "metadata": {
    "colab": {},
    "colab_type": "code",
    "id": "MiRZy2-JqnXY",
    "nbpages": {
     "level": 3,
     "link": "[1.6.2.5 Copying Arrays](https://ndcbe.github.io/cbe-xx258/01.06-NumPy.html#1.6.2.5-Copying-Arrays)",
     "section": "1.6.2.5 Copying Arrays"
    }
   },
   "outputs": [
    {
     "name": "stdout",
     "output_type": "stream",
     "text": [
      "Before the function a = 1\n",
      "After the function a = 1\n"
     ]
    }
   ],
   "source": [
    "def less_devious_function(func_float):\n",
    "    func_float = 9.9 #changes local copy of func_float\n",
    "a = 1\n",
    "print(\"Before the function a =\",a)\n",
    "less_devious_function(a)\n",
    "print(\"After the function a =\",a)"
   ]
  },
  {
   "cell_type": "markdown",
   "metadata": {
    "colab_type": "text",
    "id": "UN4PzE8SqnXb",
    "nbpages": {
     "level": 3,
     "link": "[1.6.2.5 Copying Arrays](https://ndcbe.github.io/cbe-xx258/01.06-NumPy.html#1.6.2.5-Copying-Arrays)",
     "section": "1.6.2.5 Copying Arrays"
    }
   },
   "source": [
    "This is different than what we saw previously for passing floats, integers, booleans, and strings to functions. \n",
    "\n",
    "*Why would Python do this, besides to just confuse me!?!* you ask.\n",
    "\n",
    "Imagine a NumPy array has millions of elements. It is best for efficient memory usage if functions do not make multiple copies of millions of elements.\n",
    "\n",
    "**Summary:**\n",
    "* Floats, integers, booleans, strings: You do NOT need to worry about `.copy()`. These are called primative types in Python.\n",
    "* Lists, arrays, dictionaries, and anything else. You need to worry about `.copy()`."
   ]
  },
  {
   "cell_type": "markdown",
   "metadata": {
    "colab_type": "text",
    "id": "y6rzcT2JqnXb",
    "nbpages": {
     "level": 3,
     "link": "[1.6.2.5 Copying Arrays](https://ndcbe.github.io/cbe-xx258/01.06-NumPy.html#1.6.2.5-Copying-Arrays)",
     "section": "1.6.2.5 Copying Arrays"
    }
   },
   "source": [
    "To make a real copy of the entire elements of an array you need to use the ``copy`` function on the array."
   ]
  },
  {
   "cell_type": "code",
   "execution_count": 44,
   "metadata": {
    "colab": {
     "base_uri": "https://localhost:8080/",
     "height": 104
    },
    "colab_type": "code",
    "executionInfo": {
     "elapsed": 204,
     "status": "ok",
     "timestamp": 1548344479604,
     "user": {
      "displayName": "Alexander Dowling",
      "photoUrl": "https://lh3.googleusercontent.com/-LChdQ2m5OQE/AAAAAAAAAAI/AAAAAAAAAA0/JeXJe4vQJ7M/s64/photo.jpg",
      "userId": "00988067626794866502"
     },
     "user_tz": 300
    },
    "id": "tpYzdb_lqnXb",
    "nbpages": {
     "level": 3,
     "link": "[1.6.2.5 Copying Arrays](https://ndcbe.github.io/cbe-xx258/01.06-NumPy.html#1.6.2.5-Copying-Arrays)",
     "section": "1.6.2.5 Copying Arrays"
    },
    "outputId": "5d41357c-4a5e-4bd7-8d36-1648d21c38fe"
   },
   "outputs": [
    {
     "name": "stdout",
     "output_type": "stream",
     "text": [
      "[1. 2. 3. 4. 5. 6.]\n",
      "\n",
      "The value of array a is [1. 2. 3. 4. 5. 6.]\n",
      "\n",
      "The value of array b is [1.   2.   2.56 4.   5.   6.  ]\n"
     ]
    }
   ],
   "source": [
    "a = np.array([1.0,2,3,4,5,6])\n",
    "print(a)\n",
    "#this will make a and b different copies for the same array\n",
    "b = a.copy()\n",
    "b[2] = 2.56 #change b at position 2, will not change a\n",
    "print(\"\\nThe value of array a is\",a)\n",
    "print(\"\\nThe value of array b is\",b)"
   ]
  },
  {
   "cell_type": "markdown",
   "metadata": {
    "colab_type": "text",
    "id": "9CTmfuN6qnXe",
    "nbpages": {
     "level": 3,
     "link": "[1.6.2.6 Indexing, Slicing, and Iterating](https://ndcbe.github.io/cbe-xx258/01.06-NumPy.html#1.6.2.6-Indexing,-Slicing,-and-Iterating)",
     "section": "1.6.2.6 Indexing, Slicing, and Iterating"
    }
   },
   "source": [
    "### 1.6.2.6 Indexing, Slicing, and Iterating"
   ]
  },
  {
   "cell_type": "markdown",
   "metadata": {
    "colab_type": "text",
    "id": "ipsRPDgVqnXf",
    "nbpages": {
     "level": 3,
     "link": "[1.6.2.6 Indexing, Slicing, and Iterating](https://ndcbe.github.io/cbe-xx258/01.06-NumPy.html#1.6.2.6-Indexing,-Slicing,-and-Iterating)",
     "section": "1.6.2.6 Indexing, Slicing, and Iterating"
    }
   },
   "source": [
    "Oftentimes we'll want to access more than one element of an array at a time.  We can do this by slicing."
   ]
  },
  {
   "cell_type": "code",
   "execution_count": 45,
   "metadata": {
    "colab": {
     "base_uri": "https://localhost:8080/",
     "height": 277
    },
    "colab_type": "code",
    "executionInfo": {
     "elapsed": 222,
     "status": "ok",
     "timestamp": 1548344534273,
     "user": {
      "displayName": "Alexander Dowling",
      "photoUrl": "https://lh3.googleusercontent.com/-LChdQ2m5OQE/AAAAAAAAAAI/AAAAAAAAAA0/JeXJe4vQJ7M/s64/photo.jpg",
      "userId": "00988067626794866502"
     },
     "user_tz": 300
    },
    "id": "bV5MJRapqnXf",
    "nbpages": {
     "level": 3,
     "link": "[1.6.2.6 Indexing, Slicing, and Iterating](https://ndcbe.github.io/cbe-xx258/01.06-NumPy.html#1.6.2.6-Indexing,-Slicing,-and-Iterating)",
     "section": "1.6.2.6 Indexing, Slicing, and Iterating"
    },
    "outputId": "bb7d1d87-8d5b-4812-a8a1-fd796f349188"
   },
   "outputs": [
    {
     "name": "stdout",
     "output_type": "stream",
     "text": [
      "The vector [1 2 3 4]\n",
      "\n",
      "The matrix\n",
      " [[1 2 3]\n",
      " [4 5 6]\n",
      " [7 8 9]]\n",
      "\n",
      "a_vector[:] = [1 2 3 4]\n",
      "\n",
      "a_vector[1:3] = [2 3]\n",
      "\n",
      "For a matrix, we can slice in each dimension\n",
      "a_matrix[0,:] = [1 2 3]\n",
      "a_matrix[0,1:3] = [2 3]\n",
      "a_matrix[:,2] = [3 6 9]\n"
     ]
    }
   ],
   "source": [
    "#bring these guys back\n",
    "import numpy as np\n",
    "a_vector = np.array([1,2,3,4])\n",
    "a_matrix = np.array([(1,2,3),(4,5,6),(7,8,9)])\n",
    "print(\"The vector\",a_vector)\n",
    "print(\"\\nThe matrix\\n\",a_matrix)\n",
    "print(\"\\na_vector[:] =\",a_vector[:]) #single colon gives everything\n",
    "print(\"\\na_vector[1:3] =\",a_vector[1:3]) #print out position 1 to position 2 (same as for lists)\n",
    "print(\"\\nFor a matrix, we can slice in each dimension\")\n",
    "print(\"a_matrix[0,:] =\",a_matrix[0,:]) #every column in row 0\n",
    "print(\"a_matrix[0,1:3] =\",a_matrix[0,1:3]) #columns 1 and 2 in row 0\n",
    "print(\"a_matrix[:,2] =\",a_matrix[:,2]) #every row in column 2"
   ]
  },
  {
   "cell_type": "markdown",
   "metadata": {
    "colab_type": "text",
    "id": "6XNsdzrnqnXj",
    "nbpages": {
     "level": 3,
     "link": "[1.6.2.6 Indexing, Slicing, and Iterating](https://ndcbe.github.io/cbe-xx258/01.06-NumPy.html#1.6.2.6-Indexing,-Slicing,-and-Iterating)",
     "section": "1.6.2.6 Indexing, Slicing, and Iterating"
    }
   },
   "source": [
    "Iteration over a matrix will give you everything in a row:"
   ]
  },
  {
   "cell_type": "code",
   "execution_count": 46,
   "metadata": {
    "colab": {
     "base_uri": "https://localhost:8080/",
     "height": 121
    },
    "colab_type": "code",
    "executionInfo": {
     "elapsed": 210,
     "status": "ok",
     "timestamp": 1548344560061,
     "user": {
      "displayName": "Alexander Dowling",
      "photoUrl": "https://lh3.googleusercontent.com/-LChdQ2m5OQE/AAAAAAAAAAI/AAAAAAAAAA0/JeXJe4vQJ7M/s64/photo.jpg",
      "userId": "00988067626794866502"
     },
     "user_tz": 300
    },
    "id": "ruKP_2PWqnXj",
    "nbpages": {
     "level": 3,
     "link": "[1.6.2.6 Indexing, Slicing, and Iterating](https://ndcbe.github.io/cbe-xx258/01.06-NumPy.html#1.6.2.6-Indexing,-Slicing,-and-Iterating)",
     "section": "1.6.2.6 Indexing, Slicing, and Iterating"
    },
    "outputId": "917eda72-953a-46d0-dc27-a6123fece628"
   },
   "outputs": [
    {
     "name": "stdout",
     "output_type": "stream",
     "text": [
      "Row 0 of a_matrix is [1 2 3]\n",
      "Row 1 of a_matrix is [4 5 6]\n",
      "Row 2 of a_matrix is [7 8 9]\n",
      "Column 3 of a_matrix is [1 4 7]\n",
      "Column 4 of a_matrix is [2 5 8]\n",
      "Column 5 of a_matrix is [3 6 9]\n"
     ]
    }
   ],
   "source": [
    "a_matrix = np.array([(1,2,3),(4,5,6),(7,8,9)])\n",
    "count = 0\n",
    "for i in a_matrix:\n",
    "    print(\"Row\",count,\"of a_matrix is\",i)\n",
    "    count += 1\n",
    "    \n",
    "    \n",
    "for column in a_matrix.transpose():\n",
    "    print(\"Column\",count,\"of a_matrix is\",column)\n",
    "    count += 1"
   ]
  },
  {
   "cell_type": "markdown",
   "metadata": {
    "colab_type": "text",
    "id": "jcCJ-VVIqnXn",
    "nbpages": {
     "level": 3,
     "link": "[1.6.2.6 Indexing, Slicing, and Iterating](https://ndcbe.github.io/cbe-xx258/01.06-NumPy.html#1.6.2.6-Indexing,-Slicing,-and-Iterating)",
     "section": "1.6.2.6 Indexing, Slicing, and Iterating"
    }
   },
   "source": [
    "To iterate over every element in the matrix you'll need two for loops:"
   ]
  },
  {
   "cell_type": "code",
   "execution_count": 47,
   "metadata": {
    "colab": {
     "base_uri": "https://localhost:8080/",
     "height": 173
    },
    "colab_type": "code",
    "executionInfo": {
     "elapsed": 229,
     "status": "ok",
     "timestamp": 1548344618664,
     "user": {
      "displayName": "Alexander Dowling",
      "photoUrl": "https://lh3.googleusercontent.com/-LChdQ2m5OQE/AAAAAAAAAAI/AAAAAAAAAA0/JeXJe4vQJ7M/s64/photo.jpg",
      "userId": "00988067626794866502"
     },
     "user_tz": 300
    },
    "id": "ttUGTWlUqnXn",
    "nbpages": {
     "level": 3,
     "link": "[1.6.2.6 Indexing, Slicing, and Iterating](https://ndcbe.github.io/cbe-xx258/01.06-NumPy.html#1.6.2.6-Indexing,-Slicing,-and-Iterating)",
     "section": "1.6.2.6 Indexing, Slicing, and Iterating"
    },
    "outputId": "60958d47-d409-4f7d-fc7b-74af51dae59c"
   },
   "outputs": [
    {
     "name": "stdout",
     "output_type": "stream",
     "text": [
      "Row 0 Column 0 of a_matrix is 1\n",
      "Row 0 Column 1 of a_matrix is 2\n",
      "Row 0 Column 2 of a_matrix is 3\n",
      "Row 1 Column 0 of a_matrix is 4\n",
      "Row 1 Column 1 of a_matrix is 5\n",
      "Row 1 Column 2 of a_matrix is 6\n",
      "Row 2 Column 0 of a_matrix is 7\n",
      "Row 2 Column 1 of a_matrix is 8\n",
      "Row 2 Column 2 of a_matrix is 9\n"
     ]
    }
   ],
   "source": [
    "a_matrix = np.array([(1,2,3),(4,5,6),(7,8,9)])\n",
    "row_count = 0\n",
    "col_count = 0\n",
    "for row in a_matrix:\n",
    "    col_count = 0\n",
    "    for col in row:\n",
    "        print(\"Row\",row_count,\"Column\",col_count,\"of a_matrix is\",col)\n",
    "        col_count += 1\n",
    "    row_count += 1"
   ]
  },
  {
   "cell_type": "markdown",
   "metadata": {
    "nbpages": {
     "level": 3,
     "link": "[1.6.2.6 Indexing, Slicing, and Iterating](https://ndcbe.github.io/cbe-xx258/01.06-NumPy.html#1.6.2.6-Indexing,-Slicing,-and-Iterating)",
     "section": "1.6.2.6 Indexing, Slicing, and Iterating"
    }
   },
   "source": [
    "<div style=\"background-color: rgba(0,255,0,0.05) ; padding: 10px; border: 1px solid darkgreen;\"> \n",
    "<b>Home Activity</b>: Using a single for loop, print the diagonal elements of matrix <tt>A</tt>. Store the diagonal elements in the list <tt>diagonal</tt>.\n",
    "</div>"
   ]
  },
  {
   "cell_type": "markdown",
   "metadata": {
    "nbpages": {
     "level": 3,
     "link": "[1.6.2.6 Indexing, Slicing, and Iterating](https://ndcbe.github.io/cbe-xx258/01.06-NumPy.html#1.6.2.6-Indexing,-Slicing,-and-Iterating)",
     "section": "1.6.2.6 Indexing, Slicing, and Iterating"
    }
   },
   "source": [
    "Tip: Let `my_list` be a Python list. Remember that `my_list.append(1.0)` will add `1.0` to the list `my_list`."
   ]
  },
  {
   "cell_type": "code",
   "execution_count": 48,
   "metadata": {
    "colab": {
     "base_uri": "https://localhost:8080/",
     "height": 225
    },
    "colab_type": "code",
    "executionInfo": {
     "elapsed": 378,
     "status": "ok",
     "timestamp": 1548344631468,
     "user": {
      "displayName": "Alexander Dowling",
      "photoUrl": "https://lh3.googleusercontent.com/-LChdQ2m5OQE/AAAAAAAAAAI/AAAAAAAAAA0/JeXJe4vQJ7M/s64/photo.jpg",
      "userId": "00988067626794866502"
     },
     "user_tz": 300
    },
    "id": "6gNN-VfHqnXs",
    "nbpages": {
     "level": 3,
     "link": "[1.6.2.6 Indexing, Slicing, and Iterating](https://ndcbe.github.io/cbe-xx258/01.06-NumPy.html#1.6.2.6-Indexing,-Slicing,-and-Iterating)",
     "section": "1.6.2.6 Indexing, Slicing, and Iterating"
    },
    "outputId": "ba2b6582-66d2-4e43-d880-e4f9485aee53"
   },
   "outputs": [
    {
     "name": "stdout",
     "output_type": "stream",
     "text": [
      "A =\n",
      " [[0.98530512 0.04869325 0.82686032]\n",
      " [0.401906   0.91142412 0.29288514]\n",
      " [0.00861273 0.95496269 0.68612047]]\n",
      "\n",
      "The diagonal elements of A\n",
      "0.9853051241512321\n",
      "0.9114241226071109\n",
      "0.6861204674649746\n"
     ]
    }
   ],
   "source": [
    "N = 3\n",
    "A = np.random.rand(N,N)\n",
    "print(\"A =\\n\",A)\n",
    "\n",
    "# create any empty list\n",
    "diagonal = []\n",
    "\n",
    "#print the diagonal of the matrix using a single for loop\n",
    "print(\"\\nThe diagonal elements of A\")\n",
    "\n",
    "# YOUR SOLUTION HERE"
   ]
  },
  {
   "cell_type": "markdown",
   "metadata": {
    "nbpages": {
     "level": 3,
     "link": "[1.6.2.6 Indexing, Slicing, and Iterating](https://ndcbe.github.io/cbe-xx258/01.06-NumPy.html#1.6.2.6-Indexing,-Slicing,-and-Iterating)",
     "section": "1.6.2.6 Indexing, Slicing, and Iterating"
    }
   },
   "source": [
    "Warning: You need to programmically extract the diagonals. You cannot manually copy them. When the autograder runs, it will generate a new `A` matrix."
   ]
  },
  {
   "cell_type": "code",
   "execution_count": 49,
   "metadata": {
    "collapsed": true,
    "nbgrader": {
     "grade": true,
     "grade_id": " 3a-vi",
     "locked": true,
     "points": "0.1",
     "solution": false
    },
    "nbpages": {
     "level": 3,
     "link": "[1.6.2.6 Indexing, Slicing, and Iterating](https://ndcbe.github.io/cbe-xx258/01.06-NumPy.html#1.6.2.6-Indexing,-Slicing,-and-Iterating)",
     "section": "1.6.2.6 Indexing, Slicing, and Iterating"
    }
   },
   "outputs": [],
   "source": []
  },
  {
   "cell_type": "markdown",
   "metadata": {
    "nbpages": {
     "level": 3,
     "link": "[1.6.2.6 Indexing, Slicing, and Iterating](https://ndcbe.github.io/cbe-xx258/01.06-NumPy.html#1.6.2.6-Indexing,-Slicing,-and-Iterating)",
     "section": "1.6.2.6 Indexing, Slicing, and Iterating"
    }
   },
   "source": [
    "NumPy also has a built-in function to extract the diagonal of a matrix."
   ]
  },
  {
   "cell_type": "code",
   "execution_count": 50,
   "metadata": {
    "nbpages": {
     "level": 3,
     "link": "[1.6.2.6 Indexing, Slicing, and Iterating](https://ndcbe.github.io/cbe-xx258/01.06-NumPy.html#1.6.2.6-Indexing,-Slicing,-and-Iterating)",
     "section": "1.6.2.6 Indexing, Slicing, and Iterating"
    }
   },
   "outputs": [
    {
     "name": "stdout",
     "output_type": "stream",
     "text": [
      "\n",
      "The diagonal of A as a vector\n",
      "[0.98530512 0.91142412 0.68612047]\n"
     ]
    }
   ],
   "source": [
    "print(\"\\nThe diagonal of A as a vector\")\n",
    "print(np.diag(A))"
   ]
  },
  {
   "cell_type": "markdown",
   "metadata": {
    "colab_type": "text",
    "id": "kHsSx8OcqnXt",
    "nbpages": {
     "level": 3,
     "link": "[1.6.2.7 Complex Numbers](https://ndcbe.github.io/cbe-xx258/01.06-NumPy.html#1.6.2.7-Complex-Numbers)",
     "section": "1.6.2.7 Complex Numbers"
    }
   },
   "source": [
    "### 1.6.2.7 Complex Numbers\n",
    "Numpy can handle complex numbers, but you need to tell it that you have complex numbers by adding a parameter to the function that creates your array (or matrix, or vector, etc.)."
   ]
  },
  {
   "cell_type": "code",
   "execution_count": 51,
   "metadata": {
    "colab": {
     "base_uri": "https://localhost:8080/",
     "height": 35
    },
    "colab_type": "code",
    "executionInfo": {
     "elapsed": 345,
     "status": "ok",
     "timestamp": 1548344651471,
     "user": {
      "displayName": "Alexander Dowling",
      "photoUrl": "https://lh3.googleusercontent.com/-LChdQ2m5OQE/AAAAAAAAAAI/AAAAAAAAAA0/JeXJe4vQJ7M/s64/photo.jpg",
      "userId": "00988067626794866502"
     },
     "user_tz": 300
    },
    "id": "5vaw55JSqnXu",
    "nbpages": {
     "level": 3,
     "link": "[1.6.2.7 Complex Numbers](https://ndcbe.github.io/cbe-xx258/01.06-NumPy.html#1.6.2.7-Complex-Numbers)",
     "section": "1.6.2.7 Complex Numbers"
    },
    "outputId": "ffd91e02-0a23-4e9a-a555-a451f0e99013"
   },
   "outputs": [
    {
     "name": "stdout",
     "output_type": "stream",
     "text": [
      "[0.+0.j 0.+0.j 0.+0.j 0.+0.j 0.+0.j]\n"
     ]
    }
   ],
   "source": [
    "cArray = np.zeros(5, dtype=\"complex\")\n",
    "print(cArray)"
   ]
  },
  {
   "cell_type": "markdown",
   "metadata": {
    "colab_type": "text",
    "id": "xh3Jl6uFqnXx",
    "nbpages": {
     "level": 3,
     "link": "[1.6.2.7 Complex Numbers](https://ndcbe.github.io/cbe-xx258/01.06-NumPy.html#1.6.2.7-Complex-Numbers)",
     "section": "1.6.2.7 Complex Numbers"
    }
   },
   "source": [
    "``dtype`` tells NumPy that the array will hold complex numbers. It is not needed if it is obvious you are using complex numbers."
   ]
  },
  {
   "cell_type": "code",
   "execution_count": 52,
   "metadata": {
    "colab": {
     "base_uri": "https://localhost:8080/",
     "height": 35
    },
    "colab_type": "code",
    "executionInfo": {
     "elapsed": 196,
     "status": "ok",
     "timestamp": 1548344661173,
     "user": {
      "displayName": "Alexander Dowling",
      "photoUrl": "https://lh3.googleusercontent.com/-LChdQ2m5OQE/AAAAAAAAAAI/AAAAAAAAAA0/JeXJe4vQJ7M/s64/photo.jpg",
      "userId": "00988067626794866502"
     },
     "user_tz": 300
    },
    "id": "3YTzrxVzqnXz",
    "nbpages": {
     "level": 3,
     "link": "[1.6.2.7 Complex Numbers](https://ndcbe.github.io/cbe-xx258/01.06-NumPy.html#1.6.2.7-Complex-Numbers)",
     "section": "1.6.2.7 Complex Numbers"
    },
    "outputId": "b003e7c0-3579-4c81-c5db-de1101498904"
   },
   "outputs": [
    {
     "name": "stdout",
     "output_type": "stream",
     "text": [
      "[ 1.+1.j -1.+0.j]\n"
     ]
    }
   ],
   "source": [
    "cArray2 = np.array([1+1j,-1])\n",
    "print(cArray2)"
   ]
  },
  {
   "cell_type": "markdown",
   "metadata": {
    "colab_type": "text",
    "id": "lNS4UlAiqnX0",
    "nbpages": {
     "level": 3,
     "link": "[1.6.2.7 Complex Numbers](https://ndcbe.github.io/cbe-xx258/01.06-NumPy.html#1.6.2.7-Complex-Numbers)",
     "section": "1.6.2.7 Complex Numbers"
    }
   },
   "source": [
    "You must be careful when you manipulate an array of floats into complex numbers, say by taking the square root"
   ]
  },
  {
   "cell_type": "code",
   "execution_count": 53,
   "metadata": {
    "colab": {
     "base_uri": "https://localhost:8080/",
     "height": 87
    },
    "colab_type": "code",
    "executionInfo": {
     "elapsed": 198,
     "status": "ok",
     "timestamp": 1548344672586,
     "user": {
      "displayName": "Alexander Dowling",
      "photoUrl": "https://lh3.googleusercontent.com/-LChdQ2m5OQE/AAAAAAAAAAI/AAAAAAAAAA0/JeXJe4vQJ7M/s64/photo.jpg",
      "userId": "00988067626794866502"
     },
     "user_tz": 300
    },
    "id": "MOpCrH2HqnX1",
    "nbpages": {
     "level": 3,
     "link": "[1.6.2.7 Complex Numbers](https://ndcbe.github.io/cbe-xx258/01.06-NumPy.html#1.6.2.7-Complex-Numbers)",
     "section": "1.6.2.7 Complex Numbers"
    },
    "outputId": "f2bf566d-ef73-4461-e93b-0fd614fad7b7"
   },
   "outputs": [
    {
     "name": "stdout",
     "output_type": "stream",
     "text": [
      "Wrong way gives [nan  1.]\n"
     ]
    },
    {
     "name": "stderr",
     "output_type": "stream",
     "text": [
      "/usr/local/lib/python3.6/site-packages/ipykernel_launcher.py:2: RuntimeWarning: invalid value encountered in sqrt\n",
      "  \n"
     ]
    }
   ],
   "source": [
    "fArray = np.array([-1,1])\n",
    "print(\"Wrong way gives\", np.sqrt(fArray))"
   ]
  },
  {
   "cell_type": "code",
   "execution_count": 54,
   "metadata": {
    "nbpages": {
     "level": 3,
     "link": "[1.6.2.7 Complex Numbers](https://ndcbe.github.io/cbe-xx258/01.06-NumPy.html#1.6.2.7-Complex-Numbers)",
     "section": "1.6.2.7 Complex Numbers"
    }
   },
   "outputs": [
    {
     "name": "stdout",
     "output_type": "stream",
     "text": [
      "Right way gives [0.+1.j 1.+0.j]\n"
     ]
    }
   ],
   "source": [
    "print(\"Right way gives\", np.sqrt(fArray, dtype=\"complex\"))"
   ]
  },
  {
   "cell_type": "markdown",
   "metadata": {
    "colab_type": "text",
    "id": "hIS0pUx9qnX3",
    "nbpages": {
     "level": 3,
     "link": "[1.6.2.8 Integrating Everything Together](https://ndcbe.github.io/cbe-xx258/01.06-NumPy.html#1.6.2.8-Integrating-Everything-Together)",
     "section": "1.6.2.8 Integrating Everything Together"
    }
   },
   "source": [
    "### 1.6.2.8 Integrating Everything Together"
   ]
  },
  {
   "cell_type": "markdown",
   "metadata": {
    "nbpages": {
     "level": 3,
     "link": "[1.6.2.8 Integrating Everything Together](https://ndcbe.github.io/cbe-xx258/01.06-NumPy.html#1.6.2.8-Integrating-Everything-Together)",
     "section": "1.6.2.8 Integrating Everything Together"
    }
   },
   "source": [
    "<div style=\"background-color: rgba(0,0,255,0.05) ; padding: 10px; border: 1px solid darkblue;\"> \n",
    "<b>Class Activity [handout]</b>: With a partner, predict the output of Python code.\n",
    "</div>"
   ]
  },
  {
   "cell_type": "code",
   "execution_count": 55,
   "metadata": {
    "nbpages": {
     "level": 3,
     "link": "[1.6.2.8 Integrating Everything Together](https://ndcbe.github.io/cbe-xx258/01.06-NumPy.html#1.6.2.8-Integrating-Everything-Together)",
     "section": "1.6.2.8 Integrating Everything Together"
    }
   },
   "outputs": [
    {
     "name": "stdout",
     "output_type": "stream",
     "text": [
      "A=\n",
      " [[1 3]\n",
      " [2 4]]\n",
      "\n",
      "B=\n",
      " [5 6 7] \n",
      "\n",
      "rld\n",
      "rld!\n",
      "\n",
      " x =  1 \n",
      "\n",
      "\n",
      "B = \n",
      " [3 4 7]\n",
      "\n",
      "C = \n",
      " [3 9 7]\n"
     ]
    }
   ],
   "source": [
    "# YOUR SOLUTION HERE"
   ]
  },
  {
   "cell_type": "markdown",
   "metadata": {
    "nbpages": {
     "level": 3,
     "link": "[1.6.2.8 Integrating Everything Together](https://ndcbe.github.io/cbe-xx258/01.06-NumPy.html#1.6.2.8-Integrating-Everything-Together)",
     "section": "1.6.2.8 Integrating Everything Together"
    }
   },
   "source": [
    "<div style=\"background-color: rgba(0,0,255,0.05) ; padding: 10px; border: 1px solid darkblue;\"> \n",
    "<b>Class Activity</b>: With a partner, create a Python function that does the following:\n",
    "</div>"
   ]
  },
  {
   "cell_type": "markdown",
   "metadata": {
    "nbpages": {
     "level": 3,
     "link": "[1.6.2.8 Integrating Everything Together](https://ndcbe.github.io/cbe-xx258/01.06-NumPy.html#1.6.2.8-Integrating-Everything-Together)",
     "section": "1.6.2.8 Integrating Everything Together"
    }
   },
   "source": [
    "* Takes the size of a matrix, $N$, as the input. Rounds to an integer.\n",
    "* If $N < 1$, prints a warning message and returns nothing. Otherwise, continues.\n",
    "* Generates a matrix of size $N \\times N$ filled with random floating point numbers from -5 to 5\n",
    "* Print the matrix to the screen\n",
    "* Returns a vector that is the sum of the columns of the matrix"
   ]
  },
  {
   "cell_type": "code",
   "execution_count": 56,
   "metadata": {
    "colab": {},
    "colab_type": "code",
    "collapsed": true,
    "id": "QbMS2I6kqnX5",
    "nbpages": {
     "level": 3,
     "link": "[1.6.2.8 Integrating Everything Together](https://ndcbe.github.io/cbe-xx258/01.06-NumPy.html#1.6.2.8-Integrating-Everything-Together)",
     "section": "1.6.2.8 Integrating Everything Together"
    }
   },
   "outputs": [],
   "source": [
    "def np_activity(N):\n",
    "    '''Generates a random N x N matrix, prints to screen,\n",
    "    and returns a vector that is the sum of the columns.\n",
    "    \n",
    "    Arguments:\n",
    "        YOU NEED TO FILL THIS IN\n",
    "    \n",
    "    Returns:\n",
    "        YOU NEED TO FILL THIS IN\n",
    "    '''"
   ]
  },
  {
   "cell_type": "markdown",
   "metadata": {
    "colab_type": "text",
    "id": "0Kc9c8jInvj6",
    "nbpages": {
     "level": 3,
     "link": "[1.6.2.8 Integrating Everything Together](https://ndcbe.github.io/cbe-xx258/01.06-NumPy.html#1.6.2.8-Integrating-Everything-Together)",
     "section": "1.6.2.8 Integrating Everything Together"
    }
   },
   "source": [
    "Discussion Question: what would we need to change to access the matrix we created outside our function?"
   ]
  },
  {
   "cell_type": "markdown",
   "metadata": {},
   "source": [
    "<!--NAVIGATION-->\n",
    "< [1.5 List, Dictionaries, and Enumeration](https://ndcbe.github.io/cbe-xx258/01.05-Lists-Dictionaries-Enumerate.html) | [Contents](toc.html) | [1.7 Visualization with matplotlib](https://ndcbe.github.io/cbe-xx258/01.07-Matplotlib.html) ><p><a href=\"https://colab.research.google.com/github/ndcbe/cbe-xx258/blob/master/docs/01.06-NumPy.ipynb\"> <img align=\"left\" src=\"https://colab.research.google.com/assets/colab-badge.svg\" alt=\"Open in Colab\" title=\"Open in Google Colaboratory\"></a><p><a href=\"https://ndcbe.github.io/cbe-xx258/01.06-NumPy.ipynb\"> <img align=\"left\" src=\"https://img.shields.io/badge/Github-Download-blue.svg\" alt=\"Download\" title=\"Download Notebook\"></a>"
   ]
  }
 ],
 "metadata": {
  "colab": {
   "collapsed_sections": [
    "xCRFBLk3qnWw",
    "0b7S8aRkqnXL",
    "hVTWyRgyqnXT",
    "9CTmfuN6qnXe",
    "kHsSx8OcqnXt",
    "hIS0pUx9qnX3",
    "Ck5L2vnuqnX-"
   ],
   "name": "L4-NumPy-Matplotlib.ipynb",
   "provenance": [],
   "version": "0.3.2"
  },
  "kernelspec": {
   "display_name": "Python 3",
   "language": "python",
   "name": "python3"
  },
  "language_info": {
   "codemirror_mode": {
    "name": "ipython",
    "version": 3
   },
   "file_extension": ".py",
   "mimetype": "text/x-python",
   "name": "python",
   "nbconvert_exporter": "python",
   "pygments_lexer": "ipython3",
   "version": "3.7.3"
  }
 },
 "nbformat": 4,
 "nbformat_minor": 1
}
