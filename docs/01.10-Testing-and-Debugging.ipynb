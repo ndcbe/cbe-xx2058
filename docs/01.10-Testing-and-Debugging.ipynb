{
 "cells": [
  {
   "cell_type": "markdown",
   "metadata": {},
   "source": [
    "<!--NOTEBOOK_HEADER-->*This notebook contains material for CBE 20258 Numerical and Statistical Analysis taught at the University of Notre Dame. (c) Professors Alexander Dowling, Ryan McClarren, and Yamil Colón. This collection of notebooks [cbe-xx258](https://ndcbe.github.io/cbe-xx258) is available [on Github](https://github.com/ndcbe/cbe-xx258).*\n"
   ]
  },
  {
   "cell_type": "markdown",
   "metadata": {},
   "source": [
    "<!--NAVIGATION-->\n",
    "< [1.9 Functions as Arguments](https://ndcbe.github.io/cbe-xx258/01.09-Functions-as-Arguments.html) | [Contents](toc.html) | ><p><a href=\"https://colab.research.google.com/github/ndcbe/cbe-xx258/blob/master/docs/01.10-Testing-and-Debugging.ipynb\"> <img align=\"left\" src=\"https://colab.research.google.com/assets/colab-badge.svg\" alt=\"Open in Colab\" title=\"Open in Google Colaboratory\"></a><p><a href=\"https://ndcbe.github.io/cbe-xx258/01.10-Testing-and-Debugging.ipynb\"> <img align=\"left\" src=\"https://img.shields.io/badge/Github-Download-blue.svg\" alt=\"Download\" title=\"Download Notebook\"></a>"
   ]
  },
  {
   "cell_type": "markdown",
   "metadata": {
    "nbpages": {
     "level": 1,
     "link": "[1.10 Testing and Debugging in Python](https://ndcbe.github.io/cbe-xx258/01.10-Testing-and-Debugging.html#1.10-Testing-and-Debugging-in-Python)",
     "section": "1.10 Testing and Debugging in Python"
    }
   },
   "source": [
    "# 1.10 Testing and Debugging in Python"
   ]
  },
  {
   "cell_type": "markdown",
   "metadata": {
    "nbpages": {
     "level": 1,
     "link": "[1.10 Testing and Debugging in Python](https://ndcbe.github.io/cbe-xx258/01.10-Testing-and-Debugging.html#1.10-Testing-and-Debugging-in-Python)",
     "section": "1.10 Testing and Debugging in Python"
    }
   },
   "source": [
    "**Reference**: Chapter 6 of *Computational Nuclear Engineering and Radiological Science Using Python*, R. McClarren (2018)"
   ]
  },
  {
   "cell_type": "markdown",
   "metadata": {
    "nbpages": {
     "level": 3,
     "link": "[1.10.1 Learning Objectives](https://ndcbe.github.io/cbe-xx258/01.10-Testing-and-Debugging.html#1.10.1-Learning-Objectives)",
     "section": "1.10.1 Learning Objectives"
    }
   },
   "source": [
    "### 1.10.1 Learning Objectives\n",
    "\n",
    "After studying this notebook, completing the activities, and asking questions in class, you should be able to:\n",
    "* Create `assert` statements and `try`-`except` blocks of code\n",
    "* Embrace the \"debugging mindset\" and test code you write it. We strongly recommend creating a handful of unit tests for each function you write, especially for complex codes (e.g., mini-projects)"
   ]
  },
  {
   "cell_type": "markdown",
   "metadata": {
    "nbpages": {
     "level": 2,
     "link": "[1.10.1 Testing Your Code](https://ndcbe.github.io/cbe-xx258/01.10-Testing-and-Debugging.html#1.10.1-Testing-Your-Code)",
     "section": "1.10.1 Testing Your Code"
    }
   },
   "source": [
    "## 1.10.1 Testing Your Code"
   ]
  },
  {
   "cell_type": "markdown",
   "metadata": {
    "nbpages": {
     "level": 2,
     "link": "[1.10.1 Testing Your Code](https://ndcbe.github.io/cbe-xx258/01.10-Testing-and-Debugging.html#1.10.1-Testing-Your-Code)",
     "section": "1.10.1 Testing Your Code"
    }
   },
   "source": [
    "Anytime you write code, you want to make sure that it accomplishes the desired task.\n",
    "\n",
    "### Motivating Example\n",
    "\n",
    "Through an example, we will demonstrate several strategies for systematically testing code.\n",
    "\n",
    "Phenolphthalein is a base indicator (it turns a pretty purple), but in the presence of a strong base it will fade over time.  This is a reversible reaction: pseudo first order in the forward (fading) direction and first order in the reverse direction.  The rate expression is:\n",
    "\n",
    "$$\n",
    "\\frac{d[P]}{dt} = -k_{1}[P][OH^-]+k_{2}[POH] ~,\n",
    "$$\n",
    " \n",
    "where $k_{1}' = k_{1}  \\cdot [OH^-]$ is the pseudo first order rate. $[POH]$ is only produced from this reaction, thus we have the mass balance:\n",
    "\n",
    "$$\n",
    "[POH] = [POH]\\Big|_{t=0}+([P]_{0}-[P]) ~.\n",
    "$$\n",
    "\n",
    "With the initial conditions:\n",
    "\n",
    "$$\n",
    "[P]\\Big|_{t=0}=[P]_{0}\\qquad; \\qquad [POH]\\Big|_{t=0}=0 ~.\n",
    "$$\n",
    "\n",
    "We can solve these equations to get the solution:\n",
    "\n",
    "$$\n",
    "[P] = [P]_{0}\\Big(\\frac{k_{2}}{k_{1}'+k_{2}}+\\frac{k_{1}'}{k_{1}'+k_{2}}e^{-(k_{1}'+k_{2})t}\\Big) ~.\n",
    "$$\n",
    "\n",
    "Let's examine a Python function to calculate the solution."
   ]
  },
  {
   "cell_type": "code",
   "execution_count": 1,
   "metadata": {
    "collapsed": true,
    "nbpages": {
     "level": 2,
     "link": "[1.10.1 Testing Your Code](https://ndcbe.github.io/cbe-xx258/01.10-Testing-and-Debugging.html#1.10.1-Testing-Your-Code)",
     "section": "1.10.1 Testing Your Code"
    }
   },
   "outputs": [],
   "source": [
    "import numpy as np\n",
    "def P_conc(t, P0, k1prime, k2, LOUD=False):\n",
    "    \"\"\" Computes the concentration of phenolphthalein as a function of time\n",
    "    \n",
    "    Args:\n",
    "        t: time, either a scalar (float) or vector (numpy array)\n",
    "        P0: initial concentration of phenolphthalein\n",
    "        k1prime: forward reaction rate constant\n",
    "        k2: reverse reaction rate constant\n",
    "        \n",
    "    Returns:\n",
    "        concentration, either a scalar (float) or vector (numpy array) depening in arg. t\n",
    "    \"\"\"\n",
    "    # compute first fraction in formula\n",
    "    frac1 = k2/(k1prime + k2)\n",
    "    \n",
    "    # compute section fraction in formula\n",
    "    frac2 = k1prime/(k1prime + k2)\n",
    "    \n",
    "    # compute term that goes into exponent\n",
    "    pre_expon = -(k1prime * k2)*t\n",
    "    \n",
    "    # evaluate exponent\n",
    "    expon = np.exp(pre_expon)\n",
    "    \n",
    "    # combine together\n",
    "    P = P0*(frac1 + frac2*expon)\n",
    "    \n",
    "    if LOUD:\n",
    "        print(\"frac1 = \",frac1)\n",
    "        print(\"frac2 = \",frac2)\n",
    "        print(\"pre_expon = \",pre_expon)\n",
    "        print(\"expon = \",expon)\n",
    "        print(\"P = \",P)\n",
    "    \n",
    "    # return final value\n",
    "    return P"
   ]
  },
  {
   "cell_type": "markdown",
   "metadata": {
    "nbpages": {
     "level": 2,
     "link": "[1.10.1 Testing Your Code](https://ndcbe.github.io/cbe-xx258/01.10-Testing-and-Debugging.html#1.10.1-Testing-Your-Code)",
     "section": "1.10.1 Testing Your Code"
    }
   },
   "source": [
    "We will now go through several tests to see if our function behaves correctly. *Note:* There are a few intentional mistakes above to make this exercise more interesting."
   ]
  },
  {
   "cell_type": "markdown",
   "metadata": {
    "nbpages": {
     "level": 3,
     "link": "[1.10.1.1 Test 0: Takes Inputs as Advertised?](https://ndcbe.github.io/cbe-xx258/01.10-Testing-and-Debugging.html#1.10.1.1-Test-0:-Takes-Inputs-as-Advertised?)",
     "section": "1.10.1.1 Test 0: Takes Inputs as Advertised?"
    }
   },
   "source": [
    "### 1.10.1.1 Test 0: Takes Inputs as Advertised?\n",
    "\n",
    "Does the function return a single value if input t is a scalar and return a numpy array if t is a vector?"
   ]
  },
  {
   "cell_type": "code",
   "execution_count": 2,
   "metadata": {
    "nbpages": {
     "level": 3,
     "link": "[1.10.1.1 Test 0: Takes Inputs as Advertised?](https://ndcbe.github.io/cbe-xx258/01.10-Testing-and-Debugging.html#1.10.1.1-Test-0:-Takes-Inputs-as-Advertised?)",
     "section": "1.10.1.1 Test 0: Takes Inputs as Advertised?"
    }
   },
   "outputs": [
    {
     "name": "stdout",
     "output_type": "stream",
     "text": [
      "1.0\n"
     ]
    }
   ],
   "source": [
    "# Check with scalar t\n",
    "print(P_conc(0.0,1.0,1.0,1.0))"
   ]
  },
  {
   "cell_type": "code",
   "execution_count": 3,
   "metadata": {
    "nbpages": {
     "level": 3,
     "link": "[1.10.1.1 Test 0: Takes Inputs as Advertised?](https://ndcbe.github.io/cbe-xx258/01.10-Testing-and-Debugging.html#1.10.1.1-Test-0:-Takes-Inputs-as-Advertised?)",
     "section": "1.10.1.1 Test 0: Takes Inputs as Advertised?"
    }
   },
   "outputs": [
    {
     "name": "stdout",
     "output_type": "stream",
     "text": [
      "[1. 1. 1.]\n"
     ]
    }
   ],
   "source": [
    "# Check with vector t\n",
    "print(P_conc(np.zeros(3),1.0,1.0,1.0))"
   ]
  },
  {
   "cell_type": "markdown",
   "metadata": {
    "nbpages": {
     "level": 3,
     "link": "[1.10.1.1 Test 0: Takes Inputs as Advertised?](https://ndcbe.github.io/cbe-xx258/01.10-Testing-and-Debugging.html#1.10.1.1-Test-0:-Takes-Inputs-as-Advertised?)",
     "section": "1.10.1.1 Test 0: Takes Inputs as Advertised?"
    }
   },
   "source": [
    "Good. The time input works as advertised."
   ]
  },
  {
   "cell_type": "markdown",
   "metadata": {
    "nbpages": {
     "level": 3,
     "link": "[1.10.1.2 Test 1: Initial Condition](https://ndcbe.github.io/cbe-xx258/01.10-Testing-and-Debugging.html#1.10.1.2-Test-1:-Initial-Condition)",
     "section": "1.10.1.2 Test 1: Initial Condition"
    }
   },
   "source": [
    "### 1.10.1.2 Test 1: Initial Condition\n",
    "\n",
    "First, let's check if our function returns the initial condition at $t=0$. From the formula above, we expect:\n",
    "\n",
    "$$\n",
    "[P]\\Big|_{t=0} = [P]_{0}\\Big(\\frac{k_{2}}{k_{1}'+k_{2}}+\\frac{k_{1}'}{k_{1}'+k_{2}}e^{0}\\Big) = [P]_{0}\\Big(\\frac{k_{2}}{k_{1}'+k_{2}}+\\frac{k_{1}'}{k_{1}'+k_{2}}1\\Big) = [P]_0\n",
    "$$"
   ]
  },
  {
   "cell_type": "markdown",
   "metadata": {
    "nbpages": {
     "level": 3,
     "link": "[1.10.1.2 Test 1: Initial Condition](https://ndcbe.github.io/cbe-xx258/01.10-Testing-and-Debugging.html#1.10.1.2-Test-1:-Initial-Condition)",
     "section": "1.10.1.2 Test 1: Initial Condition"
    }
   },
   "source": [
    "Let's start by defining a function for this test case. Notice the first input to our function is a function (see Class 4)."
   ]
  },
  {
   "cell_type": "code",
   "execution_count": 4,
   "metadata": {
    "collapsed": true,
    "nbpages": {
     "level": 3,
     "link": "[1.10.1.2 Test 1: Initial Condition](https://ndcbe.github.io/cbe-xx258/01.10-Testing-and-Debugging.html#1.10.1.2-Test-1:-Initial-Condition)",
     "section": "1.10.1.2 Test 1: Initial Condition"
    }
   },
   "outputs": [],
   "source": [
    "import math\n",
    "def test1(Pfunc, P0, k1prime, k2):\n",
    "    ''' Initial condition test\n",
    "    \n",
    "    Args:\n",
    "        Pfunc: a Python function to calculate P concentration. Expects 4 inputs.\n",
    "        P0: initial condition to test\n",
    "        k1prime: rate constant to test\n",
    "        k2: rate constrant to test\n",
    "        \n",
    "    Returns:\n",
    "        Boolean (true or false) indicated if our function passed or failed the test\n",
    "    \n",
    "    Side Effect:\n",
    "        Prints test parameters and message to screen\n",
    "    '''\n",
    "    \n",
    "    print(\"Testing initial condition with following specifications:\")\n",
    "    print(\"P0 = \",P0,\"  k1prime = \",k1prime, \"  k2 = \",k2)\n",
    "    Pcalc = Pfunc(0.0, P0, k1prime, k2)\n",
    "    print(\"Calculate value of P = \",Pcalc)\n",
    "    \n",
    "    if math.fabs(Pcalc - P0) < 1E-8:\n",
    "        print(\"Test passed.\\n\")\n",
    "        return True\n",
    "    else:\n",
    "        print(\"Something is wrong. You need to debug your code.\\n\")\n",
    "        return False"
   ]
  },
  {
   "cell_type": "markdown",
   "metadata": {
    "nbpages": {
     "level": 3,
     "link": "[1.10.1.2 Test 1: Initial Condition](https://ndcbe.github.io/cbe-xx258/01.10-Testing-and-Debugging.html#1.10.1.2-Test-1:-Initial-Condition)",
     "section": "1.10.1.2 Test 1: Initial Condition"
    }
   },
   "source": [
    "By defining this test as a function, we can quickly test several values for the input parameters."
   ]
  },
  {
   "cell_type": "code",
   "execution_count": 5,
   "metadata": {
    "nbpages": {
     "level": 3,
     "link": "[1.10.1.2 Test 1: Initial Condition](https://ndcbe.github.io/cbe-xx258/01.10-Testing-and-Debugging.html#1.10.1.2-Test-1:-Initial-Condition)",
     "section": "1.10.1.2 Test 1: Initial Condition"
    }
   },
   "outputs": [
    {
     "name": "stdout",
     "output_type": "stream",
     "text": [
      "Testing initial condition with following specifications:\n",
      "P0 =  1.0   k1prime =  1.0   k2 =  1.0\n",
      "Calculate value of P =  1.0\n",
      "Test passed.\n",
      "\n",
      "Testing initial condition with following specifications:\n",
      "P0 =  5.0   k1prime =  1.0   k2 =  0.001\n",
      "Calculate value of P =  5.000000000000001\n",
      "Test passed.\n",
      "\n"
     ]
    },
    {
     "data": {
      "text/plain": [
       "True"
      ]
     },
     "execution_count": 5,
     "metadata": {},
     "output_type": "execute_result"
    }
   ],
   "source": [
    "test1(P_conc,1.0,1.0,1.0)\n",
    "\n",
    "test1(P_conc, 5.0, 1.0, 0.001)"
   ]
  },
  {
   "cell_type": "markdown",
   "metadata": {
    "nbpages": {
     "level": 3,
     "link": "[1.10.1.2 Test 1: Initial Condition](https://ndcbe.github.io/cbe-xx258/01.10-Testing-and-Debugging.html#1.10.1.2-Test-1:-Initial-Condition)",
     "section": "1.10.1.2 Test 1: Initial Condition"
    }
   },
   "source": [
    "<div style=\"background-color: rgba(255,0,0,0.05) ; padding: 10px; border: 1px solid darkred;\"> \n",
    "<b>Tutorial Activity</b>: Take a few minutes to try a few more inputs. For example, $P_0$ = 10, $k_1' = 0.0001$ and $k_2$ = 0.3. Can you find a set of inputs that causes the test to fail?\n",
    "</div>\n"
   ]
  },
  {
   "cell_type": "code",
   "execution_count": null,
   "metadata": {
    "collapsed": true,
    "nbpages": {
     "level": 3,
     "link": "[1.10.1.2 Test 1: Initial Condition](https://ndcbe.github.io/cbe-xx258/01.10-Testing-and-Debugging.html#1.10.1.2-Test-1:-Initial-Condition)",
     "section": "1.10.1.2 Test 1: Initial Condition"
    }
   },
   "outputs": [],
   "source": []
  },
  {
   "cell_type": "markdown",
   "metadata": {
    "nbpages": {
     "level": 3,
     "link": "[1.10.1.3 Test 2: Asymptotics](https://ndcbe.github.io/cbe-xx258/01.10-Testing-and-Debugging.html#1.10.1.3-Test-2:-Asymptotics)",
     "section": "1.10.1.3 Test 2: Asymptotics"
    }
   },
   "source": [
    "### 1.10.1.3 Test 2: Asymptotics"
   ]
  },
  {
   "cell_type": "markdown",
   "metadata": {
    "nbpages": {
     "level": 3,
     "link": "[1.10.1.3 Test 2: Asymptotics](https://ndcbe.github.io/cbe-xx258/01.10-Testing-and-Debugging.html#1.10.1.3-Test-2:-Asymptotics)",
     "section": "1.10.1.3 Test 2: Asymptotics"
    }
   },
   "source": [
    "Let's examine the solution again, but consider $t \\rightarrow \\infty$.\n",
    "\n",
    "$$\n",
    "[P]\\Big|_{t\\rightarrow\\infty} = [P]_{0}\\Big(\\frac{k_{2}}{k_{1}'+k_{2}}+\\frac{k_{1}'}{k_{1}'+k_{2}}e^{-\\infty}\\Big) = [P]_{0}\\Big(\\frac{k_{2}}{k_{1}'+k_{2}}+\\frac{k_{1}'}{k_{1}'+k_{2}}0\\Big) = [P]_0 \\Big(\\frac{k_{2}}{k_{1}'+k_{2}} \\Big)\n",
    "$$\n",
    "\n",
    "Let's start by plotting $[P]$ as a function of time and see if it converges:"
   ]
  },
  {
   "cell_type": "code",
   "execution_count": 6,
   "metadata": {
    "nbpages": {
     "level": 3,
     "link": "[1.10.1.3 Test 2: Asymptotics](https://ndcbe.github.io/cbe-xx258/01.10-Testing-and-Debugging.html#1.10.1.3-Test-2:-Asymptotics)",
     "section": "1.10.1.3 Test 2: Asymptotics"
    }
   },
   "outputs": [
    {
     "data": {
      "image/png": "[encoded data removed]",
      "text/plain": [
       "<Figure size 432x288 with 1 Axes>"
      ]
     },
     "metadata": {},
     "output_type": "display_data"
    },
    {
     "name": "stdout",
     "output_type": "stream",
     "text": [
      "Test Passed.\n"
     ]
    },
    {
     "data": {
      "text/plain": [
       "True"
      ]
     },
     "execution_count": 6,
     "metadata": {},
     "output_type": "execute_result"
    }
   ],
   "source": [
    "import matplotlib.pyplot as plt\n",
    "#this line is only needed in iPython notebooks\n",
    "%matplotlib inline \n",
    "\n",
    "def test2(Pfunc, P0, k1prime, k2):\n",
    "    '''Asymptotics test\n",
    "    \n",
    "    Args:\n",
    "        Pfunc: a Python function to calculate P concentration. Expects 4 inputs.\n",
    "        P0: initial condition to test\n",
    "        k1prime: rate constant to test\n",
    "        k2: rate constrant to test\n",
    "        \n",
    "    Returns:\n",
    "        Boolean (true or false) indicated if our function passed or failed the test\n",
    "    \n",
    "    Side Effect:\n",
    "        Creates a plot. Prints if test passed or failed.\n",
    "    '''\n",
    "\n",
    "    # Generate 20 points from 10^-2 to 10^4\n",
    "    t = np.logspace(-1,4,20)\n",
    "    P = P_conc(t, P0, k1prime, k2)\n",
    "    \n",
    "    P_infty = P0*k2/(k1prime + k2)\n",
    "    # plot calculated value\n",
    "    plt.semilogx(t,P,'o-',label=\"function\")\n",
    "    \n",
    "    # plot calculated asymptotic value\n",
    "    plt.semilogx(t,P_infty*np.ones(len(t)),color='r',linestyle=\"--\",label=\"$([P]_0 \\cdot k_{2}) / (k_{1}'+k_{2})$\")\n",
    "    \n",
    "    # label plot\n",
    "    plt.xlabel('Time (units not given)')\n",
    "    plt.ylabel('$[P]$ (units not given)')\n",
    "    plt.title(\"$[P]_0$ = \" + str(P0) + \"    $k_1'$ = \" + str(k1prime) + \"    $k_2$ = \" + str(k2))\n",
    "    plt.legend()\n",
    "    plt.show()\n",
    "    \n",
    "    # check if solution converges to asymptotic value\n",
    "    if math.fabs(P[-1] - P_infty) < 1E-6:\n",
    "        # Note: P[-1] accesses the last value in array P\n",
    "        print(\"Test Passed.\")\n",
    "        return True\n",
    "    else:\n",
    "        print(\"Test Failed. Either debug code or increase time in test.\")\n",
    "        return False\n",
    "    \n",
    "test2(P_conc, 100, 10.0, 0.001)"
   ]
  },
  {
   "cell_type": "markdown",
   "metadata": {
    "nbpages": {
     "level": 3,
     "link": "[1.10.1.4 Test 3: Check a Few Inputs](https://ndcbe.github.io/cbe-xx258/01.10-Testing-and-Debugging.html#1.10.1.4-Test-3:-Check-a-Few-Inputs)",
     "section": "1.10.1.4 Test 3: Check a Few Inputs"
    }
   },
   "source": [
    "### 1.10.1.4 Test 3: Check a Few Inputs\n",
    "\n",
    "We can calculate with pencil, paper and a calculator values for $[P]$ for a few sets of inputs. We can then test if our Python code is close.\n",
    "\n",
    "For simplicity, let's consider $t=1$, $P[0] = 1$, $k_1' = 1$, $k_2 = 1$.\n",
    "\n",
    "$$-(k_{1}'+k_{2})t = - (1 + 1) \\cdot (1) = -2$$\n",
    "\n",
    "$$e^{-2} \\approx 0.13534$$\n",
    "\n",
    "$$\\frac{k_{2}}{k_{1}'+k_{2}} = \\frac{1}{1 + 1} = 0.5$$\n",
    "\n",
    "$$\\frac{k_{1}}{k_{1}'+k_{2}} = \\frac{1}{1 + 1} = 0.5$$\n",
    "\n",
    "Combine it all together:\n",
    "\n",
    "$$\n",
    "[P] = [P]_{0}\\Big(\\frac{k_{2}}{k_{1}'+k_{2}}+\\frac{k_{1}'}{k_{1}'+k_{2}}e^{-(k_{1}'+k_{2})t}\\Big) = (1) \\left(0.5 + 0.5 \\cdot e^{-2} \\right) \\approx 0.56766\n",
    "$$\n",
    "\n",
    "\n",
    "*Hint:* Remember, do not use an exact equality with floating point numbers. Instead, we check if the answers agree within a tolerance. See Class 1 for more details."
   ]
  },
  {
   "cell_type": "code",
   "execution_count": 7,
   "metadata": {
    "nbpages": {
     "level": 3,
     "link": "[1.10.1.4 Test 3: Check a Few Inputs](https://ndcbe.github.io/cbe-xx258/01.10-Testing-and-Debugging.html#1.10.1.4-Test-3:-Check-a-Few-Inputs)",
     "section": "1.10.1.4 Test 3: Check a Few Inputs"
    }
   },
   "outputs": [
    {
     "name": "stdout",
     "output_type": "stream",
     "text": [
      "Failed Test 3. Recreate your calculations and debug your code.\n"
     ]
    },
    {
     "data": {
      "text/plain": [
       "False"
      ]
     },
     "execution_count": 7,
     "metadata": {},
     "output_type": "execute_result"
    }
   ],
   "source": [
    "# Define test 3 as a function\n",
    "def test3(Pfunc):\n",
    "    '''Test function for known solution with t=1, [P0] = 1, k1prime = 1, k2 = 1\n",
    "    \n",
    "    Arg:\n",
    "        Pfunc: a Python function to calculate P concentration. Expects 4 inputs.\n",
    "        \n",
    "    Returns:\n",
    "        Boolean (true or false) indicated if our function passed or failed the test\n",
    "    \n",
    "    Side Effect:\n",
    "        Prints test parameters and message to screen\n",
    "    '''\n",
    "    \n",
    "    # Notice how using the keyword arguments makes the code very clear\n",
    "    P = Pfunc(t=1.0,P0=1.0,k1prime=1.0,k2=1.0)\n",
    "    \n",
    "    if math.fabs(P - 0.56766764161) < 1E-6:\n",
    "        print(\"Passed Test 3.\")\n",
    "        return True\n",
    "    else:\n",
    "        print(\"Failed Test 3. Recreate your calculations and debug your code.\")\n",
    "        return False\n",
    "\n",
    "# Run test   \n",
    "test3(P_conc)"
   ]
  },
  {
   "cell_type": "markdown",
   "metadata": {
    "nbpages": {
     "level": 1,
     "link": "[1.10 Debugging](https://ndcbe.github.io/cbe-xx258/01.10-Testing-and-Debugging.html#1.10-Debugging)",
     "section": "1.10 Debugging"
    }
   },
   "source": [
    "# 1.10 Debugging"
   ]
  },
  {
   "cell_type": "markdown",
   "metadata": {
    "nbpages": {
     "level": 1,
     "link": "[1.10 Debugging](https://ndcbe.github.io/cbe-xx258/01.10-Testing-and-Debugging.html#1.10-Debugging)",
     "section": "1.10 Debugging"
    }
   },
   "source": [
    "Now that we've identified that our code has a bug, the process of finding that error is called debugging. Given that we ran three tests, and two of them passed we can use how the tests are different to identify where the bug might be.\n",
    "\n",
    "We'll repeat the formula and function again:\n",
    "\n",
    "$$\n",
    "[P] = [P]_{0}\\Big(\\frac{k_{2}}{k_{1}'+k_{2}}+\\frac{k_{1}'}{k_{1}'+k_{2}}e^{-(k_{1}'+k_{2})t}\\Big) ~.\n",
    "$$"
   ]
  },
  {
   "cell_type": "code",
   "execution_count": 8,
   "metadata": {
    "collapsed": true,
    "nbpages": {
     "level": 1,
     "link": "[1.10 Debugging](https://ndcbe.github.io/cbe-xx258/01.10-Testing-and-Debugging.html#1.10-Debugging)",
     "section": "1.10 Debugging"
    }
   },
   "outputs": [],
   "source": [
    "import numpy as np\n",
    "def P_conc(t, P0, k1prime, k2, LOUD=False):\n",
    "    \"\"\" Computes the concentration of phenolphthalein as a function of time\n",
    "    \n",
    "    Args:\n",
    "        t: time, either a scalar (float) or vector (numpy array)\n",
    "        P0: initial concentration of phenolphthalein\n",
    "        k1prime: forward reaction rate constant\n",
    "        k2: reverse reaction rate constant\n",
    "        \n",
    "    Returns:\n",
    "        concentration, either a scalar (float) or vector (numpy array) depening in arg. t\n",
    "    \"\"\"\n",
    "    # compute first fraction in formula\n",
    "    frac1 = k2/(k1prime + k2)\n",
    "    \n",
    "    # compute section fraction in formula\n",
    "    frac2 = k1prime/(k1prime + k2)\n",
    "    \n",
    "    # compute term that goes into exponent\n",
    "    pre_expon = -(k1prime * k2)*t\n",
    "    \n",
    "    # evaluate exponent\n",
    "    expon = np.exp(pre_expon)\n",
    "    \n",
    "    # combine together\n",
    "    P = P0*(frac1 + frac2*expon)\n",
    "    \n",
    "    if LOUD:\n",
    "        print(\"frac1 = \",frac1)\n",
    "        print(\"frac2 = \",frac2)\n",
    "        print(\"pre_expon = \",pre_expon)\n",
    "        print(\"expon = \",expon)\n",
    "        print(\"P = \",P)\n",
    "    \n",
    "    # return final value\n",
    "    return P"
   ]
  },
  {
   "cell_type": "markdown",
   "metadata": {
    "nbpages": {
     "level": 3,
     "link": "[1.10.1 Debugging is a Mindset](https://ndcbe.github.io/cbe-xx258/01.10-Testing-and-Debugging.html#1.10.1-Debugging-is-a-Mindset)",
     "section": "1.10.1 Debugging is a Mindset"
    }
   },
   "source": [
    "### 1.10.1 Debugging is a Mindset\n",
    "\n",
    "To properly identify the bug you need to think about\n",
    "<ol>\n",
    "<li> How is the code failing?\n",
    "<li> What is the code doing correctly?\n",
    "<li> What pieces of the code are most likely to have an error?\n",
    "</ol>\n",
    "\n",
    "Moreover, your best tool for debugging is the <tt>print</tt> function.  When in doubt have the code print out what happens after every line and check that with your intuition/expectation.\n",
    "\n",
    "<b>When in doubt, print it (all) out!</b>\n",
    "\n",
    "Notice that we used the ``LOUD`` keyword to help us quick toggle print statements on and off. You should always use this trick in this class.\n",
    "\n",
    "Let's use the print statements to walk through the tests.\n",
    "\n",
    "\n",
    "### Test 1\n",
    "\n",
    "**Test 1** checks that we get the initial condition at $t=0$. We expect that ``prexpon`` evaluates to 0.0 and ``expon`` evaluates to 1.0. Let's see if this is happening:"
   ]
  },
  {
   "cell_type": "code",
   "execution_count": 9,
   "metadata": {
    "nbpages": {
     "level": 3,
     "link": "[1.10.1 Debugging is a Mindset](https://ndcbe.github.io/cbe-xx258/01.10-Testing-and-Debugging.html#1.10.1-Debugging-is-a-Mindset)",
     "section": "1.10.1 Debugging is a Mindset"
    }
   },
   "outputs": [
    {
     "name": "stdout",
     "output_type": "stream",
     "text": [
      "frac1 =  0.5\n",
      "frac2 =  0.5\n",
      "pre_expon =  -0.0\n",
      "expon =  1.0\n",
      "P =  1.0\n"
     ]
    },
    {
     "data": {
      "text/plain": [
       "1.0"
      ]
     },
     "execution_count": 9,
     "metadata": {},
     "output_type": "execute_result"
    }
   ],
   "source": [
    "P_conc(t=0.0, P0=1.0, k1prime = 1.0, k2 = 1.0, LOUD = True)"
   ]
  },
  {
   "cell_type": "markdown",
   "metadata": {
    "nbpages": {
     "level": 3,
     "link": "[1.10.1 Debugging is a Mindset](https://ndcbe.github.io/cbe-xx258/01.10-Testing-and-Debugging.html#1.10.1-Debugging-is-a-Mindset)",
     "section": "1.10.1 Debugging is a Mindset"
    }
   },
   "source": [
    "With ``expon`` at 1.0, **Test 1** checks that ``frac1`` and ``frac2`` sum to 1.0, which they do. Thus, it makes sense that **Test 1** passes."
   ]
  },
  {
   "cell_type": "markdown",
   "metadata": {
    "nbpages": {
     "level": 3,
     "link": "[1.10.2 Test 2](https://ndcbe.github.io/cbe-xx258/01.10-Testing-and-Debugging.html#1.10.2-Test-2)",
     "section": "1.10.2 Test 2"
    }
   },
   "source": [
    "### 1.10.2 Test 2\n",
    "\n",
    "**Test 2** checks for the correct properties as $t \\rightarrow \\infty$. Let's look at the output with ``t`` set to a huge number."
   ]
  },
  {
   "cell_type": "code",
   "execution_count": 10,
   "metadata": {
    "nbpages": {
     "level": 3,
     "link": "[1.10.2 Test 2](https://ndcbe.github.io/cbe-xx258/01.10-Testing-and-Debugging.html#1.10.2-Test-2)",
     "section": "1.10.2 Test 2"
    }
   },
   "outputs": [
    {
     "name": "stdout",
     "output_type": "stream",
     "text": [
      "frac1 =  0.6666666666666666\n",
      "frac2 =  0.3333333333333333\n",
      "pre_expon =  -20000000.0\n",
      "expon =  0.0\n",
      "P =  0.6666666666666666\n"
     ]
    },
    {
     "data": {
      "text/plain": [
       "0.6666666666666666"
      ]
     },
     "execution_count": 10,
     "metadata": {},
     "output_type": "execute_result"
    }
   ],
   "source": [
    "P_conc(t=1E7, P0=1.0, k1prime = 1.0, k2 = 2.0, LOUD = True)"
   ]
  },
  {
   "cell_type": "markdown",
   "metadata": {
    "nbpages": {
     "level": 3,
     "link": "[1.10.2 Test 2](https://ndcbe.github.io/cbe-xx258/01.10-Testing-and-Debugging.html#1.10.2-Test-2)",
     "section": "1.10.2 Test 2"
    }
   },
   "source": [
    "As expected, with ``t`` set to $10^7$, ``expon`` evaluates to 0.0. This kills ``frac2``. The calculated value for ``P`` matches ``frac1``, which we expect."
   ]
  },
  {
   "cell_type": "markdown",
   "metadata": {
    "nbpages": {
     "level": 3,
     "link": "[1.10.3 Test 3](https://ndcbe.github.io/cbe-xx258/01.10-Testing-and-Debugging.html#1.10.3-Test-3)",
     "section": "1.10.3 Test 3"
    }
   },
   "source": [
    "### 1.10.3 Test 3\n",
    "\n",
    "Now let's compare the intermediate values we calculated by hand in **Test 3** to those reported below:"
   ]
  },
  {
   "cell_type": "code",
   "execution_count": 11,
   "metadata": {
    "nbpages": {
     "level": 3,
     "link": "[1.10.3 Test 3](https://ndcbe.github.io/cbe-xx258/01.10-Testing-and-Debugging.html#1.10.3-Test-3)",
     "section": "1.10.3 Test 3"
    }
   },
   "outputs": [
    {
     "name": "stdout",
     "output_type": "stream",
     "text": [
      "frac1 =  0.5\n",
      "frac2 =  0.5\n",
      "pre_expon =  -1.0\n",
      "expon =  0.36787944117144233\n",
      "P =  0.6839397205857212\n"
     ]
    },
    {
     "data": {
      "text/plain": [
       "0.6839397205857212"
      ]
     },
     "execution_count": 11,
     "metadata": {},
     "output_type": "execute_result"
    }
   ],
   "source": [
    "P_conc(t=1.0, P0=1.0, k1prime = 1.0, k2 = 1.0, LOUD = True)"
   ]
  },
  {
   "cell_type": "markdown",
   "metadata": {
    "nbpages": {
     "level": 3,
     "link": "[1.10.3 Test 3](https://ndcbe.github.io/cbe-xx258/01.10-Testing-and-Debugging.html#1.10.3-Test-3)",
     "section": "1.10.3 Test 3"
    }
   },
   "source": [
    "<div style=\"background-color: rgba(255,0,0,0.05) ; padding: 10px; border: 1px solid darkred;\"> \n",
    "<b>Tutorial Activity</b>: Examine the output from Tests 1, 2 and 3 above. Find and correct the bug in our code. Then rerun the tests.\n",
    "</div>"
   ]
  },
  {
   "cell_type": "code",
   "execution_count": 12,
   "metadata": {
    "nbpages": {
     "level": 3,
     "link": "[1.10.3 Test 3](https://ndcbe.github.io/cbe-xx258/01.10-Testing-and-Debugging.html#1.10.3-Test-3)",
     "section": "1.10.3 Test 3"
    }
   },
   "outputs": [
    {
     "name": "stdout",
     "output_type": "stream",
     "text": [
      "\n",
      "TEST 1...\n",
      "Testing initial condition with following specifications:\n",
      "P0 =  1.0   k1prime =  1.0   k2 =  1.0\n",
      "Calculate value of P =  1.0\n",
      "Test passed.\n",
      "\n",
      "Testing initial condition with following specifications:\n",
      "P0 =  5.0   k1prime =  1.0   k2 =  0.001\n",
      "Calculate value of P =  5.000000000000001\n",
      "Test passed.\n",
      "\n",
      "\n",
      "TEST 2...\n"
     ]
    },
    {
     "data": {
      "image/png": "[encoded data removed]",
      "text/plain": [
       "<Figure size 432x288 with 1 Axes>"
      ]
     },
     "metadata": {},
     "output_type": "display_data"
    },
    {
     "name": "stdout",
     "output_type": "stream",
     "text": [
      "Test Passed.\n",
      "\n",
      "TEST 3...\n",
      "Passed Test 3.\n"
     ]
    },
    {
     "data": {
      "text/plain": [
       "True"
      ]
     },
     "execution_count": 12,
     "metadata": {},
     "output_type": "execute_result"
    }
   ],
   "source": [
    "import numpy as np\n",
    "\n",
    "# Find the bug and fix this function\n",
    "def P_conc_fixed(t, P0, k1prime, k2, LOUD=False):\n",
    "    \"\"\" Computes the concentration of phenolphthalein as a function of time\n",
    "    \n",
    "    Args:\n",
    "        t: time, either a scalar (float) or vector (numpy array)\n",
    "        P0: initial concentration of phenolphthalein\n",
    "        k1prime: forward reaction rate constant\n",
    "        k2: reverse reaction rate constant\n",
    "        \n",
    "    Returns:\n",
    "        concentration, either a scalar (float) or vector (numpy array) depening in arg. t\n",
    "    \"\"\"\n",
    "    # compute first fraction in formula\n",
    "    frac1 = k2/(k1prime + k2)\n",
    "    \n",
    "    # compute section fraction in formula\n",
    "    frac2 = k1prime/(k1prime + k2)\n",
    "    \n",
    "    # compute term that goes into exponent\n",
    "    pre_expon = -(k1prime + k2)*t\n",
    "    \n",
    "    # evaluate exponent\n",
    "    expon = np.exp(pre_expon)\n",
    "    \n",
    "    # combine together\n",
    "    P = P0*(frac1 + frac2*expon)\n",
    "    \n",
    "    if LOUD:\n",
    "        print(\"frac1 = \",frac1)\n",
    "        print(\"frac2 = \",frac2)\n",
    "        print(\"pre_expon = \",pre_expon)\n",
    "        print(\"expon = \",expon)\n",
    "        print(\"P = \",P)\n",
    "    \n",
    "    # return final value\n",
    "    return P\n",
    "\n",
    "# Rerun the tests\n",
    "print(\"\\nTEST 1...\")\n",
    "test1(P_conc_fixed,1.0,1.0,1.0)\n",
    "test1(P_conc_fixed, 5.0, 1.0, 0.001)\n",
    "\n",
    "print(\"\\nTEST 2...\")\n",
    "test2(P_conc_fixed, 100, 10.0, 0.001)\n",
    "\n",
    "print(\"\\nTEST 3...\")\n",
    "test3(P_conc_fixed)"
   ]
  },
  {
   "cell_type": "code",
   "execution_count": 13,
   "metadata": {
    "nbgrader": {
     "grade": true,
     "grade_id": "fix-bug",
     "locked": true,
     "points": "1",
     "solution": false
    },
    "nbpages": {
     "level": 3,
     "link": "[1.10.3 Test 3](https://ndcbe.github.io/cbe-xx258/01.10-Testing-and-Debugging.html#1.10.3-Test-3)",
     "section": "1.10.3 Test 3"
    }
   },
   "outputs": [
    {
     "name": "stdout",
     "output_type": "stream",
     "text": [
      "Testing initial condition with following specifications:\n",
      "P0 =  1.0   k1prime =  1.0   k2 =  1.0\n",
      "Calculate value of P =  1.0\n",
      "Test passed.\n",
      "\n",
      "Testing initial condition with following specifications:\n",
      "P0 =  5.0   k1prime =  1.0   k2 =  0.001\n",
      "Calculate value of P =  5.000000000000001\n",
      "Test passed.\n",
      "\n"
     ]
    },
    {
     "data": {
      "image/png": "[encoded data removed]",
      "text/plain": [
       "<Figure size 432x288 with 1 Axes>"
      ]
     },
     "metadata": {},
     "output_type": "display_data"
    },
    {
     "name": "stdout",
     "output_type": "stream",
     "text": [
      "Test Passed.\n",
      "Passed Test 3.\n"
     ]
    }
   ],
   "source": []
  },
  {
   "cell_type": "markdown",
   "metadata": {
    "nbpages": {
     "level": 3,
     "link": "[1.10.3 Test 3](https://ndcbe.github.io/cbe-xx258/01.10-Testing-and-Debugging.html#1.10.3-Test-3)",
     "section": "1.10.3 Test 3"
    }
   },
   "source": [
    "<div style=\"background-color: rgba(255,0,0,0.05) ; padding: 10px; border: 1px solid darkred;\"> \n",
    "<b>Tutorial Activity</b>: When first typing this model, I mistaking specified <tt>pre_expon = -(k1prime) + k2*t</tt>. Without running any Python code, which tests would fail with this bug? (This is a good exam practice question.)\n",
    "</div>"
   ]
  },
  {
   "cell_type": "markdown",
   "metadata": {
    "nbpages": {
     "level": 3,
     "link": "[1.10.3 Test 3](https://ndcbe.github.io/cbe-xx258/01.10-Testing-and-Debugging.html#1.10.3-Test-3)",
     "section": "1.10.3 Test 3"
    }
   },
   "source": [
    "Write your answer here:"
   ]
  },
  {
   "cell_type": "markdown",
   "metadata": {
    "nbpages": {
     "level": 1,
     "link": "[1.10 Assertions](https://ndcbe.github.io/cbe-xx258/01.10-Testing-and-Debugging.html#1.10-Assertions)",
     "section": "1.10 Assertions"
    }
   },
   "source": [
    "# 1.10 Assertions"
   ]
  },
  {
   "cell_type": "markdown",
   "metadata": {
    "nbpages": {
     "level": 1,
     "link": "[1.10 Assertions](https://ndcbe.github.io/cbe-xx258/01.10-Testing-and-Debugging.html#1.10-Assertions)",
     "section": "1.10 Assertions"
    }
   },
   "source": [
    "In life it pays to be assertive.  The same is true in programming.  Let's try an example."
   ]
  },
  {
   "cell_type": "code",
   "execution_count": 14,
   "metadata": {
    "nbpages": {
     "level": 1,
     "link": "[1.10 Assertions](https://ndcbe.github.io/cbe-xx258/01.10-Testing-and-Debugging.html#1.10-Assertions)",
     "section": "1.10 Assertions"
    }
   },
   "outputs": [
    {
     "name": "stdout",
     "output_type": "stream",
     "text": [
      "With negative P0, P(t=10) = -5.000226999648812\n"
     ]
    }
   ],
   "source": [
    "test_P = P_conc(t=10.0, P0=-10, k1prime=1, k2=1)\n",
    "print(\"With negative P0, P(t=10) =\", test_P)"
   ]
  },
  {
   "cell_type": "markdown",
   "metadata": {
    "nbpages": {
     "level": 1,
     "link": "[1.10 Assertions](https://ndcbe.github.io/cbe-xx258/01.10-Testing-and-Debugging.html#1.10-Assertions)",
     "section": "1.10 Assertions"
    }
   },
   "source": [
    "The code worked, but the answer is non-sensical.  We'd like to tell the user that ``P_calc`` was called with an improper value. We could just change the help text to indicate that each input needs to be greater than zero. "
   ]
  },
  {
   "cell_type": "code",
   "execution_count": 15,
   "metadata": {
    "collapsed": true,
    "nbpages": {
     "level": 1,
     "link": "[1.10 Assertions](https://ndcbe.github.io/cbe-xx258/01.10-Testing-and-Debugging.html#1.10-Assertions)",
     "section": "1.10 Assertions"
    }
   },
   "outputs": [],
   "source": [
    "import numpy as np\n",
    "\n",
    "def P_conc_docs(t, P0, k1prime, k2, LOUD=False):\n",
    "    \"\"\" Computes the concentration of phenolphthalein as a function of time\n",
    "    \n",
    "    Args:\n",
    "        t: time, either a scalar (float) or vector (numpy array)\n",
    "        P0: initial concentration of phenolphthalein, MUST BE POSITIVE\n",
    "        k1prime: forward reaction rate constant, MUST BE POSITIVE\n",
    "        k2: reverse reaction rate constant, MUST BE POSITIVE\n",
    "        \n",
    "    Returns:\n",
    "        concentration, either a scalar (float) or vector (numpy array) depening in arg. t\n",
    "    \"\"\"\n",
    "    # compute first fraction in formula\n",
    "    frac1 = k2/(k1prime + k2)\n",
    "    \n",
    "    # compute section fraction in formula\n",
    "    frac2 = k1prime/(k1prime + k2)\n",
    "    \n",
    "    # compute term that goes into exponent. bug has been fixed\n",
    "    pre_expon = -(k1prime + k2)*t\n",
    "    \n",
    "    # evaluate exponent\n",
    "    expon = np.exp(pre_expon)\n",
    "    \n",
    "    # combine together\n",
    "    P = P0*(frac1 + frac2*expon)\n",
    "    \n",
    "    if LOUD:\n",
    "        print(\"frac1 = \",frac1)\n",
    "        print(\"frac2 = \",frac2)\n",
    "        print(\"pre_expon = \",pre_expon)\n",
    "        print(\"expon = \",expon)\n",
    "        print(\"P = \",P)\n",
    "    \n",
    "    # return final value\n",
    "    return P"
   ]
  },
  {
   "cell_type": "code",
   "execution_count": 16,
   "metadata": {
    "nbpages": {
     "level": 1,
     "link": "[1.10 Assertions](https://ndcbe.github.io/cbe-xx258/01.10-Testing-and-Debugging.html#1.10-Assertions)",
     "section": "1.10 Assertions"
    }
   },
   "outputs": [
    {
     "name": "stdout",
     "output_type": "stream",
     "text": [
      "Help on function P_conc_docs in module __main__:\n",
      "\n",
      "P_conc_docs(t, P0, k1prime, k2, LOUD=False)\n",
      "    Computes the concentration of phenolphthalein as a function of time\n",
      "    \n",
      "    Args:\n",
      "        t: time, either a scalar (float) or vector (numpy array)\n",
      "        P0: initial concentration of phenolphthalein, MUST BE POSITIVE\n",
      "        k1prime: forward reaction rate constant, MUST BE POSITIVE\n",
      "        k2: reverse reaction rate constant, MUST BE POSITIVE\n",
      "        \n",
      "    Returns:\n",
      "        concentration, either a scalar (float) or vector (numpy array) depening in arg. t\n",
      "\n",
      "With negative P0, P(t=10) = -5.000000010305769\n"
     ]
    }
   ],
   "source": [
    "help(P_conc_docs)\n",
    "\n",
    "#the result is the same\n",
    "test_P = P_conc_docs(t=10.0, P0=-10, k1prime=1, k2=1)\n",
    "print(\"With negative P0, P(t=10) =\", test_P)"
   ]
  },
  {
   "cell_type": "markdown",
   "metadata": {
    "nbpages": {
     "level": 1,
     "link": "[1.10 Assertions](https://ndcbe.github.io/cbe-xx258/01.10-Testing-and-Debugging.html#1.10-Assertions)",
     "section": "1.10 Assertions"
    }
   },
   "source": [
    "Well the result is the same: if the user doesn't respect the instruction for the function inputs, the function will behave strangely. It could be even worse:"
   ]
  },
  {
   "cell_type": "code",
   "execution_count": 17,
   "metadata": {
    "nbpages": {
     "level": 1,
     "link": "[1.10 Assertions](https://ndcbe.github.io/cbe-xx258/01.10-Testing-and-Debugging.html#1.10-Assertions)",
     "section": "1.10 Assertions"
    }
   },
   "outputs": [
    {
     "ename": "ZeroDivisionError",
     "evalue": "float division by zero",
     "output_type": "error",
     "traceback": [
      "\u001b[0;31m---------------------------------------------------------------------------\u001b[0m",
      "\u001b[0;31mZeroDivisionError\u001b[0m                         Traceback (most recent call last)",
      "\u001b[0;32m<ipython-input-17-b294912d3709>\u001b[0m in \u001b[0;36m<module>\u001b[0;34m()\u001b[0m\n\u001b[0;32m----> 1\u001b[0;31m \u001b[0mtest_P\u001b[0m \u001b[0;34m=\u001b[0m \u001b[0mP_conc_docs\u001b[0m\u001b[0;34m(\u001b[0m\u001b[0mt\u001b[0m\u001b[0;34m=\u001b[0m\u001b[0;36m10.0\u001b[0m\u001b[0;34m,\u001b[0m \u001b[0mP0\u001b[0m\u001b[0;34m=\u001b[0m\u001b[0;34m-\u001b[0m\u001b[0;36m10\u001b[0m\u001b[0;34m,\u001b[0m \u001b[0mk1prime\u001b[0m\u001b[0;34m=\u001b[0m\u001b[0;36m0.0\u001b[0m\u001b[0;34m,\u001b[0m \u001b[0mk2\u001b[0m\u001b[0;34m=\u001b[0m\u001b[0;36m0.0\u001b[0m\u001b[0;34m)\u001b[0m\u001b[0;34m\u001b[0m\u001b[0m\n\u001b[0m\u001b[1;32m      2\u001b[0m \u001b[0mprint\u001b[0m\u001b[0;34m(\u001b[0m\u001b[0;34m\"With negative k1prime and negative k2, P(t=10) =\"\u001b[0m\u001b[0;34m,\u001b[0m \u001b[0mtest_P\u001b[0m\u001b[0;34m)\u001b[0m\u001b[0;34m\u001b[0m\u001b[0m\n",
      "\u001b[0;32m<ipython-input-15-f333314c111d>\u001b[0m in \u001b[0;36mP_conc_docs\u001b[0;34m(t, P0, k1prime, k2, LOUD)\u001b[0m\n\u001b[1;32m     14\u001b[0m     \"\"\"\n\u001b[1;32m     15\u001b[0m     \u001b[0;31m# compute first fraction in formula\u001b[0m\u001b[0;34m\u001b[0m\u001b[0;34m\u001b[0m\u001b[0m\n\u001b[0;32m---> 16\u001b[0;31m     \u001b[0mfrac1\u001b[0m \u001b[0;34m=\u001b[0m \u001b[0mk2\u001b[0m\u001b[0;34m/\u001b[0m\u001b[0;34m(\u001b[0m\u001b[0mk1prime\u001b[0m \u001b[0;34m+\u001b[0m \u001b[0mk2\u001b[0m\u001b[0;34m)\u001b[0m\u001b[0;34m\u001b[0m\u001b[0m\n\u001b[0m\u001b[1;32m     17\u001b[0m \u001b[0;34m\u001b[0m\u001b[0m\n\u001b[1;32m     18\u001b[0m     \u001b[0;31m# compute section fraction in formula\u001b[0m\u001b[0;34m\u001b[0m\u001b[0;34m\u001b[0m\u001b[0m\n",
      "\u001b[0;31mZeroDivisionError\u001b[0m: float division by zero"
     ]
    }
   ],
   "source": [
    "test_P = P_conc_docs(t=10.0, P0=-10, k1prime=0.0, k2=0.0)\n",
    "print(\"With negative k1prime and negative k2, P(t=10) =\", test_P)"
   ]
  },
  {
   "cell_type": "markdown",
   "metadata": {
    "nbpages": {
     "level": 1,
     "link": "[1.10 Assertions](https://ndcbe.github.io/cbe-xx258/01.10-Testing-and-Debugging.html#1.10-Assertions)",
     "section": "1.10 Assertions"
    }
   },
   "source": [
    "This is where the assert statement comes in.  It can assure that the arguments to the function are what they should be."
   ]
  },
  {
   "cell_type": "code",
   "execution_count": 18,
   "metadata": {
    "collapsed": true,
    "nbpages": {
     "level": 1,
     "link": "[1.10 Assertions](https://ndcbe.github.io/cbe-xx258/01.10-Testing-and-Debugging.html#1.10-Assertions)",
     "section": "1.10 Assertions"
    }
   },
   "outputs": [],
   "source": [
    "import numpy as np\n",
    "def P_conc_assert(t, P0, k1prime, k2, LOUD=False):\n",
    "    \"\"\" Computes the concentration of phenolphthalein as a function of time\n",
    "    \n",
    "    Args:\n",
    "        t: time, either a scalar (float) or vector (numpy array)\n",
    "        P0: initial concentration of phenolphthalein, MUST BE POSITIVE\n",
    "        k1prime: forward reaction rate constant, MUST BE POSITIVE\n",
    "        k2: reverse reaction rate constant, MUST BE POSITIVE\n",
    "        \n",
    "    Returns:\n",
    "        concentration, either a scalar (float) or vector (numpy array) depening in arg. t\n",
    "    \"\"\"\n",
    "    \n",
    "    assert (P0 >0)\n",
    "    assert (k1prime > 0) \n",
    "    assert (k2 >0)\n",
    "    assert (k1prime + k2 > 1E-10)\n",
    "    \n",
    "    # compute first fraction in formula\n",
    "    frac1 = k2/(k1prime + k2)\n",
    "    \n",
    "    # compute section fraction in formula\n",
    "    frac2 = k1prime/(k1prime + k2)\n",
    "    \n",
    "    # compute term that goes into exponent. bug has been fixed\n",
    "    pre_expon = -(k1prime + k2)*t\n",
    "    \n",
    "    # evaluate exponent\n",
    "    expon = np.exp(pre_expon)\n",
    "    \n",
    "    # for some problems, it makes sense to also apply assert to intermediate values\n",
    "    \n",
    "    # combine together\n",
    "    P = P0*(frac1 + frac2*expon)\n",
    "    \n",
    "    if LOUD:\n",
    "        print(\"frac1 = \",frac1)\n",
    "        print(\"frac2 = \",frac2)\n",
    "        print(\"pre_expon = \",pre_expon)\n",
    "        print(\"expon = \",expon)\n",
    "        print(\"P = \",P)\n",
    "    \n",
    "    # return final value\n",
    "    return P"
   ]
  },
  {
   "cell_type": "code",
   "execution_count": 19,
   "metadata": {
    "nbpages": {
     "level": 1,
     "link": "[1.10 Assertions](https://ndcbe.github.io/cbe-xx258/01.10-Testing-and-Debugging.html#1.10-Assertions)",
     "section": "1.10 Assertions"
    }
   },
   "outputs": [
    {
     "ename": "AssertionError",
     "evalue": "",
     "output_type": "error",
     "traceback": [
      "\u001b[0;31m---------------------------------------------------------------------------\u001b[0m",
      "\u001b[0;31mAssertionError\u001b[0m                            Traceback (most recent call last)",
      "\u001b[0;32m<ipython-input-19-5da5158ce7f1>\u001b[0m in \u001b[0;36m<module>\u001b[0;34m()\u001b[0m\n\u001b[0;32m----> 1\u001b[0;31m \u001b[0mtest_P\u001b[0m \u001b[0;34m=\u001b[0m \u001b[0mP_conc_assert\u001b[0m\u001b[0;34m(\u001b[0m\u001b[0mt\u001b[0m\u001b[0;34m=\u001b[0m\u001b[0;36m10.0\u001b[0m\u001b[0;34m,\u001b[0m \u001b[0mP0\u001b[0m\u001b[0;34m=\u001b[0m\u001b[0;36m1.0\u001b[0m\u001b[0;34m,\u001b[0m \u001b[0mk1prime\u001b[0m\u001b[0;34m=\u001b[0m\u001b[0;36m0.0\u001b[0m\u001b[0;34m,\u001b[0m \u001b[0mk2\u001b[0m\u001b[0;34m=\u001b[0m\u001b[0;36m0.0\u001b[0m\u001b[0;34m)\u001b[0m\u001b[0;34m\u001b[0m\u001b[0m\n\u001b[0m\u001b[1;32m      2\u001b[0m \u001b[0mprint\u001b[0m\u001b[0;34m(\u001b[0m\u001b[0;34m\"With negative k1prime and negative k2, P(t=10) =\"\u001b[0m\u001b[0;34m,\u001b[0m \u001b[0mtest_P\u001b[0m\u001b[0;34m)\u001b[0m\u001b[0;34m\u001b[0m\u001b[0m\n",
      "\u001b[0;32m<ipython-input-18-43e0fdffa38f>\u001b[0m in \u001b[0;36mP_conc_assert\u001b[0;34m(t, P0, k1prime, k2, LOUD)\u001b[0m\n\u001b[1;32m     14\u001b[0m \u001b[0;34m\u001b[0m\u001b[0m\n\u001b[1;32m     15\u001b[0m     \u001b[0;32massert\u001b[0m \u001b[0;34m(\u001b[0m\u001b[0mP0\u001b[0m \u001b[0;34m>\u001b[0m\u001b[0;36m0\u001b[0m\u001b[0;34m)\u001b[0m\u001b[0;34m\u001b[0m\u001b[0m\n\u001b[0;32m---> 16\u001b[0;31m     \u001b[0;32massert\u001b[0m \u001b[0;34m(\u001b[0m\u001b[0mk1prime\u001b[0m \u001b[0;34m>\u001b[0m \u001b[0;36m0\u001b[0m\u001b[0;34m)\u001b[0m\u001b[0;34m\u001b[0m\u001b[0m\n\u001b[0m\u001b[1;32m     17\u001b[0m     \u001b[0;32massert\u001b[0m \u001b[0;34m(\u001b[0m\u001b[0mk2\u001b[0m \u001b[0;34m>\u001b[0m\u001b[0;36m0\u001b[0m\u001b[0;34m)\u001b[0m\u001b[0;34m\u001b[0m\u001b[0m\n\u001b[1;32m     18\u001b[0m     \u001b[0;32massert\u001b[0m \u001b[0;34m(\u001b[0m\u001b[0mk1prime\u001b[0m \u001b[0;34m+\u001b[0m \u001b[0mk2\u001b[0m \u001b[0;34m>\u001b[0m \u001b[0;36m1E-10\u001b[0m\u001b[0;34m)\u001b[0m\u001b[0;34m\u001b[0m\u001b[0m\n",
      "\u001b[0;31mAssertionError\u001b[0m: "
     ]
    }
   ],
   "source": [
    "test_P = P_conc_assert(t=10.0, P0=1.0, k1prime=0.0, k2=0.0)\n",
    "print(\"With negative k1prime and negative k2, P(t=10) =\", test_P)"
   ]
  },
  {
   "cell_type": "markdown",
   "metadata": {
    "nbpages": {
     "level": 1,
     "link": "[1.10 Assertions](https://ndcbe.github.io/cbe-xx258/01.10-Testing-and-Debugging.html#1.10-Assertions)",
     "section": "1.10 Assertions"
    }
   },
   "source": [
    "Notice that python tells us which assertion failed so we know that the function call had a bad value of ``k1prime``.  The program still fails, but it tells us exactly why. We can also use assertions to test that the code behaves the way we expect.\n",
    "\n",
    "These types of assert statements can help you debug later on down the road."
   ]
  },
  {
   "cell_type": "markdown",
   "metadata": {
    "nbpages": {
     "level": 1,
     "link": "[1.10 Error Handling](https://ndcbe.github.io/cbe-xx258/01.10-Testing-and-Debugging.html#1.10-Error-Handling)",
     "section": "1.10 Error Handling"
    }
   },
   "source": [
    "# 1.10 Error Handling"
   ]
  },
  {
   "cell_type": "markdown",
   "metadata": {
    "nbpages": {
     "level": 1,
     "link": "[1.10 Error Handling](https://ndcbe.github.io/cbe-xx258/01.10-Testing-and-Debugging.html#1.10-Error-Handling)",
     "section": "1.10 Error Handling"
    }
   },
   "source": [
    "There are times when you want to handle an error gracefully. When a program is running, if it encounters an error it can raise and exception. The exception will give some indication of what the error is. In Python, you can place some code in a special block of code called a **try block**. After the try block, the types of exception to handle are listed using except blocks. Only the exceptions that are explicitly handled are caught.\n",
    "\n",
    "One type of exception is the ``ZeroDivisionError`` that is raised when a number is divided by zero. First, we will look at an uncaught exception:"
   ]
  },
  {
   "cell_type": "code",
   "execution_count": 20,
   "metadata": {
    "nbpages": {
     "level": 1,
     "link": "[1.10 Error Handling](https://ndcbe.github.io/cbe-xx258/01.10-Testing-and-Debugging.html#1.10-Error-Handling)",
     "section": "1.10 Error Handling"
    }
   },
   "outputs": [
    {
     "ename": "ZeroDivisionError",
     "evalue": "float division by zero",
     "output_type": "error",
     "traceback": [
      "\u001b[0;31m---------------------------------------------------------------------------\u001b[0m",
      "\u001b[0;31mZeroDivisionError\u001b[0m                         Traceback (most recent call last)",
      "\u001b[0;32m<ipython-input-20-7351058cd412>\u001b[0m in \u001b[0;36m<module>\u001b[0;34m()\u001b[0m\n\u001b[0;32m----> 1\u001b[0;31m \u001b[0mz\u001b[0m \u001b[0;34m=\u001b[0m \u001b[0;36m10.5\u001b[0m\u001b[0;34m/\u001b[0m\u001b[0;36m0\u001b[0m\u001b[0;34m\u001b[0m\u001b[0m\n\u001b[0m",
      "\u001b[0;31mZeroDivisionError\u001b[0m: float division by zero"
     ]
    }
   ],
   "source": [
    "z = 10.5/0"
   ]
  },
  {
   "cell_type": "code",
   "execution_count": 25,
   "metadata": {
    "nbpages": {
     "level": 1,
     "link": "[1.10 Error Handling](https://ndcbe.github.io/cbe-xx258/01.10-Testing-and-Debugging.html#1.10-Error-Handling)",
     "section": "1.10 Error Handling"
    }
   },
   "outputs": [
    {
     "name": "stdout",
     "output_type": "stream",
     "text": [
      "You cannot Divide by zero\n"
     ]
    }
   ],
   "source": [
    "try:\n",
    "    z = 10.5/0\n",
    "except ZeroDivisionError:\n",
    "    print(\"You cannot Divide by zero\")\n"
   ]
  },
  {
   "cell_type": "markdown",
   "metadata": {
    "nbpages": {
     "level": 1,
     "link": "[1.10 Error Handling](https://ndcbe.github.io/cbe-xx258/01.10-Testing-and-Debugging.html#1.10-Error-Handling)",
     "section": "1.10 Error Handling"
    }
   },
   "source": [
    "One thing that happens when you catch a raised exception, is that **the program will continue on**. This can be a useful feature, but often times you want to catch an exception, print a useful error message, and then have the program end. This can be done by adding a ``raise`` statement to the end of the except block. The raise statement tells Python to still fail due to the exception, despite the fact that we caught it. This changes the previous example by one line, but changes the output and forces the program to quit:"
   ]
  },
  {
   "cell_type": "code",
   "execution_count": 24,
   "metadata": {
    "nbpages": {
     "level": 1,
     "link": "[1.10 Error Handling](https://ndcbe.github.io/cbe-xx258/01.10-Testing-and-Debugging.html#1.10-Error-Handling)",
     "section": "1.10 Error Handling"
    }
   },
   "outputs": [
    {
     "name": "stdout",
     "output_type": "stream",
     "text": [
      "You cannot divide by 0, exiting\n"
     ]
    },
    {
     "ename": "ZeroDivisionError",
     "evalue": "float division by zero",
     "output_type": "error",
     "traceback": [
      "\u001b[0;31m---------------------------------------------------------------------------\u001b[0m",
      "\u001b[0;31mZeroDivisionError\u001b[0m                         Traceback (most recent call last)",
      "\u001b[0;32m<ipython-input-24-e0457518558c>\u001b[0m in \u001b[0;36m<module>\u001b[0;34m()\u001b[0m\n\u001b[1;32m      1\u001b[0m \u001b[0;32mtry\u001b[0m\u001b[0;34m:\u001b[0m\u001b[0;34m\u001b[0m\u001b[0m\n\u001b[0;32m----> 2\u001b[0;31m     \u001b[0mz\u001b[0m \u001b[0;34m=\u001b[0m \u001b[0;36m10.5\u001b[0m\u001b[0;34m/\u001b[0m\u001b[0;36m0\u001b[0m\u001b[0;34m\u001b[0m\u001b[0m\n\u001b[0m\u001b[1;32m      3\u001b[0m \u001b[0;32mexcept\u001b[0m \u001b[0mZeroDivisionError\u001b[0m\u001b[0;34m:\u001b[0m\u001b[0;34m\u001b[0m\u001b[0m\n\u001b[1;32m      4\u001b[0m     \u001b[0mprint\u001b[0m\u001b[0;34m(\u001b[0m\u001b[0;34m\"You cannot divide by 0, exiting\"\u001b[0m\u001b[0;34m)\u001b[0m\u001b[0;34m\u001b[0m\u001b[0m\n\u001b[1;32m      5\u001b[0m     \u001b[0;32mraise\u001b[0m \u001b[0;31m# kill the program\u001b[0m\u001b[0;34m\u001b[0m\u001b[0m\n",
      "\u001b[0;31mZeroDivisionError\u001b[0m: float division by zero"
     ]
    }
   ],
   "source": [
    "try:\n",
    "    z = 10.5/0\n",
    "except ZeroDivisionError:\n",
    "    print(\"You cannot divide by 0, exiting\")\n",
    "    raise # kill the program"
   ]
  },
  {
   "cell_type": "markdown",
   "metadata": {
    "nbpages": {
     "level": 1,
     "link": "[1.10 Error Handling](https://ndcbe.github.io/cbe-xx258/01.10-Testing-and-Debugging.html#1.10-Error-Handling)",
     "section": "1.10 Error Handling"
    }
   },
   "source": [
    "Let's see this applied to our reaction kinetics example."
   ]
  },
  {
   "cell_type": "code",
   "execution_count": 22,
   "metadata": {
    "collapsed": true,
    "nbpages": {
     "level": 1,
     "link": "[1.10 Error Handling](https://ndcbe.github.io/cbe-xx258/01.10-Testing-and-Debugging.html#1.10-Error-Handling)",
     "section": "1.10 Error Handling"
    }
   },
   "outputs": [],
   "source": [
    "import numpy as np\n",
    "def P_conc_assert2(t, P0, k1prime, k2, LOUD=False):\n",
    "    \"\"\" Computes the concentration of phenolphthalein as a function of time\n",
    "    \n",
    "    Args:\n",
    "        t: time, either a scalar (float) or vector (numpy array)\n",
    "        P0: initial concentration of phenolphthalein, MUST BE POSITIVE\n",
    "        k1prime: forward reaction rate constant, MUST BE POSITIVE\n",
    "        k2: reverse reaction rate constant, MUST BE POSITIVE\n",
    "        \n",
    "    Returns:\n",
    "        concentration, either a scalar (float) or vector (numpy array) depening in arg. t\n",
    "    \"\"\"\n",
    "    try:\n",
    "        assert (P0 >0)\n",
    "        assert (k1prime > 0) \n",
    "        assert (k2 >0)\n",
    "        assert (k1prime + k2 > 1E-10)\n",
    "    except AssertionError:\n",
    "        print(\"Input Parameters are not all positive.\") \n",
    "        print(\"P0 =\",P0) \n",
    "        print(\"k1prime =\",k1prime)\n",
    "        print(\"k2 =\",k2)\n",
    "        raise # kill the program\n",
    "    except:\n",
    "        print(\"An unexpected error occurred when\",\n",
    "                              \"checking the function parameters\")\n",
    "        raise # kill the program\n",
    "    \n",
    "    \n",
    "    # compute first fraction in formula\n",
    "    frac1 = k2/(k1prime + k2)\n",
    "    \n",
    "    # compute section fraction in formula\n",
    "    frac2 = k1prime/(k1prime + k2)\n",
    "    \n",
    "    # compute term that goes into exponent. bug has been fixed\n",
    "    pre_expon = -(k1prime + k2)*t\n",
    "    \n",
    "    # evaluate exponent\n",
    "    expon = np.exp(pre_expon)\n",
    "    \n",
    "    # for some problems, it makes sense to also apply assert to intermediate values\n",
    "    \n",
    "    # combine together\n",
    "    P = P0*(frac1 + frac2*expon)\n",
    "    \n",
    "    if LOUD:\n",
    "        print(\"frac1 = \",frac1)\n",
    "        print(\"frac2 = \",frac2)\n",
    "        print(\"pre_expon = \",pre_expon)\n",
    "        print(\"expon = \",expon)\n",
    "        print(\"P = \",P)\n",
    "    \n",
    "    # return final value\n",
    "    return P"
   ]
  },
  {
   "cell_type": "markdown",
   "metadata": {
    "nbpages": {
     "level": 1,
     "link": "[1.10 Error Handling](https://ndcbe.github.io/cbe-xx258/01.10-Testing-and-Debugging.html#1.10-Error-Handling)",
     "section": "1.10 Error Handling"
    }
   },
   "source": [
    "\n",
    "With this function, if it is passed a negative value, will raise an <tt>AssertionError</tt>. The code catches this error, prints out the input parameters to the user, and then exits by raising the exception."
   ]
  },
  {
   "cell_type": "code",
   "execution_count": 23,
   "metadata": {
    "nbpages": {
     "level": 1,
     "link": "[1.10 Error Handling](https://ndcbe.github.io/cbe-xx258/01.10-Testing-and-Debugging.html#1.10-Error-Handling)",
     "section": "1.10 Error Handling"
    }
   },
   "outputs": [
    {
     "name": "stdout",
     "output_type": "stream",
     "text": [
      "Input Parameters are not all positive.\n",
      "P0 = 1.0\n",
      "k1prime = 0.0\n",
      "k2 = 0.0\n"
     ]
    },
    {
     "ename": "AssertionError",
     "evalue": "",
     "output_type": "error",
     "traceback": [
      "\u001b[0;31m---------------------------------------------------------------------------\u001b[0m",
      "\u001b[0;31mAssertionError\u001b[0m                            Traceback (most recent call last)",
      "\u001b[0;32m<ipython-input-23-01ec377f196b>\u001b[0m in \u001b[0;36m<module>\u001b[0;34m()\u001b[0m\n\u001b[0;32m----> 1\u001b[0;31m \u001b[0mtest_P\u001b[0m \u001b[0;34m=\u001b[0m \u001b[0mP_conc_assert2\u001b[0m\u001b[0;34m(\u001b[0m\u001b[0mt\u001b[0m\u001b[0;34m=\u001b[0m\u001b[0;36m10.0\u001b[0m\u001b[0;34m,\u001b[0m \u001b[0mP0\u001b[0m\u001b[0;34m=\u001b[0m\u001b[0;36m1.0\u001b[0m\u001b[0;34m,\u001b[0m \u001b[0mk1prime\u001b[0m\u001b[0;34m=\u001b[0m\u001b[0;36m0.0\u001b[0m\u001b[0;34m,\u001b[0m \u001b[0mk2\u001b[0m\u001b[0;34m=\u001b[0m\u001b[0;36m0.0\u001b[0m\u001b[0;34m)\u001b[0m\u001b[0;34m\u001b[0m\u001b[0m\n\u001b[0m\u001b[1;32m      2\u001b[0m \u001b[0mprint\u001b[0m\u001b[0;34m(\u001b[0m\u001b[0;34m\"With negative k1prime and negative k2, P(t=10) =\"\u001b[0m\u001b[0;34m,\u001b[0m \u001b[0mtest_P\u001b[0m\u001b[0;34m)\u001b[0m\u001b[0;34m\u001b[0m\u001b[0m\n",
      "\u001b[0;32m<ipython-input-22-6f0171c1ee01>\u001b[0m in \u001b[0;36mP_conc_assert2\u001b[0;34m(t, P0, k1prime, k2, LOUD)\u001b[0m\n\u001b[1;32m     14\u001b[0m     \u001b[0;32mtry\u001b[0m\u001b[0;34m:\u001b[0m\u001b[0;34m\u001b[0m\u001b[0m\n\u001b[1;32m     15\u001b[0m         \u001b[0;32massert\u001b[0m \u001b[0;34m(\u001b[0m\u001b[0mP0\u001b[0m \u001b[0;34m>\u001b[0m\u001b[0;36m0\u001b[0m\u001b[0;34m)\u001b[0m\u001b[0;34m\u001b[0m\u001b[0m\n\u001b[0;32m---> 16\u001b[0;31m         \u001b[0;32massert\u001b[0m \u001b[0;34m(\u001b[0m\u001b[0mk1prime\u001b[0m \u001b[0;34m>\u001b[0m \u001b[0;36m0\u001b[0m\u001b[0;34m)\u001b[0m\u001b[0;34m\u001b[0m\u001b[0m\n\u001b[0m\u001b[1;32m     17\u001b[0m         \u001b[0;32massert\u001b[0m \u001b[0;34m(\u001b[0m\u001b[0mk2\u001b[0m \u001b[0;34m>\u001b[0m\u001b[0;36m0\u001b[0m\u001b[0;34m)\u001b[0m\u001b[0;34m\u001b[0m\u001b[0m\n\u001b[1;32m     18\u001b[0m         \u001b[0;32massert\u001b[0m \u001b[0;34m(\u001b[0m\u001b[0mk1prime\u001b[0m \u001b[0;34m+\u001b[0m \u001b[0mk2\u001b[0m \u001b[0;34m>\u001b[0m \u001b[0;36m1E-10\u001b[0m\u001b[0;34m)\u001b[0m\u001b[0;34m\u001b[0m\u001b[0m\n",
      "\u001b[0;31mAssertionError\u001b[0m: "
     ]
    }
   ],
   "source": [
    "test_P = P_conc_assert2(t=10.0, P0=1.0, k1prime=0.0, k2=0.0)\n",
    "print(\"With negative k1prime and negative k2, P(t=10) =\", test_P)"
   ]
  },
  {
   "cell_type": "markdown",
   "metadata": {
    "nbpages": {
     "level": 1,
     "link": "[1.10 Error Handling](https://ndcbe.github.io/cbe-xx258/01.10-Testing-and-Debugging.html#1.10-Error-Handling)",
     "section": "1.10 Error Handling"
    }
   },
   "source": [
    "Also, the function has a generic except statement that will catch any other errors in the try block. Because the try block involves comparison of numbers, if we pass a string as a parameter, there will be an error when checking if that parameter is greater than 0. This exception will be caught by the generic except statement, and the code prints out an error message, and then quits:"
   ]
  },
  {
   "cell_type": "code",
   "execution_count": 26,
   "metadata": {
    "nbpages": {
     "level": 1,
     "link": "[1.10 Error Handling](https://ndcbe.github.io/cbe-xx258/01.10-Testing-and-Debugging.html#1.10-Error-Handling)",
     "section": "1.10 Error Handling"
    }
   },
   "outputs": [
    {
     "name": "stdout",
     "output_type": "stream",
     "text": [
      "An unexpected error occurred when checking the function parameters\n"
     ]
    },
    {
     "ename": "TypeError",
     "evalue": "'>' not supported between instances of 'str' and 'int'",
     "output_type": "error",
     "traceback": [
      "\u001b[0;31m---------------------------------------------------------------------------\u001b[0m",
      "\u001b[0;31mTypeError\u001b[0m                                 Traceback (most recent call last)",
      "\u001b[0;32m<ipython-input-26-e4e13e3a25ad>\u001b[0m in \u001b[0;36m<module>\u001b[0;34m()\u001b[0m\n\u001b[0;32m----> 1\u001b[0;31m \u001b[0mtest_P\u001b[0m \u001b[0;34m=\u001b[0m \u001b[0mP_conc_assert2\u001b[0m\u001b[0;34m(\u001b[0m\u001b[0mt\u001b[0m\u001b[0;34m=\u001b[0m\u001b[0;36m10.0\u001b[0m\u001b[0;34m,\u001b[0m \u001b[0mP0\u001b[0m\u001b[0;34m=\u001b[0m\u001b[0;34m\"hello world\"\u001b[0m\u001b[0;34m,\u001b[0m \u001b[0mk1prime\u001b[0m\u001b[0;34m=\u001b[0m\u001b[0;36m0.0\u001b[0m\u001b[0;34m,\u001b[0m \u001b[0mk2\u001b[0m\u001b[0;34m=\u001b[0m\u001b[0;36m0.0\u001b[0m\u001b[0;34m)\u001b[0m\u001b[0;34m\u001b[0m\u001b[0m\n\u001b[0m\u001b[1;32m      2\u001b[0m \u001b[0mprint\u001b[0m\u001b[0;34m(\u001b[0m\u001b[0;34m\"With negative k1prime and negative k2, P(t=10) =\"\u001b[0m\u001b[0;34m,\u001b[0m \u001b[0mtest_P\u001b[0m\u001b[0;34m)\u001b[0m\u001b[0;34m\u001b[0m\u001b[0m\n",
      "\u001b[0;32m<ipython-input-22-6f0171c1ee01>\u001b[0m in \u001b[0;36mP_conc_assert2\u001b[0;34m(t, P0, k1prime, k2, LOUD)\u001b[0m\n\u001b[1;32m     13\u001b[0m     \"\"\"\n\u001b[1;32m     14\u001b[0m     \u001b[0;32mtry\u001b[0m\u001b[0;34m:\u001b[0m\u001b[0;34m\u001b[0m\u001b[0m\n\u001b[0;32m---> 15\u001b[0;31m         \u001b[0;32massert\u001b[0m \u001b[0;34m(\u001b[0m\u001b[0mP0\u001b[0m \u001b[0;34m>\u001b[0m\u001b[0;36m0\u001b[0m\u001b[0;34m)\u001b[0m\u001b[0;34m\u001b[0m\u001b[0m\n\u001b[0m\u001b[1;32m     16\u001b[0m         \u001b[0;32massert\u001b[0m \u001b[0;34m(\u001b[0m\u001b[0mk1prime\u001b[0m \u001b[0;34m>\u001b[0m \u001b[0;36m0\u001b[0m\u001b[0;34m)\u001b[0m\u001b[0;34m\u001b[0m\u001b[0m\n\u001b[1;32m     17\u001b[0m         \u001b[0;32massert\u001b[0m \u001b[0;34m(\u001b[0m\u001b[0mk2\u001b[0m \u001b[0;34m>\u001b[0m\u001b[0;36m0\u001b[0m\u001b[0;34m)\u001b[0m\u001b[0;34m\u001b[0m\u001b[0m\n",
      "\u001b[0;31mTypeError\u001b[0m: '>' not supported between instances of 'str' and 'int'"
     ]
    }
   ],
   "source": [
    "test_P = P_conc_assert2(t=10.0, P0=\"hello world\", k1prime=0.0, k2=0.0)\n",
    "print(\"With negative k1prime and negative k2, P(t=10) =\", test_P)"
   ]
  },
  {
   "cell_type": "markdown",
   "metadata": {},
   "source": [
    "<!--NAVIGATION-->\n",
    "< [1.9 Functions as Arguments](https://ndcbe.github.io/cbe-xx258/01.09-Functions-as-Arguments.html) | [Contents](toc.html) | ><p><a href=\"https://colab.research.google.com/github/ndcbe/cbe-xx258/blob/master/docs/01.10-Testing-and-Debugging.ipynb\"> <img align=\"left\" src=\"https://colab.research.google.com/assets/colab-badge.svg\" alt=\"Open in Colab\" title=\"Open in Google Colaboratory\"></a><p><a href=\"https://ndcbe.github.io/cbe-xx258/01.10-Testing-and-Debugging.ipynb\"> <img align=\"left\" src=\"https://img.shields.io/badge/Github-Download-blue.svg\" alt=\"Download\" title=\"Download Notebook\"></a>"
   ]
  }
 ],
 "metadata": {
  "kernelspec": {
   "display_name": "Python 3",
   "language": "python",
   "name": "python3"
  },
  "language_info": {
   "codemirror_mode": {
    "name": "ipython",
    "version": 3
   },
   "file_extension": ".py",
   "mimetype": "text/x-python",
   "name": "python",
   "nbconvert_exporter": "python",
   "pygments_lexer": "ipython3",
   "version": "3.7.3"
  }
 },
 "nbformat": 4,
 "nbformat_minor": 1
}
