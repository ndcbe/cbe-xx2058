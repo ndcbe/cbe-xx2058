{
 "cells": [
  {
   "cell_type": "markdown",
   "metadata": {},
   "source": [
    "<!--NOTEBOOK_HEADER-->\n",
    "*This notebook contains material from [cbe-xx258](https://ndcbe.github.io/cbe-xx258);\n",
    "content is available [on Github](https://github.com/ndcbe/cbe-xx258).*\n"
   ]
  },
  {
   "cell_type": "markdown",
   "metadata": {},
   "source": [
    "<!--NAVIGATION-->\n",
    "| [Contents](toc.html) | [1.1 Welcome to Jupyter Notebooks and Vocareum](https://ndcbe.github.io/cbe-xx258/01.01-Jupyter-Notebooks.html)<p><a href=\"https://colab.research.google.com/github/ndcbe/cbe-xx258/blob/master/docs/01.00-Python-Primer.ipynb\"> <img align=\"left\" src=\"https://colab.research.google.com/assets/colab-badge.svg\" alt=\"Open in Colab\" title=\"Open in Google Colaboratory\"></a><p><a href=\"https://ndcbe.github.io/cbe-xx258/01.00-Python-Primer.ipynb\"> <img align=\"left\" src=\"https://img.shields.io/badge/Github-Download-blue.svg\" alt=\"Download\" title=\"Download Notebook\"></a>"
   ]
  },
  {
   "cell_type": "markdown",
   "metadata": {
    "nbpages": {
     "level": 1,
     "link": "[1.0 Python Primer](https://ndcbe.github.io/cbe-xx258/01.00-Python-Primer.html#1.0-Python-Primer)",
     "section": "1.0 Python Primer"
    }
   },
   "source": [
    "# 1.0 Python Primer"
   ]
  },
  {
   "cell_type": "markdown",
   "metadata": {
    "nbpages": {
     "level": 2,
     "link": "[1.0.1 Why Python](https://ndcbe.github.io/cbe-xx258/01.00-Python-Primer.html#1.0.1-Why-Python)",
     "section": "1.0.1 Why Python"
    }
   },
   "source": [
    "## 1.0.1 Why Python"
   ]
  },
  {
   "cell_type": "markdown",
   "metadata": {
    "nbpages": {
     "level": 2,
     "link": "[1.0.2 Learning Objectives](https://ndcbe.github.io/cbe-xx258/01.00-Python-Primer.html#1.0.2-Learning-Objectives)",
     "section": "1.0.2 Learning Objectives"
    }
   },
   "source": [
    "## 1.0.2 Learning Objectives"
   ]
  },
  {
   "cell_type": "markdown",
   "metadata": {},
   "source": [
    "<!--NAVIGATION-->\n",
    "| [Contents](toc.html) | [1.1 Welcome to Jupyter Notebooks and Vocareum](https://ndcbe.github.io/cbe-xx258/01.01-Jupyter-Notebooks.html)<p><a href=\"https://colab.research.google.com/github/ndcbe/cbe-xx258/blob/master/docs/01.00-Python-Primer.ipynb\"> <img align=\"left\" src=\"https://colab.research.google.com/assets/colab-badge.svg\" alt=\"Open in Colab\" title=\"Open in Google Colaboratory\"></a><p><a href=\"https://ndcbe.github.io/cbe-xx258/01.00-Python-Primer.ipynb\"> <img align=\"left\" src=\"https://img.shields.io/badge/Github-Download-blue.svg\" alt=\"Download\" title=\"Download Notebook\"></a>"
   ]
  }
 ],
 "metadata": {
  "kernelspec": {
   "display_name": "Python 3",
   "language": "python",
   "name": "python3"
  },
  "language_info": {
   "codemirror_mode": {
    "name": "ipython",
    "version": 3
   },
   "file_extension": ".py",
   "mimetype": "text/x-python",
   "name": "python",
   "nbconvert_exporter": "python",
   "pygments_lexer": "ipython3",
   "version": "3.7.3"
  }
 },
 "nbformat": 4,
 "nbformat_minor": 2
}
