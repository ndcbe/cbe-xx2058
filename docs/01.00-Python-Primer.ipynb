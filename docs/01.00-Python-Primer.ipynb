{
 "cells": [
  {
   "cell_type": "markdown",
   "metadata": {},
   "source": [
    "<!--NOTEBOOK_HEADER-->*This notebook contains material for CBE 20258 Numerical and Statistical Analysis taught at the University of Notre Dame. (c) Professors Alexander Dowling, Ryan McClarren, and Yamil Colón. This page [cbe-xx258](https://ndcbe.github.io/cbe-xx258) in addition to the entire course contents are available [on Github](https://github.com/ndcbe/cbe-xx258).*\n"
   ]
  },
  {
   "cell_type": "markdown",
   "metadata": {},
   "source": [
    "<!--NAVIGATION-->\n",
    "| [Contents](toc.html) | [1.1 Welcome to Jupyter Notebooks and Vocareum](https://ndcbe.github.io/cbe-xx258/01.01-Jupyter-Notebooks.html) ><p><a href=\"https://colab.research.google.com/github/ndcbe/cbe-xx258/blob/master/docs/01.00-Python-Primer.ipynb\"> <img align=\"left\" src=\"https://colab.research.google.com/assets/colab-badge.svg\" alt=\"Open in Colab\" title=\"Open in Google Colaboratory\"></a><p><a href=\"https://ndcbe.github.io/cbe-xx258/01.00-Python-Primer.ipynb\"> <img align=\"left\" src=\"https://img.shields.io/badge/Github-Download-blue.svg\" alt=\"Download\" title=\"Download Notebook\"></a>"
   ]
  },
  {
   "cell_type": "markdown",
   "metadata": {
    "nbpages": {
     "level": 1,
     "link": "[1.0 Python Primer](https://ndcbe.github.io/cbe-xx258/01.00-Python-Primer.html#1.0-Python-Primer)",
     "section": "1.0 Python Primer"
    }
   },
   "source": [
    "# 1.0 Python Primer"
   ]
  },
  {
   "cell_type": "markdown",
   "metadata": {
    "nbpages": {
     "level": 2,
     "link": "[1.0.1 Why Python?](https://ndcbe.github.io/cbe-xx258/01.00-Python-Primer.html#1.0.1-Why-Python?)",
     "section": "1.0.1 Why Python?"
    }
   },
   "source": [
    "## 1.0.1 Why Python?\n",
    "\n",
    "* Python is extremely popular for **scientific computing** and **data science**\n",
    "* Python is a *high-level* language. Its syntax is more flexible and forgiving.\n",
    "* Many concepts from Python translate to other languages such as Fortran, C/C++, MATLAB, etc.\n",
    "* You will use Python in **CBE 30338** (Process Controls)\n",
    "\n",
    "**IEEE names Python as the top programming language of 2019**\n",
    "\n",
    "More info: https://spectrum.ieee.org/static/interactive-the-top-programming-languages-2019\n",
    "\n",
    "**Python is extremely popular for machine learning and data science**\n",
    "\n",
    "More info: https://github.blog/2019-01-24-the-state-of-the-octoverse-machine-learning/#programming-languages\n",
    "\n",
    "![image1](https://jaxenter.com/wp-content/uploads/2019/01/octoverse-ml-1-768x633.png)\n",
    "\n",
    "![image2](https://jaxenter.com/wp-content/uploads/2019/01/octoverse-ml-2-768x636.png)\n"
   ]
  },
  {
   "cell_type": "markdown",
   "metadata": {
    "nbpages": {
     "level": 2,
     "link": "[1.0.2 Chapter Learning Objectives](https://ndcbe.github.io/cbe-xx258/01.00-Python-Primer.html#1.0.2-Chapter-Learning-Objectives)",
     "section": "1.0.2 Chapter Learning Objectives"
    }
   },
   "source": [
    "## 1.0.2 Chapter Learning Objectives\n",
    "\n",
    "After studying this notebook, completing the activities, and asking questions in class, you should be able to:\n",
    "* Write pseudocode and comments pursuant to class standards.\n",
    "* Write, debug, and predict the output of 10 to 20 line Python programs that use `for`, `while`, `if`, `elif`, and `else`.\n",
    "* Create and manipulate strings in Python.\n",
    "* Create and iterate over lists.\n",
    "* Create and use functions in Python. This includes writing a complete document string.\n",
    "* Explain scope to a classmate. Predict the output of Python code that involves scope rules (similar to activity).\n",
    "* Read text files into Python."
   ]
  },
  {
   "cell_type": "markdown",
   "metadata": {
    "nbpages": {
     "level": 2,
     "link": "[1.0.3 Activities](https://ndcbe.github.io/cbe-xx258/01.00-Python-Primer.html#1.0.3-Activities)",
     "section": "1.0.3 Activities"
    }
   },
   "source": [
    "## 1.0.3 Activities\n",
    "\n",
    "This repository contains a collection Python notebooks with embedded activities."
   ]
  },
  {
   "cell_type": "markdown",
   "metadata": {
    "nbpages": {
     "level": 2,
     "link": "[1.0.3 Activities](https://ndcbe.github.io/cbe-xx258/01.00-Python-Primer.html#1.0.3-Activities)",
     "section": "1.0.3 Activities"
    }
   },
   "source": [
    "<div style=\"background-color: rgba(0,255,0,0.05) ; padding: 10px; border: 1px solid darkgreen;\"> \n",
    "<b>Home Activity</b>: These are very short activities are designed to promote quick mastery.\n",
    "</div>"
   ]
  },
  {
   "cell_type": "markdown",
   "metadata": {
    "nbpages": {
     "level": 2,
     "link": "[1.0.3 Activities](https://ndcbe.github.io/cbe-xx258/01.00-Python-Primer.html#1.0.3-Activities)",
     "section": "1.0.3 Activities"
    }
   },
   "source": [
    "For each class meeting, you will be assigned one or more notebooks to **read completely**. We recommend you also work through all of the home activities as part of the reading. We will post any **required** home activities to Vocareum."
   ]
  },
  {
   "cell_type": "markdown",
   "metadata": {
    "nbpages": {
     "level": 2,
     "link": "[1.0.3 Activities](https://ndcbe.github.io/cbe-xx258/01.00-Python-Primer.html#1.0.3-Activities)",
     "section": "1.0.3 Activities"
    }
   },
   "source": [
    "Some activities we plan to revist during tutorial."
   ]
  },
  {
   "cell_type": "markdown",
   "metadata": {
    "nbpages": {
     "level": 2,
     "link": "[1.0.3 Activities](https://ndcbe.github.io/cbe-xx258/01.00-Python-Primer.html#1.0.3-Activities)",
     "section": "1.0.3 Activities"
    }
   },
   "source": [
    "<div style=\"background-color: rgba(255,0,0,0.05) ; padding: 10px; border: 1px solid darkred;\"> \n",
    "<b>Tutorial Activity</b>: We will come back to this activity in tutorial.\n",
    "</div>"
   ]
  },
  {
   "cell_type": "markdown",
   "metadata": {
    "nbpages": {
     "level": 2,
     "link": "[1.0.3 Activities](https://ndcbe.github.io/cbe-xx258/01.00-Python-Primer.html#1.0.3-Activities)",
     "section": "1.0.3 Activities"
    }
   },
   "source": [
    "During each lecture, we will walk through the notebook. A majority of class time will be dedicated to completing **class activities** with partners and discussing as a class. It is critical you attempt the home activties before coming to class, otherwise you may not be ready for the class activities."
   ]
  },
  {
   "cell_type": "markdown",
   "metadata": {
    "nbpages": {
     "level": 2,
     "link": "[1.0.3 Activities](https://ndcbe.github.io/cbe-xx258/01.00-Python-Primer.html#1.0.3-Activities)",
     "section": "1.0.3 Activities"
    }
   },
   "source": [
    "<div style=\"background-color: rgba(0,0,255,0.05) ; padding: 10px; border: 1px solid darkblue;\"> \n",
    "<b>Class Activity</b>: We will work on these activities with partners and then compile solutions together.\n",
    "</div>"
   ]
  },
  {
   "cell_type": "markdown",
   "metadata": {
    "nbpages": {
     "level": 2,
     "link": "[1.0.3 Activities](https://ndcbe.github.io/cbe-xx258/01.00-Python-Primer.html#1.0.3-Activities)",
     "section": "1.0.3 Activities"
    }
   },
   "source": [
    "We will use Vocareum to collect and grade almost all Python assignments this semester. We are providing most of the same activities here on this website as a resource for you in future semesters, e.g., in junior/senior lab when you need to do error propagation."
   ]
  },
  {
   "cell_type": "markdown",
   "metadata": {},
   "source": [
    "<!--NAVIGATION-->\n",
    "| [Contents](toc.html) | [1.1 Welcome to Jupyter Notebooks and Vocareum](https://ndcbe.github.io/cbe-xx258/01.01-Jupyter-Notebooks.html) ><p><a href=\"https://colab.research.google.com/github/ndcbe/cbe-xx258/blob/master/docs/01.00-Python-Primer.ipynb\"> <img align=\"left\" src=\"https://colab.research.google.com/assets/colab-badge.svg\" alt=\"Open in Colab\" title=\"Open in Google Colaboratory\"></a><p><a href=\"https://ndcbe.github.io/cbe-xx258/01.00-Python-Primer.ipynb\"> <img align=\"left\" src=\"https://img.shields.io/badge/Github-Download-blue.svg\" alt=\"Download\" title=\"Download Notebook\"></a>"
   ]
  }
 ],
 "metadata": {
  "kernelspec": {
   "display_name": "Python 3",
   "language": "python",
   "name": "python3"
  },
  "language_info": {
   "codemirror_mode": {
    "name": "ipython",
    "version": 3
   },
   "file_extension": ".py",
   "mimetype": "text/x-python",
   "name": "python",
   "nbconvert_exporter": "python",
   "pygments_lexer": "ipython3",
   "version": "3.7.3"
  }
 },
 "nbformat": 4,
 "nbformat_minor": 2
}
