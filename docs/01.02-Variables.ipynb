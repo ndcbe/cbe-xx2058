{
 "cells": [
  {
   "cell_type": "markdown",
   "metadata": {},
   "source": [
    "<!--NOTEBOOK_HEADER-->*This notebook contains material for CBE 20258 Numerical and Statistical Analysis taught at the University of Notre Dame. (c) Professors Alexander Dowling, Ryan McClarren, and Yamil Colón. This page [cbe-xx258](https://ndcbe.github.io/cbe-xx258) in addition to the entire course contents are available [on Github](https://github.com/ndcbe/cbe-xx258).*\n"
   ]
  },
  {
   "cell_type": "markdown",
   "metadata": {},
   "source": [
    "<!--NAVIGATION-->\n",
    "< [1.1 Welcome to Jupyter Notebooks and Vocareum](https://ndcbe.github.io/cbe-xx258/01.01-Jupyter-Notebooks.html) | [Contents](toc.html) | [1.3 Flow Control and Pseudocode](https://ndcbe.github.io/cbe-xx258/01.03-Flow-control.html) ><p><a href=\"https://colab.research.google.com/github/ndcbe/cbe-xx258/blob/master/docs/01.02-Variables.ipynb\"> <img align=\"left\" src=\"https://colab.research.google.com/assets/colab-badge.svg\" alt=\"Open in Colab\" title=\"Open in Google Colaboratory\"></a><p><a href=\"https://ndcbe.github.io/cbe-xx258/01.02-Variables.ipynb\"> <img align=\"left\" src=\"https://img.shields.io/badge/Github-Download-blue.svg\" alt=\"Download\" title=\"Download Notebook\"></a>"
   ]
  },
  {
   "cell_type": "markdown",
   "metadata": {
    "colab_type": "text",
    "id": "lcbP21Z7zep4",
    "nbpages": {
     "level": 1,
     "link": "[1.2 Learning Python Basics](https://ndcbe.github.io/cbe-xx258/01.02-Variables.html#1.2-Learning-Python-Basics)",
     "section": "1.2 Learning Python Basics"
    }
   },
   "source": [
    "# 1.2 Learning Python Basics"
   ]
  },
  {
   "cell_type": "markdown",
   "metadata": {
    "nbpages": {
     "level": 1,
     "link": "[1.2 Learning Python Basics](https://ndcbe.github.io/cbe-xx258/01.02-Variables.html#1.2-Learning-Python-Basics)",
     "section": "1.2 Learning Python Basics"
    }
   },
   "source": [
    "**Reference**: Chapter 1 of *Computational Nuclear Engineering and Radiological Science Using Python*, R. McClarren (2018)"
   ]
  },
  {
   "cell_type": "markdown",
   "metadata": {
    "nbpages": {
     "level": 2,
     "link": "[1.2.1 Learning Objectives](https://ndcbe.github.io/cbe-xx258/01.02-Variables.html#1.2.1-Learning-Objectives)",
     "section": "1.2.1 Learning Objectives"
    }
   },
   "source": [
    "## 1.2.1 Learning Objectives\n",
    "\n",
    "After studying this notebook, completing the activities, and asking questions in class, you should be able to:"
   ]
  },
  {
   "cell_type": "markdown",
   "metadata": {
    "colab_type": "text",
    "id": "1wKF7gO1zep6",
    "nbpages": {
     "level": 2,
     "link": "[1.2.2 Hello World and Interactive Sessions](https://ndcbe.github.io/cbe-xx258/01.02-Variables.html#1.2.2-Hello-World-and-Interactive-Sessions)",
     "section": "1.2.2 Hello World and Interactive Sessions"
    }
   },
   "source": [
    "## 1.2.2 Hello World and Interactive Sessions\n",
    "In almost any computer language the first thing you do is create a program called \"Hello world!\".\n",
    "\n",
    "This **notebook** is an interactive session. We just type the command `print(\"Hello World.\")` and the press Shift+Enter to execute."
   ]
  },
  {
   "cell_type": "code",
   "execution_count": 1,
   "metadata": {
    "colab": {
     "base_uri": "https://localhost:8080/",
     "height": 34
    },
    "colab_type": "code",
    "executionInfo": {
     "elapsed": 395,
     "status": "ok",
     "timestamp": 1547565528877,
     "user": {
      "displayName": "Alexander Dowling",
      "photoUrl": "https://lh3.googleusercontent.com/-LChdQ2m5OQE/AAAAAAAAAAI/AAAAAAAAAA0/JeXJe4vQJ7M/s64/photo.jpg",
      "userId": "00988067626794866502"
     },
     "user_tz": 300
    },
    "id": "a7DNb-j-zep7",
    "nbpages": {
     "level": 2,
     "link": "[1.2.2 Hello World and Interactive Sessions](https://ndcbe.github.io/cbe-xx258/01.02-Variables.html#1.2.2-Hello-World-and-Interactive-Sessions)",
     "section": "1.2.2 Hello World and Interactive Sessions"
    },
    "outputId": "952ab2e9-2044-45fb-d24b-4e6486c77e34"
   },
   "outputs": [
    {
     "name": "stdout",
     "output_type": "stream",
     "text": [
      "Hello World.\n"
     ]
    }
   ],
   "source": [
    "print(\"Hello World.\")"
   ]
  },
  {
   "cell_type": "markdown",
   "metadata": {
    "nbpages": {
     "level": 2,
     "link": "[1.2.2 Hello World and Interactive Sessions](https://ndcbe.github.io/cbe-xx258/01.02-Variables.html#1.2.2-Hello-World-and-Interactive-Sessions)",
     "section": "1.2.2 Hello World and Interactive Sessions"
    }
   },
   "source": [
    "<div style=\"background-color: rgba(0,255,0,0.05) ; padding: 10px; border: 1px solid darkgreen;\"> \n",
    "<b>Home Activity</b>: Print the first two lines of your favorite poem or song.\n",
    "</div>"
   ]
  },
  {
   "cell_type": "markdown",
   "metadata": {
    "nbpages": {
     "level": 2,
     "link": "[1.2.2 Hello World and Interactive Sessions](https://ndcbe.github.io/cbe-xx258/01.02-Variables.html#1.2.2-Hello-World-and-Interactive-Sessions)",
     "section": "1.2.2 Hello World and Interactive Sessions"
    }
   },
   "source": [
    "Hint: Use `\\n` to create a new line."
   ]
  },
  {
   "cell_type": "code",
   "execution_count": null,
   "metadata": {
    "nbpages": {
     "level": 2,
     "link": "[1.2.2 Hello World and Interactive Sessions](https://ndcbe.github.io/cbe-xx258/01.02-Variables.html#1.2.2-Hello-World-and-Interactive-Sessions)",
     "section": "1.2.2 Hello World and Interactive Sessions"
    }
   },
   "outputs": [],
   "source": []
  },
  {
   "cell_type": "markdown",
   "metadata": {
    "colab_type": "text",
    "id": "5aL5BAFdzeqH",
    "nbpages": {
     "level": 2,
     "link": "[1.2.2 Hello World and Interactive Sessions](https://ndcbe.github.io/cbe-xx258/01.02-Variables.html#1.2.2-Hello-World-and-Interactive-Sessions)",
     "section": "1.2.2 Hello World and Interactive Sessions"
    }
   },
   "source": [
    "**Unicode Characters**\n",
    "* A way to express fancy letters, like emojis\n",
    "* Supported by Python\n",
    "* Copy-and-paste is the easiest way to write in code\n",
    "* Easy to find on website such as http://xahlee.info, https://www.compart.com/en/unicode/, and https://unicode-table.com/en/#control-character (top Google search results)"
   ]
  },
  {
   "cell_type": "code",
   "execution_count": 2,
   "metadata": {
    "nbpages": {
     "level": 2,
     "link": "[1.2.2 Hello World and Interactive Sessions](https://ndcbe.github.io/cbe-xx258/01.02-Variables.html#1.2.2-Hello-World-and-Interactive-Sessions)",
     "section": "1.2.2 Hello World and Interactive Sessions"
    }
   },
   "outputs": [
    {
     "name": "stdout",
     "output_type": "stream",
     "text": [
      "The temperature was 56 °F this morning.\n"
     ]
    }
   ],
   "source": [
    "print(\"The temperature was 56 °F this morning.\")\n"
   ]
  },
  {
   "cell_type": "markdown",
   "metadata": {
    "nbpages": {
     "level": 2,
     "link": "[1.2.2 Hello World and Interactive Sessions](https://ndcbe.github.io/cbe-xx258/01.02-Variables.html#1.2.2-Hello-World-and-Interactive-Sessions)",
     "section": "1.2.2 Hello World and Interactive Sessions"
    }
   },
   "source": [
    "<div style=\"background-color: rgba(0,255,0,0.05) ; padding: 10px; border: 1px solid darkgreen;\"> \n",
    "    <b>Home Activity</b>: Write a print statement using at least two unicode characters.\n",
    "</div>"
   ]
  },
  {
   "cell_type": "code",
   "execution_count": null,
   "metadata": {
    "nbpages": {
     "level": 2,
     "link": "[1.2.2 Hello World and Interactive Sessions](https://ndcbe.github.io/cbe-xx258/01.02-Variables.html#1.2.2-Hello-World-and-Interactive-Sessions)",
     "section": "1.2.2 Hello World and Interactive Sessions"
    }
   },
   "outputs": [],
   "source": []
  },
  {
   "cell_type": "markdown",
   "metadata": {
    "colab_type": "text",
    "id": "514Y2HW6zeqH",
    "nbpages": {
     "level": 3,
     "link": "[1.2.2.1 Command Line Mode](https://ndcbe.github.io/cbe-xx258/01.02-Variables.html#1.2.2.1-Command-Line-Mode)",
     "section": "1.2.2.1 Command Line Mode"
    }
   },
   "source": [
    "### 1.2.2.1 Command Line Mode"
   ]
  },
  {
   "cell_type": "markdown",
   "metadata": {
    "colab_type": "text",
    "id": "WyIDPARMzeqH",
    "nbpages": {
     "level": 3,
     "link": "[1.2.2.1 Command Line Mode](https://ndcbe.github.io/cbe-xx258/01.02-Variables.html#1.2.2.1-Command-Line-Mode)",
     "section": "1.2.2.1 Command Line Mode"
    }
   },
   "source": [
    "Above, we used the *interactive mode*, which means the result of each line is displayed when I enter the line.\n",
    "\n",
    "It is more common to put your code into a separate file and then execute it by typing\n",
    "\n",
    "``python codename.py``\n",
    "\n",
    "where ``codename.py`` is the name of your file."
   ]
  },
  {
   "cell_type": "markdown",
   "metadata": {
    "colab_type": "text",
    "id": "ViEaI6AazeqI",
    "nbpages": {
     "level": 3,
     "link": "[1.2.2.1 Command Line Mode](https://ndcbe.github.io/cbe-xx258/01.02-Variables.html#1.2.2.1-Command-Line-Mode)",
     "section": "1.2.2.1 Command Line Mode"
    }
   },
   "source": [
    "**How to access a Python interpreter?**\n",
    "* Mac or Linux: Open terminal and type ``python``\n",
    "* Mac, Linux, or Windows: Use an IDE.\n",
    "\n",
    "*Anaconda* is the easiest free Python environment to install. It is already available in B19."
   ]
  },
  {
   "cell_type": "markdown",
   "metadata": {
    "nbpages": {
     "level": 3,
     "link": "[1.2.2.1 Command Line Mode](https://ndcbe.github.io/cbe-xx258/01.02-Variables.html#1.2.2.1-Command-Line-Mode)",
     "section": "1.2.2.1 Command Line Mode"
    }
   },
   "source": [
    "<div style=\"background-color: rgba(0,255,0,0.05) ; padding: 10px; border: 1px solid darkgreen;\"> \n",
    "<b>Optional Home Activity</b>: Install Anaconda on your computer.\n",
    "</div>"
   ]
  },
  {
   "cell_type": "markdown",
   "metadata": {
    "nbpages": {
     "level": 3,
     "link": "[1.2.2.1 Command Line Mode](https://ndcbe.github.io/cbe-xx258/01.02-Variables.html#1.2.2.1-Command-Line-Mode)",
     "section": "1.2.2.1 Command Line Mode"
    }
   },
   "source": [
    "Hint: Start at https://www.anaconda.com/distribution/#download-section. Ask questions in tutorial if you get stuck."
   ]
  },
  {
   "cell_type": "markdown",
   "metadata": {
    "colab_type": "text",
    "id": "EFhiEPm0zeqJ",
    "nbpages": {
     "level": 2,
     "link": "[1.2.3 Comments](https://ndcbe.github.io/cbe-xx258/01.02-Variables.html#1.2.3-Comments)",
     "section": "1.2.3 Comments"
    }
   },
   "source": [
    "## 1.2.3 Comments"
   ]
  },
  {
   "cell_type": "markdown",
   "metadata": {
    "colab_type": "text",
    "id": "iWzyFHFyzeqJ",
    "nbpages": {
     "level": 2,
     "link": "[1.2.3 Comments](https://ndcbe.github.io/cbe-xx258/01.02-Variables.html#1.2.3-Comments)",
     "section": "1.2.3 Comments"
    }
   },
   "source": [
    "Comments are your friend.  They can be time consuming to add, but never have I looked back at old code and regreted adding them.\n",
    "\n",
    "A <b>comment</b> is a annotation in your code to \n",
    "<ul>\n",
    "<li> inform the reader, often yourself, of what a particular piece of code is trying to do\n",
    "<li> indicate the designed output, result, etc. of a part of the code\n",
    "<li> make the code more readable\n",
    "</ul>\n",
    "\n",
    "<b><blink>Any code you submit for a class assignment must be well commented!</blink></b>\n",
    "This is not to punish you, but to help you.\n",
    "\n",
    "You use the pound (aka hashtag) to comment out the rest of a line: everything that follows the # is ignored by python.  Therefore, you can put little notes to yourself or others about what is going on in the code."
   ]
  },
  {
   "cell_type": "code",
   "execution_count": 3,
   "metadata": {
    "colab": {
     "base_uri": "https://localhost:8080/",
     "height": 51
    },
    "colab_type": "code",
    "executionInfo": {
     "elapsed": 230,
     "status": "ok",
     "timestamp": 1547565677562,
     "user": {
      "displayName": "Alexander Dowling",
      "photoUrl": "https://lh3.googleusercontent.com/-LChdQ2m5OQE/AAAAAAAAAAI/AAAAAAAAAA0/JeXJe4vQJ7M/s64/photo.jpg",
      "userId": "00988067626794866502"
     },
     "user_tz": 300
    },
    "id": "MZL6oIUXzeqK",
    "nbpages": {
     "level": 2,
     "link": "[1.2.3 Comments](https://ndcbe.github.io/cbe-xx258/01.02-Variables.html#1.2.3-Comments)",
     "section": "1.2.3 Comments"
    },
    "outputId": "3e3740e9-8198-43f0-a421-1c6495c436df"
   },
   "outputs": [
    {
     "name": "stdout",
     "output_type": "stream",
     "text": [
      "100\n"
     ]
    },
    {
     "data": {
      "text/plain": [
       "81"
      ]
     },
     "execution_count": 3,
     "metadata": {},
     "output_type": "execute_result"
    }
   ],
   "source": [
    "#This next line should compute 9*9 + 19 = 100\n",
    "print(9*9 + 19)\n",
    "\n",
    "#You can also make comments inside a line\n",
    "9*9 #+ 19"
   ]
  },
  {
   "cell_type": "markdown",
   "metadata": {
    "colab_type": "text",
    "id": "eTdVBURmzeqO",
    "nbpages": {
     "level": 2,
     "link": "[1.2.3 Comments](https://ndcbe.github.io/cbe-xx258/01.02-Variables.html#1.2.3-Comments)",
     "section": "1.2.3 Comments"
    }
   },
   "source": [
    "There are also ways to make multiline comments by use a triple quote '''"
   ]
  },
  {
   "cell_type": "code",
   "execution_count": 4,
   "metadata": {
    "colab": {
     "base_uri": "https://localhost:8080/",
     "height": 34
    },
    "colab_type": "code",
    "executionInfo": {
     "elapsed": 215,
     "status": "ok",
     "timestamp": 1547565709566,
     "user": {
      "displayName": "Alexander Dowling",
      "photoUrl": "https://lh3.googleusercontent.com/-LChdQ2m5OQE/AAAAAAAAAAI/AAAAAAAAAA0/JeXJe4vQJ7M/s64/photo.jpg",
      "userId": "00988067626794866502"
     },
     "user_tz": 300
    },
    "id": "95fdWfiOzeqO",
    "nbpages": {
     "level": 2,
     "link": "[1.2.3 Comments](https://ndcbe.github.io/cbe-xx258/01.02-Variables.html#1.2.3-Comments)",
     "section": "1.2.3 Comments"
    },
    "outputId": "54730138-1432-44b6-8842-fadb7c518d07"
   },
   "outputs": [
    {
     "name": "stdout",
     "output_type": "stream",
     "text": [
      "I am the very model of a modern major general.\n"
     ]
    }
   ],
   "source": [
    "'''The beginning of a multiline comment.\n",
    "This comment will be followed by meaningless \n",
    "code.  Enjoy '''\n",
    "print(\"I am the very model of a modern major general.\")"
   ]
  },
  {
   "cell_type": "markdown",
   "metadata": {
    "nbpages": {
     "level": 2,
     "link": "[1.2.3 Comments](https://ndcbe.github.io/cbe-xx258/01.02-Variables.html#1.2.3-Comments)",
     "section": "1.2.3 Comments"
    }
   },
   "source": [
    "<div style=\"background-color: rgba(0,255,0,0.05) ; padding: 10px; border: 1px solid darkgreen;\"> \n",
    "<b>Home Activity</b>: Add comments to the following calculation. At the top, write a sentence describing the program in the multiline comment block. Then fill in each empty single line comment with <b>units</b>.\n",
    "</div>"
   ]
  },
  {
   "cell_type": "code",
   "execution_count": 5,
   "metadata": {
    "nbpages": {
     "level": 2,
     "link": "[1.2.3 Comments](https://ndcbe.github.io/cbe-xx258/01.02-Variables.html#1.2.3-Comments)",
     "section": "1.2.3 Comments"
    }
   },
   "outputs": [
    {
     "name": "stdout",
     "output_type": "stream",
     "text": [
      "Sphere surface area: 12.56637061436 m^2\n",
      "Sphere volume: 4.188790204786667 m^3\n"
     ]
    }
   ],
   "source": [
    "'''\n",
    "\n",
    "'''\n",
    "\n",
    "# \n",
    "r = 1.0\n",
    "\n",
    "# \n",
    "pi =  3.14159265359\n",
    "\n",
    "# Calculate sphere area (m^2)\n",
    "area = 4 * pi * r**2\n",
    "print(\"Sphere surface area:\",area,\"m^2\")\n",
    "\n",
    "#\n",
    "vol = 4/3 * pi * r**3\n",
    "print(\"Sphere volume:\",vol,\"m^3\")"
   ]
  },
  {
   "cell_type": "markdown",
   "metadata": {
    "colab_type": "text",
    "id": "c_DeTmGEzeqQ",
    "nbpages": {
     "level": 2,
     "link": "[1.2.4 Errors](https://ndcbe.github.io/cbe-xx258/01.02-Variables.html#1.2.4-Errors)",
     "section": "1.2.4 Errors"
    }
   },
   "source": [
    "## 1.2.4 Errors"
   ]
  },
  {
   "cell_type": "markdown",
   "metadata": {
    "colab_type": "text",
    "id": "SBDc64ICzeqQ",
    "nbpages": {
     "level": 2,
     "link": "[1.2.4 Errors](https://ndcbe.github.io/cbe-xx258/01.02-Variables.html#1.2.4-Errors)",
     "section": "1.2.4 Errors"
    }
   },
   "source": [
    "We call errors in computer programs **bugs**. Even experienced programmers write code with bugs. We will learn best practice procedures to try to rid a code of bugs, but even the most sophisticated software quality assurance techniques will not catch every one. Let's look at a **good bug** and a **bad bug**."
   ]
  },
  {
   "cell_type": "markdown",
   "metadata": {
    "nbpages": {
     "level": 3,
     "link": "[1.2.4.1 \"Good\" Bugs](https://ndcbe.github.io/cbe-xx258/01.02-Variables.html#1.2.4.1-\"Good\"-Bugs)",
     "section": "1.2.4.1 \"Good\" Bugs"
    }
   },
   "source": [
    "### 1.2.4.1 \"Good\" Bugs"
   ]
  },
  {
   "cell_type": "markdown",
   "metadata": {
    "nbpages": {
     "level": 3,
     "link": "[1.2.4.1 \"Good\" Bugs](https://ndcbe.github.io/cbe-xx258/01.02-Variables.html#1.2.4.1-\"Good\"-Bugs)",
     "section": "1.2.4.1 \"Good\" Bugs"
    }
   },
   "source": [
    "Good bug: A syntax mistake that Python will catch and scream about.\n",
    "\n",
    "**Example**"
   ]
  },
  {
   "cell_type": "code",
   "execution_count": 6,
   "metadata": {
    "colab": {
     "base_uri": "https://localhost:8080/",
     "height": 130
    },
    "colab_type": "code",
    "executionInfo": {
     "elapsed": 226,
     "status": "error",
     "timestamp": 1547565747790,
     "user": {
      "displayName": "Alexander Dowling",
      "photoUrl": "https://lh3.googleusercontent.com/-LChdQ2m5OQE/AAAAAAAAAAI/AAAAAAAAAA0/JeXJe4vQJ7M/s64/photo.jpg",
      "userId": "00988067626794866502"
     },
     "user_tz": 300
    },
    "id": "IP1pJOVTzeqR",
    "nbpages": {
     "level": 3,
     "link": "[1.2.4.1 \"Good\" Bugs](https://ndcbe.github.io/cbe-xx258/01.02-Variables.html#1.2.4.1-\"Good\"-Bugs)",
     "section": "1.2.4.1 \"Good\" Bugs"
    },
    "outputId": "4032f5fb-a82f-410a-fc92-a5cb6f0b3161"
   },
   "outputs": [
    {
     "ename": "SyntaxError",
     "evalue": "invalid syntax (<ipython-input-6-d848fea5e32c>, line 2)",
     "output_type": "error",
     "traceback": [
      "\u001b[0;36m  File \u001b[0;32m\"<ipython-input-6-d848fea5e32c>\"\u001b[0;36m, line \u001b[0;32m2\u001b[0m\n\u001b[0;31m    9*9 +\u001b[0m\n\u001b[0m          ^\u001b[0m\n\u001b[0;31mSyntaxError\u001b[0m\u001b[0;31m:\u001b[0m invalid syntax\n"
     ]
    }
   ],
   "source": [
    "#This is a good bug because the python interpreter complains\n",
    "9*9 + "
   ]
  },
  {
   "cell_type": "markdown",
   "metadata": {
    "nbpages": {
     "level": 3,
     "link": "[1.2.4.1 \"Good\" Bugs](https://ndcbe.github.io/cbe-xx258/01.02-Variables.html#1.2.4.1-\"Good\"-Bugs)",
     "section": "1.2.4.1 \"Good\" Bugs"
    }
   },
   "source": [
    "<div style=\"background-color: rgba(0,255,0,0.05) ; padding: 10px; border: 1px solid darkgreen;\"> \n",
    "<b>Home Activity</b>: Create another example of a \"good\" bug. Share with a friend.\n",
    "</div>"
   ]
  },
  {
   "cell_type": "code",
   "execution_count": null,
   "metadata": {
    "nbpages": {
     "level": 3,
     "link": "[1.2.4.1 \"Good\" Bugs](https://ndcbe.github.io/cbe-xx258/01.02-Variables.html#1.2.4.1-\"Good\"-Bugs)",
     "section": "1.2.4.1 \"Good\" Bugs"
    }
   },
   "outputs": [],
   "source": []
  },
  {
   "cell_type": "markdown",
   "metadata": {
    "nbpages": {
     "level": 3,
     "link": "[1.2.4.2 \"Bad\" Bugs](https://ndcbe.github.io/cbe-xx258/01.02-Variables.html#1.2.4.2-\"Bad\"-Bugs)",
     "section": "1.2.4.2 \"Bad\" Bugs"
    }
   },
   "source": [
    "### 1.2.4.2 \"Bad\" Bugs\n",
    "\n",
    "Bad bug: A flaw in the logic of the computer program. These are much harder to catch.\n",
    "\n",
    "**Example**: We want to compute\n",
    "\n",
    "$$(3 + 5)^2 = 8^2 = 64$$\n",
    "\n",
    "But we input:"
   ]
  },
  {
   "cell_type": "code",
   "execution_count": null,
   "metadata": {
    "colab": {
     "base_uri": "https://localhost:8080/",
     "height": 34
    },
    "colab_type": "code",
    "executionInfo": {
     "elapsed": 233,
     "status": "ok",
     "timestamp": 1547565858412,
     "user": {
      "displayName": "Alexander Dowling",
      "photoUrl": "https://lh3.googleusercontent.com/-LChdQ2m5OQE/AAAAAAAAAAI/AAAAAAAAAA0/JeXJe4vQJ7M/s64/photo.jpg",
      "userId": "00988067626794866502"
     },
     "user_tz": 300
    },
    "id": "kSCGQAJ8zeqT",
    "nbpages": {
     "level": 3,
     "link": "[1.2.4.2 \"Bad\" Bugs](https://ndcbe.github.io/cbe-xx258/01.02-Variables.html#1.2.4.2-\"Bad\"-Bugs)",
     "section": "1.2.4.2 \"Bad\" Bugs"
    },
    "outputId": "eb042055-f914-4264-cc47-4ccdccece4c6"
   },
   "outputs": [],
   "source": [
    "3 + 5**2\n",
    "#You don't get the correct answer, and no one tells you that you're wrong."
   ]
  },
  {
   "cell_type": "markdown",
   "metadata": {
    "nbpages": {
     "level": 3,
     "link": "[1.2.4.2 \"Bad\" Bugs](https://ndcbe.github.io/cbe-xx258/01.02-Variables.html#1.2.4.2-\"Bad\"-Bugs)",
     "section": "1.2.4.2 \"Bad\" Bugs"
    }
   },
   "source": [
    "<div style=\"background-color: rgba(0,255,0,0.05) ; padding: 10px; border: 1px solid darkgreen;\"> \n",
    "<b>Home Activity</b>: Copy the code below and then fix the bad bug.\n",
    "</div>"
   ]
  },
  {
   "cell_type": "code",
   "execution_count": null,
   "metadata": {
    "nbpages": {
     "level": 3,
     "link": "[1.2.4.2 \"Bad\" Bugs](https://ndcbe.github.io/cbe-xx258/01.02-Variables.html#1.2.4.2-\"Bad\"-Bugs)",
     "section": "1.2.4.2 \"Bad\" Bugs"
    }
   },
   "outputs": [],
   "source": [
    "(3 + 5)**2"
   ]
  },
  {
   "cell_type": "markdown",
   "metadata": {
    "colab_type": "text",
    "id": "2H3F9hIQzeqW",
    "nbpages": {
     "level": 3,
     "link": "[1.2.4.2 \"Bad\" Bugs](https://ndcbe.github.io/cbe-xx258/01.02-Variables.html#1.2.4.2-\"Bad\"-Bugs)",
     "section": "1.2.4.2 \"Bad\" Bugs"
    }
   },
   "source": [
    "This is an example of the power and feebleness of computers.  A computer can do anything **you tell it to**, but it doesn't necessarily do what you want it to. Always keep this in mind: just because the computer did something, that doesn't mean it did what you wanted.\n",
    "\n",
    "Later we will talk in more detail about bugs, finding bugs (called debugging), and testing of code."
   ]
  },
  {
   "cell_type": "markdown",
   "metadata": {
    "colab_type": "text",
    "id": "jKzuOAWEzeqX",
    "nbpages": {
     "level": 2,
     "link": "[1.2.5 Indentation](https://ndcbe.github.io/cbe-xx258/01.02-Variables.html#1.2.5-Indentation)",
     "section": "1.2.5 Indentation"
    }
   },
   "source": [
    "## 1.2.5 Indentation"
   ]
  },
  {
   "cell_type": "markdown",
   "metadata": {
    "colab_type": "text",
    "id": "lLB8KW_RzeqX",
    "nbpages": {
     "level": 2,
     "link": "[1.2.5 Indentation](https://ndcbe.github.io/cbe-xx258/01.02-Variables.html#1.2.5-Indentation)",
     "section": "1.2.5 Indentation"
    }
   },
   "source": [
    "Python is, by design, **very picky about how you lay out your code**.  It requires that code blocks be properly indented. We'll discuss what code blocks are later, but your code needs to be properly aligned to make this work."
   ]
  },
  {
   "cell_type": "code",
   "execution_count": 7,
   "metadata": {
    "colab": {
     "base_uri": "https://localhost:8080/",
     "height": 130
    },
    "colab_type": "code",
    "executionInfo": {
     "elapsed": 287,
     "status": "error",
     "timestamp": 1547565897611,
     "user": {
      "displayName": "Alexander Dowling",
      "photoUrl": "https://lh3.googleusercontent.com/-LChdQ2m5OQE/AAAAAAAAAAI/AAAAAAAAAA0/JeXJe4vQJ7M/s64/photo.jpg",
      "userId": "00988067626794866502"
     },
     "user_tz": 300
    },
    "id": "bMGbJP4BzeqY",
    "nbpages": {
     "level": 2,
     "link": "[1.2.5 Indentation](https://ndcbe.github.io/cbe-xx258/01.02-Variables.html#1.2.5-Indentation)",
     "section": "1.2.5 Indentation"
    },
    "outputId": "a9bf8e8a-cc78-43f3-c78f-3c5a2b153878"
   },
   "outputs": [
    {
     "ename": "IndentationError",
     "evalue": "unexpected indent (<ipython-input-7-d3b8fb0c247c>, line 3)",
     "output_type": "error",
     "traceback": [
      "\u001b[0;36m  File \u001b[0;32m\"<ipython-input-7-d3b8fb0c247c>\"\u001b[0;36m, line \u001b[0;32m3\u001b[0m\n\u001b[0;31m    print(\"indented, but it shouldn't be\")\u001b[0m\n\u001b[0m    ^\u001b[0m\n\u001b[0;31mIndentationError\u001b[0m\u001b[0;31m:\u001b[0m unexpected indent\n"
     ]
    }
   ],
   "source": [
    "#If I improperly indent, my code won't work\n",
    "print(\"Not indented\")\n",
    "    print(\"indented, but it shouldn't be\")"
   ]
  },
  {
   "cell_type": "markdown",
   "metadata": {
    "colab_type": "text",
    "id": "lgCjeC8pzeqa",
    "nbpages": {
     "level": 2,
     "link": "[1.2.5 Indentation](https://ndcbe.github.io/cbe-xx258/01.02-Variables.html#1.2.5-Indentation)",
     "section": "1.2.5 Indentation"
    }
   },
   "source": [
    "Notice that none of my code executed because of the indentation error. An indent tells the Python interpreter the indented code is part of a code block and needs to be executed in a special way. Only at certain times can one indent and it makes sense. We will revisit this in a few lectures."
   ]
  },
  {
   "cell_type": "markdown",
   "metadata": {
    "nbpages": {
     "level": 2,
     "link": "[1.2.5 Indentation](https://ndcbe.github.io/cbe-xx258/01.02-Variables.html#1.2.5-Indentation)",
     "section": "1.2.5 Indentation"
    }
   },
   "source": [
    "<div style=\"background-color: rgba(0,255,0,0.05) ; padding: 10px; border: 1px solid darkgreen;\"> \n",
    "<b>Home Activity</b>: Copy the code below and fix the indentation error.\n",
    "</div>"
   ]
  },
  {
   "cell_type": "code",
   "execution_count": null,
   "metadata": {
    "nbpages": {
     "level": 2,
     "link": "[1.2.5 Indentation](https://ndcbe.github.io/cbe-xx258/01.02-Variables.html#1.2.5-Indentation)",
     "section": "1.2.5 Indentation"
    }
   },
   "outputs": [],
   "source": [
    "print(\"Not indented\")\n",
    "print(\"indented, but it shouldn't be\")\n"
   ]
  },
  {
   "cell_type": "markdown",
   "metadata": {
    "colab_type": "text",
    "id": "OTDooC65zeqa",
    "nbpages": {
     "level": 2,
     "link": "[1.2.6 Input](https://ndcbe.github.io/cbe-xx258/01.02-Variables.html#1.2.6-Input)",
     "section": "1.2.6 Input"
    }
   },
   "source": [
    "## 1.2.6 Input"
   ]
  },
  {
   "cell_type": "markdown",
   "metadata": {
    "colab_type": "text",
    "id": "RLyZhbm2zeqb",
    "nbpages": {
     "level": 2,
     "link": "[1.2.6 Input](https://ndcbe.github.io/cbe-xx258/01.02-Variables.html#1.2.6-Input)",
     "section": "1.2.6 Input"
    }
   },
   "source": [
    "You can prompt the user for input using the <tt> input </tt> command:"
   ]
  },
  {
   "cell_type": "code",
   "execution_count": null,
   "metadata": {
    "colab": {
     "base_uri": "https://localhost:8080/",
     "height": 51
    },
    "colab_type": "code",
    "executionInfo": {
     "elapsed": 9067,
     "status": "ok",
     "timestamp": 1547565974098,
     "user": {
      "displayName": "Alexander Dowling",
      "photoUrl": "https://lh3.googleusercontent.com/-LChdQ2m5OQE/AAAAAAAAAAI/AAAAAAAAAA0/JeXJe4vQJ7M/s64/photo.jpg",
      "userId": "00988067626794866502"
     },
     "user_tz": 300
    },
    "id": "p1FN99flzeqc",
    "nbpages": {
     "level": 2,
     "link": "[1.2.6 Input](https://ndcbe.github.io/cbe-xx258/01.02-Variables.html#1.2.6-Input)",
     "section": "1.2.6 Input"
    },
    "outputId": "ce4628bd-0e02-4b3a-bf87-3bd1a9fa3e4b"
   },
   "outputs": [],
   "source": [
    "user_value = input(\"Enter a number: \")\n",
    "user_value = float(user_value)\n",
    "print(\"2 *\", user_value,\"=\", 2*user_value)"
   ]
  },
  {
   "cell_type": "code",
   "execution_count": null,
   "metadata": {
    "colab": {
     "base_uri": "https://localhost:8080/",
     "height": 51
    },
    "colab_type": "code",
    "executionInfo": {
     "elapsed": 2975,
     "status": "ok",
     "timestamp": 1547566092836,
     "user": {
      "displayName": "Alexander Dowling",
      "photoUrl": "https://lh3.googleusercontent.com/-LChdQ2m5OQE/AAAAAAAAAAI/AAAAAAAAAA0/JeXJe4vQJ7M/s64/photo.jpg",
      "userId": "00988067626794866502"
     },
     "user_tz": 300
    },
    "id": "q4kiGpgazeqd",
    "nbpages": {
     "level": 2,
     "link": "[1.2.6 Input](https://ndcbe.github.io/cbe-xx258/01.02-Variables.html#1.2.6-Input)",
     "section": "1.2.6 Input"
    },
    "outputId": "41730862-ca5b-4891-bfeb-fb3850431c6d"
   },
   "outputs": [],
   "source": [
    "user_value = input(\"Enter a number (just type 7): \")\n",
    "user_value = int(user_value)\n",
    "if user_value == 7:\n",
    "    print(\"Correct, we have a winner\")\n",
    "    print(\"Claim your prize\")\n",
    "else:\n",
    "    print(\"You guessed poorly.\")"
   ]
  },
  {
   "cell_type": "markdown",
   "metadata": {
    "colab_type": "text",
    "id": "lbRs-qCfzeqh",
    "nbpages": {
     "level": 2,
     "link": "[1.2.6 Input](https://ndcbe.github.io/cbe-xx258/01.02-Variables.html#1.2.6-Input)",
     "section": "1.2.6 Input"
    }
   },
   "source": [
    "Notice that in this example we used an <tt>if-else</tt> statement.  The <tt>if-else</tt> statement is a way to execute different parts of the code based on some conditional expression.  This type of execution is sometimes called <b>branching</b> or <b>selection</b>. We will discuss this in detail below.\n",
    "\n",
    "Also notice the indentation in the <tt>if-else</tt> block."
   ]
  },
  {
   "cell_type": "markdown",
   "metadata": {
    "nbpages": {
     "level": 2,
     "link": "[1.2.6 Input](https://ndcbe.github.io/cbe-xx258/01.02-Variables.html#1.2.6-Input)",
     "section": "1.2.6 Input"
    }
   },
   "source": [
    "<div style=\"background-color: rgba(0,255,0,0.05) ; padding: 10px; border: 1px solid darkgreen;\"> \n",
    "<b>Home Activity</b>: Rerun the code above. Find input values that execute each part (a.k.a., branch, section) of the if statement. In other words, find one input value that causes the program to output \"Claim your prize\". Then find a different input value that causes the program to output \"You guessed poorly\". Record your answer below in the text (Markdown) cell:\n",
    "</div>"
   ]
  },
  {
   "cell_type": "markdown",
   "metadata": {
    "nbpages": {
     "level": 2,
     "link": "[1.2.6 Input](https://ndcbe.github.io/cbe-xx258/01.02-Variables.html#1.2.6-Input)",
     "section": "1.2.6 Input"
    }
   },
   "source": [
    "**Answer to Home Activity:**\n",
    "\n",
    "Input that printed \"claim your prize\":\n",
    "\n",
    "Input that printed \"You guessed poorly\":"
   ]
  },
  {
   "cell_type": "markdown",
   "metadata": {
    "nbpages": {
     "level": 2,
     "link": "[1.2.7 Variables](https://ndcbe.github.io/cbe-xx258/01.02-Variables.html#1.2.7-Variables)",
     "section": "1.2.7 Variables"
    }
   },
   "source": [
    "## 1.2.7 Variables\n",
    "\n",
    "Information, or data, is stored in variables.  Common types of variables include *floating point numbers* (decimals), *integer numbers*, and *text* to name a few. For a complete list of the python data types, see https://docs.python.org/3.4/library/stdtypes.html"
   ]
  },
  {
   "cell_type": "markdown",
   "metadata": {
    "colab_type": "text",
    "id": "rIVnm8YFzeqi",
    "nbpages": {
     "level": 3,
     "link": "[1.2.7.1 Integers](https://ndcbe.github.io/cbe-xx258/01.02-Variables.html#1.2.7.1-Integers)",
     "section": "1.2.7.1 Integers"
    }
   },
   "source": [
    "### 1.2.7.1 Integers"
   ]
  },
  {
   "cell_type": "markdown",
   "metadata": {
    "colab_type": "text",
    "id": "O_6Yrh0Czeqi",
    "nbpages": {
     "level": 3,
     "link": "[1.2.7.1 Integers](https://ndcbe.github.io/cbe-xx258/01.02-Variables.html#1.2.7.1-Integers)",
     "section": "1.2.7.1 Integers"
    }
   },
   "source": [
    "Integers are whole numbers, including the negatives.  They never have a fractional, or decimal, part and should only be used for data that is a count.\n",
    "\n",
    "To assign an integer to a variable use the equals sign."
   ]
  },
  {
   "cell_type": "code",
   "execution_count": null,
   "metadata": {
    "colab": {
     "base_uri": "https://localhost:8080/",
     "height": 51
    },
    "colab_type": "code",
    "executionInfo": {
     "elapsed": 211,
     "status": "ok",
     "timestamp": 1547566177200,
     "user": {
      "displayName": "Alexander Dowling",
      "photoUrl": "https://lh3.googleusercontent.com/-LChdQ2m5OQE/AAAAAAAAAAI/AAAAAAAAAA0/JeXJe4vQJ7M/s64/photo.jpg",
      "userId": "00988067626794866502"
     },
     "user_tz": 300
    },
    "id": "w-eQk5ZPzeqj",
    "nbpages": {
     "level": 3,
     "link": "[1.2.7.1 Integers](https://ndcbe.github.io/cbe-xx258/01.02-Variables.html#1.2.7.1-Integers)",
     "section": "1.2.7.1 Integers"
    },
    "outputId": "e4f6eda8-5e29-4fe3-a8ae-d9ee344ac715"
   },
   "outputs": [],
   "source": [
    "#assign the value 2 to x\n",
    "x = 2\n",
    "print(x*2.0)\n",
    "\n",
    "#check that x is an integer\n",
    "type(x)\n"
   ]
  },
  {
   "cell_type": "markdown",
   "metadata": {
    "colab_type": "text",
    "id": "FAX3auI9zeqm",
    "nbpages": {
     "level": 3,
     "link": "[1.2.7.1 Integers](https://ndcbe.github.io/cbe-xx258/01.02-Variables.html#1.2.7.1-Integers)",
     "section": "1.2.7.1 Integers"
    }
   },
   "source": [
    "Integers are useful for things that can be counted: perhaps that number of times we execute a loop, the number of elements of a vector, or the number of students in a class."
   ]
  },
  {
   "cell_type": "markdown",
   "metadata": {
    "nbpages": {
     "level": 3,
     "link": "[1.2.7.1 Integers](https://ndcbe.github.io/cbe-xx258/01.02-Variables.html#1.2.7.1-Integers)",
     "section": "1.2.7.1 Integers"
    }
   },
   "source": [
    "<div style=\"background-color: rgba(0,255,0,0.05) ; padding: 10px; border: 1px solid darkgreen;\"> \n",
    "<b>Home Activity</b>: Copy the code from above and modify to multiple x by <b>2</b> instead of <b>2.0</b>. What is the variable type now?\n",
    "</div>"
   ]
  },
  {
   "cell_type": "code",
   "execution_count": null,
   "metadata": {
    "nbpages": {
     "level": 3,
     "link": "[1.2.7.1 Integers](https://ndcbe.github.io/cbe-xx258/01.02-Variables.html#1.2.7.1-Integers)",
     "section": "1.2.7.1 Integers"
    }
   },
   "outputs": [],
   "source": [
    "#assign the value 2 to x\n",
    "x = 2\n",
    "print(x*2)\n",
    "\n",
    "#check that x is an integer\n",
    "type(x)\n"
   ]
  },
  {
   "cell_type": "markdown",
   "metadata": {
    "colab_type": "text",
    "id": "NFqkInihzeqm",
    "nbpages": {
     "level": 3,
     "link": "[1.2.7.2 Floating Point Numbers](https://ndcbe.github.io/cbe-xx258/01.02-Variables.html#1.2.7.2-Floating-Point-Numbers)",
     "section": "1.2.7.2 Floating Point Numbers"
    }
   },
   "source": [
    "### 1.2.7.2 Floating Point Numbers"
   ]
  },
  {
   "cell_type": "markdown",
   "metadata": {
    "colab_type": "text",
    "id": "ZUeFbQJgzeqn",
    "nbpages": {
     "level": 3,
     "link": "[1.2.7.2 Floating Point Numbers](https://ndcbe.github.io/cbe-xx258/01.02-Variables.html#1.2.7.2-Floating-Point-Numbers)",
     "section": "1.2.7.2 Floating Point Numbers"
    }
   },
   "source": [
    "Floating point numbers are numbers that do have a fractional part.  Most numbers in engineering calculations are floating point types."
   ]
  },
  {
   "cell_type": "code",
   "execution_count": null,
   "metadata": {
    "colab": {
     "base_uri": "https://localhost:8080/",
     "height": 68
    },
    "colab_type": "code",
    "executionInfo": {
     "elapsed": 228,
     "status": "ok",
     "timestamp": 1547566223005,
     "user": {
      "displayName": "Alexander Dowling",
      "photoUrl": "https://lh3.googleusercontent.com/-LChdQ2m5OQE/AAAAAAAAAAI/AAAAAAAAAA0/JeXJe4vQJ7M/s64/photo.jpg",
      "userId": "00988067626794866502"
     },
     "user_tz": 300
    },
    "id": "sgBRyDoVzeqn",
    "nbpages": {
     "level": 3,
     "link": "[1.2.7.2 Floating Point Numbers](https://ndcbe.github.io/cbe-xx258/01.02-Variables.html#1.2.7.2-Floating-Point-Numbers)",
     "section": "1.2.7.2 Floating Point Numbers"
    },
    "outputId": "5200f0a7-c96f-4c69-e48f-54bf1628381c"
   },
   "outputs": [],
   "source": [
    "#Now make some others floating point variables\n",
    "y = 4.2\n",
    "print(\"y =\",y)\n",
    "print(type(y))\n",
    "#note that exponentiation is **\n",
    "z = (x / y)**3\n",
    "print(\"(2 / 4.2)**3 =\",z)"
   ]
  },
  {
   "cell_type": "markdown",
   "metadata": {
    "colab_type": "text",
    "id": "OrtK6tgtzeqp",
    "nbpages": {
     "level": 3,
     "link": "[1.2.7.2 Floating Point Numbers](https://ndcbe.github.io/cbe-xx258/01.02-Variables.html#1.2.7.2-Floating-Point-Numbers)",
     "section": "1.2.7.2 Floating Point Numbers"
    }
   },
   "source": [
    "The way that floating point numbers are represented on a computer has **only a finite precision**.  That means we cannot represent a number exactly in many cases. We'll see later an example of how floating point accuracy can make a difference in a calculation."
   ]
  },
  {
   "cell_type": "markdown",
   "metadata": {
    "nbpages": {
     "level": 3,
     "link": "[1.2.7.2 Floating Point Numbers](https://ndcbe.github.io/cbe-xx258/01.02-Variables.html#1.2.7.2-Floating-Point-Numbers)",
     "section": "1.2.7.2 Floating Point Numbers"
    }
   },
   "source": [
    "<div style=\"background-color: rgba(0,255,0,0.05) ; padding: 10px; border: 1px solid darkgreen;\"> \n",
    "<b>Home Activity</b>: Add 1E-10 to 1E-20. Is the answer what you expect?\n",
    "</div>"
   ]
  },
  {
   "cell_type": "markdown",
   "metadata": {
    "nbpages": {
     "level": 3,
     "link": "[1.2.7.2 Floating Point Numbers](https://ndcbe.github.io/cbe-xx258/01.02-Variables.html#1.2.7.2-Floating-Point-Numbers)",
     "section": "1.2.7.2 Floating Point Numbers"
    }
   },
   "source": [
    "Hint: `1E-20` is shorthand for $1 \\times 10^{-20}$, which is sometimes called scientific notation."
   ]
  },
  {
   "cell_type": "code",
   "execution_count": null,
   "metadata": {
    "nbpages": {
     "level": 3,
     "link": "[1.2.7.2 Floating Point Numbers](https://ndcbe.github.io/cbe-xx258/01.02-Variables.html#1.2.7.2-Floating-Point-Numbers)",
     "section": "1.2.7.2 Floating Point Numbers"
    }
   },
   "outputs": [],
   "source": [
    "x = 1E-10 + 1E-20\n",
    "print(x)"
   ]
  },
  {
   "cell_type": "markdown",
   "metadata": {
    "colab_type": "text",
    "id": "d4Tg8byszeqq",
    "nbpages": {
     "level": 3,
     "link": "[1.2.7.3 Built-in Mathematical Functions](https://ndcbe.github.io/cbe-xx258/01.02-Variables.html#1.2.7.3-Built-in-Mathematical-Functions)",
     "section": "1.2.7.3 Built-in Mathematical Functions"
    }
   },
   "source": [
    "### 1.2.7.3 Built-in Mathematical Functions"
   ]
  },
  {
   "cell_type": "markdown",
   "metadata": {
    "colab_type": "text",
    "id": "FXefyDz8zeqq",
    "nbpages": {
     "level": 3,
     "link": "[1.2.7.3 Built-in Mathematical Functions](https://ndcbe.github.io/cbe-xx258/01.02-Variables.html#1.2.7.3-Built-in-Mathematical-Functions)",
     "section": "1.2.7.3 Built-in Mathematical Functions"
    }
   },
   "source": [
    "There are almost every common mathematical function you might need for python already built in. To use them you have to import that math functions using the command <tt>import</tt>.  In the code below, I set it up so that to use a math function you use the syntax <tt>math.[function]</tt> where <tt>[function]</tt> is the name of the function you want to call.\n",
    "\n",
    "See https://docs.python.org/3.4/library/math.html for the complete list of built-in mathematical functions."
   ]
  },
  {
   "cell_type": "code",
   "execution_count": null,
   "metadata": {
    "colab": {
     "base_uri": "https://localhost:8080/",
     "height": 68
    },
    "colab_type": "code",
    "executionInfo": {
     "elapsed": 230,
     "status": "ok",
     "timestamp": 1547566377502,
     "user": {
      "displayName": "Alexander Dowling",
      "photoUrl": "https://lh3.googleusercontent.com/-LChdQ2m5OQE/AAAAAAAAAAI/AAAAAAAAAA0/JeXJe4vQJ7M/s64/photo.jpg",
      "userId": "00988067626794866502"
     },
     "user_tz": 300
    },
    "id": "7xWUIbYYzeqr",
    "nbpages": {
     "level": 3,
     "link": "[1.2.7.3 Built-in Mathematical Functions](https://ndcbe.github.io/cbe-xx258/01.02-Variables.html#1.2.7.3-Built-in-Mathematical-Functions)",
     "section": "1.2.7.3 Built-in Mathematical Functions"
    },
    "outputId": "57472d28-528a-4533-8cd3-cc87a8371eb3"
   },
   "outputs": [],
   "source": [
    "import math as m\n",
    "#take cosine of a number close to pi\n",
    "theta = 3.14159\n",
    "trig_variable = m.cos(theta)\n",
    "print(\"cos(\",theta,\") =\",trig_variable)\n",
    "\n",
    "#use the exponential to give me e\n",
    "e = m.exp(1)\n",
    "print(\"The base of the natural logarithm is\",e)\n",
    "\n",
    "#python has a built-in pi as well\n",
    "print(\"The value of pi is\",m.pi)"
   ]
  },
  {
   "cell_type": "markdown",
   "metadata": {
    "colab_type": "text",
    "id": "gpL8u0DEzeqv",
    "nbpages": {
     "level": 3,
     "link": "[1.2.7.3 Built-in Mathematical Functions](https://ndcbe.github.io/cbe-xx258/01.02-Variables.html#1.2.7.3-Built-in-Mathematical-Functions)",
     "section": "1.2.7.3 Built-in Mathematical Functions"
    }
   },
   "source": [
    "Notice how in the print statements, if I give it multiple arguments, it prints each with a space in between. The natural logarithm is just <tt>math.log</tt> and the base 10 logarithm is <tt>math.log10</tt>.\n",
    "\n"
   ]
  },
  {
   "cell_type": "code",
   "execution_count": null,
   "metadata": {
    "colab": {
     "base_uri": "https://localhost:8080/",
     "height": 51
    },
    "colab_type": "code",
    "executionInfo": {
     "elapsed": 236,
     "status": "ok",
     "timestamp": 1547566411036,
     "user": {
      "displayName": "Alexander Dowling",
      "photoUrl": "https://lh3.googleusercontent.com/-LChdQ2m5OQE/AAAAAAAAAAI/AAAAAAAAAA0/JeXJe4vQJ7M/s64/photo.jpg",
      "userId": "00988067626794866502"
     },
     "user_tz": 300
    },
    "id": "Y1WnEyvbzeqw",
    "nbpages": {
     "level": 3,
     "link": "[1.2.7.3 Built-in Mathematical Functions](https://ndcbe.github.io/cbe-xx258/01.02-Variables.html#1.2.7.3-Built-in-Mathematical-Functions)",
     "section": "1.2.7.3 Built-in Mathematical Functions"
    },
    "outputId": "88b5ce2e-400a-4bce-8806-f8e8590d19b9"
   },
   "outputs": [],
   "source": [
    "print(\"The natural log of 10 is\",m.log(10))\n",
    "print(\"The log base-10 of 10 is\",m.log10(10))"
   ]
  },
  {
   "cell_type": "markdown",
   "metadata": {
    "colab_type": "text",
    "id": "qnSjPs42zeq0",
    "nbpages": {
     "level": 3,
     "link": "[1.2.7.3 Built-in Mathematical Functions](https://ndcbe.github.io/cbe-xx258/01.02-Variables.html#1.2.7.3-Built-in-Mathematical-Functions)",
     "section": "1.2.7.3 Built-in Mathematical Functions"
    }
   },
   "source": [
    "There are two non-obvious mathematical operators, integer division: //, and the modulus (or remainder): %"
   ]
  },
  {
   "cell_type": "code",
   "execution_count": null,
   "metadata": {
    "colab": {
     "base_uri": "https://localhost:8080/",
     "height": 51
    },
    "colab_type": "code",
    "executionInfo": {
     "elapsed": 229,
     "status": "ok",
     "timestamp": 1547566463492,
     "user": {
      "displayName": "Alexander Dowling",
      "photoUrl": "https://lh3.googleusercontent.com/-LChdQ2m5OQE/AAAAAAAAAAI/AAAAAAAAAA0/JeXJe4vQJ7M/s64/photo.jpg",
      "userId": "00988067626794866502"
     },
     "user_tz": 300
    },
    "id": "vBZGVZjczeq1",
    "nbpages": {
     "level": 3,
     "link": "[1.2.7.3 Built-in Mathematical Functions](https://ndcbe.github.io/cbe-xx258/01.02-Variables.html#1.2.7.3-Built-in-Mathematical-Functions)",
     "section": "1.2.7.3 Built-in Mathematical Functions"
    },
    "outputId": "32f2a658-03fc-4721-e9dd-0c9d86f25f68"
   },
   "outputs": [],
   "source": [
    "# 7 / 3 is 2 remainder 1\n",
    "print(\"7 divided by 3 is\",7//3,\"remainder\",7%3)\n",
    "print(\"851 divided by 13 is\",851//13,\"remainder\",851%13)"
   ]
  },
  {
   "cell_type": "markdown",
   "metadata": {
    "nbpages": {
     "level": 3,
     "link": "[1.2.7.3 Built-in Mathematical Functions](https://ndcbe.github.io/cbe-xx258/01.02-Variables.html#1.2.7.3-Built-in-Mathematical-Functions)",
     "section": "1.2.7.3 Built-in Mathematical Functions"
    }
   },
   "source": [
    "<div style=\"background-color: rgba(0,255,0,0.05) ; padding: 10px; border: 1px solid darkgreen;\"> \n",
    "<b>Home Activity</b>: Study and execute the code below. Then write a sentence to explain the different between integer and floating point division.\n",
    "</div>"
   ]
  },
  {
   "cell_type": "code",
   "execution_count": null,
   "metadata": {
    "nbpages": {
     "level": 3,
     "link": "[1.2.7.3 Built-in Mathematical Functions](https://ndcbe.github.io/cbe-xx258/01.02-Variables.html#1.2.7.3-Built-in-Mathematical-Functions)",
     "section": "1.2.7.3 Built-in Mathematical Functions"
    }
   },
   "outputs": [],
   "source": [
    "# integer division\n",
    "print(\"7 // 3 = \",7//3)\n",
    "\n",
    "# floating division\n",
    "print(\"7 / 3 = \",7/3)"
   ]
  },
  {
   "cell_type": "markdown",
   "metadata": {
    "nbpages": {
     "level": 3,
     "link": "[1.2.7.3 Built-in Mathematical Functions](https://ndcbe.github.io/cbe-xx258/01.02-Variables.html#1.2.7.3-Built-in-Mathematical-Functions)",
     "section": "1.2.7.3 Built-in Mathematical Functions"
    }
   },
   "source": [
    "*Write a sentence to explain difference between integer and floating point division:*\n",
    "\n"
   ]
  },
  {
   "cell_type": "markdown",
   "metadata": {
    "colab_type": "text",
    "id": "F6HVn8zMzeq4",
    "nbpages": {
     "level": 3,
     "link": "[1.2.7.3 Built-in Mathematical Functions](https://ndcbe.github.io/cbe-xx258/01.02-Variables.html#1.2.7.3-Built-in-Mathematical-Functions)",
     "section": "1.2.7.3 Built-in Mathematical Functions"
    }
   },
   "source": [
    "Let's also look at how to generate a random number."
   ]
  },
  {
   "cell_type": "code",
   "execution_count": null,
   "metadata": {
    "colab": {
     "base_uri": "https://localhost:8080/",
     "height": 34
    },
    "colab_type": "code",
    "executionInfo": {
     "elapsed": 233,
     "status": "ok",
     "timestamp": 1547566500528,
     "user": {
      "displayName": "Alexander Dowling",
      "photoUrl": "https://lh3.googleusercontent.com/-LChdQ2m5OQE/AAAAAAAAAAI/AAAAAAAAAA0/JeXJe4vQJ7M/s64/photo.jpg",
      "userId": "00988067626794866502"
     },
     "user_tz": 300
    },
    "id": "bHqSe6Dzzeq4",
    "nbpages": {
     "level": 3,
     "link": "[1.2.7.3 Built-in Mathematical Functions](https://ndcbe.github.io/cbe-xx258/01.02-Variables.html#1.2.7.3-Built-in-Mathematical-Functions)",
     "section": "1.2.7.3 Built-in Mathematical Functions"
    },
    "outputId": "e7669f58-f055-419b-cad3-367be967b8b8"
   },
   "outputs": [],
   "source": [
    "import random\n",
    "print(\"A random number between 0 and 1: \",random.random())"
   ]
  },
  {
   "cell_type": "markdown",
   "metadata": {
    "colab": {},
    "colab_type": "code",
    "id": "10bSO_0hJsN9",
    "nbpages": {
     "level": 3,
     "link": "[1.2.7.3 Built-in Mathematical Functions](https://ndcbe.github.io/cbe-xx258/01.02-Variables.html#1.2.7.3-Built-in-Mathematical-Functions)",
     "section": "1.2.7.3 Built-in Mathematical Functions"
    }
   },
   "source": [
    "<div style=\"background-color: rgba(0,255,0,0.05) ; padding: 10px; border: 1px solid darkgreen;\"> \n",
    "<b>Home Activity</b>: Generate a random whole number between 0 and 100 using <tt>random.random()</tt>.\n",
    "</div>"
   ]
  },
  {
   "cell_type": "code",
   "execution_count": null,
   "metadata": {
    "colab": {
     "base_uri": "https://localhost:8080/",
     "height": 86
    },
    "colab_type": "code",
    "executionInfo": {
     "elapsed": 209,
     "status": "ok",
     "timestamp": 1547567011408,
     "user": {
      "displayName": "Alexander Dowling",
      "photoUrl": "https://lh3.googleusercontent.com/-LChdQ2m5OQE/AAAAAAAAAAI/AAAAAAAAAA0/JeXJe4vQJ7M/s64/photo.jpg",
      "userId": "00988067626794866502"
     },
     "user_tz": 300
    },
    "id": "6_qcHNXWzeq9",
    "nbpages": {
     "level": 3,
     "link": "[1.2.7.3 Built-in Mathematical Functions](https://ndcbe.github.io/cbe-xx258/01.02-Variables.html#1.2.7.3-Built-in-Mathematical-Functions)",
     "section": "1.2.7.3 Built-in Mathematical Functions"
    },
    "outputId": "af5a2c59-86cb-4fae-df0e-93be5a70632a"
   },
   "outputs": [],
   "source": [
    "import random\n",
    "print(\"A random number between 0 and 100: \",100*random.random())"
   ]
  },
  {
   "cell_type": "markdown",
   "metadata": {
    "colab_type": "text",
    "id": "bcbiB18czeq_",
    "nbpages": {
     "level": 2,
     "link": "[1.2.8 Strings and Overloading](https://ndcbe.github.io/cbe-xx258/01.02-Variables.html#1.2.8-Strings-and-Overloading)",
     "section": "1.2.8 Strings and Overloading"
    }
   },
   "source": [
    "## 1.2.8 Strings and Overloading"
   ]
  },
  {
   "cell_type": "markdown",
   "metadata": {
    "colab_type": "text",
    "id": "hCSujRdxzeq_",
    "nbpages": {
     "level": 2,
     "link": "[1.2.8 Strings and Overloading](https://ndcbe.github.io/cbe-xx258/01.02-Variables.html#1.2.8-Strings-and-Overloading)",
     "section": "1.2.8 Strings and Overloading"
    }
   },
   "source": [
    "A string is a data type that is a collection of characters, and needs to be inside quotes:"
   ]
  },
  {
   "cell_type": "code",
   "execution_count": null,
   "metadata": {
    "colab": {
     "base_uri": "https://localhost:8080/",
     "height": 52
    },
    "colab_type": "code",
    "executionInfo": {
     "elapsed": 545,
     "status": "ok",
     "timestamp": 1547735736409,
     "user": {
      "displayName": "Alexander Dowling",
      "photoUrl": "https://lh3.googleusercontent.com/-LChdQ2m5OQE/AAAAAAAAAAI/AAAAAAAAAA0/JeXJe4vQJ7M/s64/photo.jpg",
      "userId": "00988067626794866502"
     },
     "user_tz": 300
    },
    "id": "P7oVSPD_zerB",
    "nbpages": {
     "level": 2,
     "link": "[1.2.8 Strings and Overloading](https://ndcbe.github.io/cbe-xx258/01.02-Variables.html#1.2.8-Strings-and-Overloading)",
     "section": "1.2.8 Strings and Overloading"
    },
    "outputId": "9a1a541b-f2d3-4e05-ccc3-137bd01e271f"
   },
   "outputs": [],
   "source": [
    "#This is a string\n",
    "aString = \"Coffee is for closers.\"\n",
    "print(aString)\n",
    "print(\"aString\")"
   ]
  },
  {
   "cell_type": "markdown",
   "metadata": {
    "colab_type": "text",
    "id": "Dek1OcFqzerE",
    "nbpages": {
     "level": 2,
     "link": "[1.2.8 Strings and Overloading](https://ndcbe.github.io/cbe-xx258/01.02-Variables.html#1.2.8-Strings-and-Overloading)",
     "section": "1.2.8 Strings and Overloading"
    }
   },
   "source": [
    "Anything inside the quotes is taken literally by python. That is why the second print statement above just printed <tt>aString</tt>.\n",
    "\n",
    "You can also subset, that is get some of the characters in a string, using brackets. Putting a single number in a bracket gives you the character in that position. Note, python starts numbering at 0 so that 0 is the first character in a string."
   ]
  },
  {
   "cell_type": "code",
   "execution_count": null,
   "metadata": {
    "colab": {
     "base_uri": "https://localhost:8080/",
     "height": 35
    },
    "colab_type": "code",
    "executionInfo": {
     "elapsed": 211,
     "status": "ok",
     "timestamp": 1547735769305,
     "user": {
      "displayName": "Alexander Dowling",
      "photoUrl": "https://lh3.googleusercontent.com/-LChdQ2m5OQE/AAAAAAAAAAI/AAAAAAAAAA0/JeXJe4vQJ7M/s64/photo.jpg",
      "userId": "00988067626794866502"
     },
     "user_tz": 300
    },
    "id": "iat7ga8PzerF",
    "nbpages": {
     "level": 2,
     "link": "[1.2.8 Strings and Overloading](https://ndcbe.github.io/cbe-xx258/01.02-Variables.html#1.2.8-Strings-and-Overloading)",
     "section": "1.2.8 Strings and Overloading"
    },
    "outputId": "b213a384-7eb6-43c0-8db2-b6ed51313624"
   },
   "outputs": [],
   "source": [
    "aString[0]"
   ]
  },
  {
   "cell_type": "code",
   "execution_count": null,
   "metadata": {
    "colab": {},
    "colab_type": "code",
    "id": "eWBsUIH5zerH",
    "nbpages": {
     "level": 2,
     "link": "[1.2.8 Strings and Overloading](https://ndcbe.github.io/cbe-xx258/01.02-Variables.html#1.2.8-Strings-and-Overloading)",
     "section": "1.2.8 Strings and Overloading"
    },
    "outputId": "fd01e970-9370-40ad-a461-cf8940d3acb8"
   },
   "outputs": [],
   "source": [
    "aString[5]"
   ]
  },
  {
   "cell_type": "markdown",
   "metadata": {
    "colab_type": "text",
    "id": "inEAz-oszerL",
    "nbpages": {
     "level": 2,
     "link": "[1.2.8 Strings and Overloading](https://ndcbe.github.io/cbe-xx258/01.02-Variables.html#1.2.8-Strings-and-Overloading)",
     "section": "1.2.8 Strings and Overloading"
    }
   },
   "source": [
    "You can also get a range of characters in a string using the colon. The colon operator is funny in a way in that <tt>[a:b]</tt> says give me the elements in the string from position <tt>a</tt> to position <tt>b-1</tt>."
   ]
  },
  {
   "cell_type": "code",
   "execution_count": null,
   "metadata": {
    "colab": {},
    "colab_type": "code",
    "id": "8vjosG98zerM",
    "nbpages": {
     "level": 2,
     "link": "[1.2.8 Strings and Overloading](https://ndcbe.github.io/cbe-xx258/01.02-Variables.html#1.2.8-Strings-and-Overloading)",
     "section": "1.2.8 Strings and Overloading"
    },
    "outputId": "22c6b668-541d-4dae-f815-82b35c5459b5"
   },
   "outputs": [],
   "source": [
    "aString[1:6]"
   ]
  },
  {
   "cell_type": "markdown",
   "metadata": {
    "colab_type": "text",
    "id": "6IMw9KkWzerO",
    "nbpages": {
     "level": 2,
     "link": "[1.2.8 Strings and Overloading](https://ndcbe.github.io/cbe-xx258/01.02-Variables.html#1.2.8-Strings-and-Overloading)",
     "section": "1.2.8 Strings and Overloading"
    }
   },
   "source": [
    "Python defines its ranges this way so that if the string is of length <tt>N</tt>, <tt>[0:N]</tt> returns the whole string."
   ]
  },
  {
   "cell_type": "markdown",
   "metadata": {
    "colab_type": "text",
    "id": "c_SpLPIUzerO",
    "nbpages": {
     "level": 2,
     "link": "[1.2.8 Strings and Overloading](https://ndcbe.github.io/cbe-xx258/01.02-Variables.html#1.2.8-Strings-and-Overloading)",
     "section": "1.2.8 Strings and Overloading"
    }
   },
   "source": [
    "Negative subsets start at the end of the string (i.e., -1 is the last character of the string)."
   ]
  },
  {
   "cell_type": "code",
   "execution_count": null,
   "metadata": {
    "colab": {},
    "colab_type": "code",
    "id": "JcSjb9v6zerP",
    "nbpages": {
     "level": 2,
     "link": "[1.2.8 Strings and Overloading](https://ndcbe.github.io/cbe-xx258/01.02-Variables.html#1.2.8-Strings-and-Overloading)",
     "section": "1.2.8 Strings and Overloading"
    },
    "outputId": "e6a1ce28-0120-4fbc-bd0b-413c25cb47c8"
   },
   "outputs": [],
   "source": [
    "aString[-1]"
   ]
  },
  {
   "cell_type": "code",
   "execution_count": null,
   "metadata": {
    "colab": {},
    "colab_type": "code",
    "id": "ZUQVEUxwzerT",
    "nbpages": {
     "level": 2,
     "link": "[1.2.8 Strings and Overloading](https://ndcbe.github.io/cbe-xx258/01.02-Variables.html#1.2.8-Strings-and-Overloading)",
     "section": "1.2.8 Strings and Overloading"
    },
    "outputId": "b9af7fe5-d593-48da-a714-bcc3a4dfa33a"
   },
   "outputs": [],
   "source": [
    "aString[-5:-2]"
   ]
  },
  {
   "cell_type": "markdown",
   "metadata": {
    "nbpages": {
     "level": 2,
     "link": "[1.2.8 Strings and Overloading](https://ndcbe.github.io/cbe-xx258/01.02-Variables.html#1.2.8-Strings-and-Overloading)",
     "section": "1.2.8 Strings and Overloading"
    }
   },
   "source": [
    "<div style=\"background-color: rgba(0,255,0,0.05) ; padding: 10px; border: 1px solid darkgreen;\"> \n",
    "    <b>Home Activity</b>: Print \"closers\" by accessing elements of <tt>aString</tt>\n",
    "</div>"
   ]
  },
  {
   "cell_type": "code",
   "execution_count": null,
   "metadata": {
    "nbpages": {
     "level": 2,
     "link": "[1.2.8 Strings and Overloading](https://ndcbe.github.io/cbe-xx258/01.02-Variables.html#1.2.8-Strings-and-Overloading)",
     "section": "1.2.8 Strings and Overloading"
    }
   },
   "outputs": [],
   "source": [
    "aString[-8:-1]"
   ]
  },
  {
   "cell_type": "markdown",
   "metadata": {
    "colab_type": "text",
    "id": "TBZ2PLT8zerY",
    "nbpages": {
     "level": 2,
     "link": "[1.2.8 Strings and Overloading](https://ndcbe.github.io/cbe-xx258/01.02-Variables.html#1.2.8-Strings-and-Overloading)",
     "section": "1.2.8 Strings and Overloading"
    }
   },
   "source": [
    "With characters (and strings) the + **operator is overloaded**.  What we mean by overloaded, is that it is defined so that the idea of what addition means is conferred to strings.  Therefore,"
   ]
  },
  {
   "cell_type": "code",
   "execution_count": null,
   "metadata": {
    "colab": {
     "base_uri": "https://localhost:8080/",
     "height": 35
    },
    "colab_type": "code",
    "executionInfo": {
     "elapsed": 231,
     "status": "ok",
     "timestamp": 1547735953989,
     "user": {
      "displayName": "Alexander Dowling",
      "photoUrl": "https://lh3.googleusercontent.com/-LChdQ2m5OQE/AAAAAAAAAAI/AAAAAAAAAA0/JeXJe4vQJ7M/s64/photo.jpg",
      "userId": "00988067626794866502"
     },
     "user_tz": 300
    },
    "id": "_k7vk_eUzera",
    "nbpages": {
     "level": 2,
     "link": "[1.2.8 Strings and Overloading](https://ndcbe.github.io/cbe-xx258/01.02-Variables.html#1.2.8-Strings-and-Overloading)",
     "section": "1.2.8 Strings and Overloading"
    },
    "outputId": "853bd318-09e8-47c2-aea6-b760d983c171"
   },
   "outputs": [],
   "source": [
    "'Negative Ghostrider: ' + 'the pattern is full'"
   ]
  },
  {
   "cell_type": "code",
   "execution_count": null,
   "metadata": {
    "colab": {},
    "colab_type": "code",
    "id": "HWQtJ0bqzerj",
    "nbpages": {
     "level": 2,
     "link": "[1.2.8 Strings and Overloading](https://ndcbe.github.io/cbe-xx258/01.02-Variables.html#1.2.8-Strings-and-Overloading)",
     "section": "1.2.8 Strings and Overloading"
    },
    "outputId": "19558be5-9902-4f1a-bb0a-a912cf71c4a3"
   },
   "outputs": [],
   "source": [
    "'a' + 'b' + 'c'"
   ]
  },
  {
   "cell_type": "markdown",
   "metadata": {
    "colab_type": "text",
    "id": "4hjdeJ2Mzerm",
    "nbpages": {
     "level": 2,
     "link": "[1.2.8 Strings and Overloading](https://ndcbe.github.io/cbe-xx258/01.02-Variables.html#1.2.8-Strings-and-Overloading)",
     "section": "1.2.8 Strings and Overloading"
    }
   },
   "source": [
    "The + operator **concatenates** (or smushes together) the strings/characters it operates on."
   ]
  },
  {
   "cell_type": "markdown",
   "metadata": {
    "colab_type": "text",
    "id": "e2SuGaCuzerm",
    "nbpages": {
     "level": 2,
     "link": "[1.2.8 Strings and Overloading](https://ndcbe.github.io/cbe-xx258/01.02-Variables.html#1.2.8-Strings-and-Overloading)",
     "section": "1.2.8 Strings and Overloading"
    }
   },
   "source": [
    "The multiplication operator is similarly overloaded, though it is not as general.  It is simple to think about 'The roof, ' * 3"
   ]
  },
  {
   "cell_type": "code",
   "execution_count": null,
   "metadata": {
    "colab": {},
    "colab_type": "code",
    "id": "5DXb0H_Xzern",
    "nbpages": {
     "level": 2,
     "link": "[1.2.8 Strings and Overloading](https://ndcbe.github.io/cbe-xx258/01.02-Variables.html#1.2.8-Strings-and-Overloading)",
     "section": "1.2.8 Strings and Overloading"
    },
    "outputId": "ded8c926-9e06-4268-8d30-97094a3bfb80"
   },
   "outputs": [],
   "source": [
    "'The roof, ' * 3"
   ]
  },
  {
   "cell_type": "markdown",
   "metadata": {
    "colab_type": "text",
    "id": "dmCdj8opzerp",
    "nbpages": {
     "level": 2,
     "link": "[1.2.8 Strings and Overloading](https://ndcbe.github.io/cbe-xx258/01.02-Variables.html#1.2.8-Strings-and-Overloading)",
     "section": "1.2.8 Strings and Overloading"
    }
   },
   "source": [
    "However, 'The roof, ' * 3.15 is not defined and will give an error:"
   ]
  },
  {
   "cell_type": "code",
   "execution_count": 8,
   "metadata": {
    "colab": {
     "base_uri": "https://localhost:8080/",
     "height": 166
    },
    "colab_type": "code",
    "executionInfo": {
     "elapsed": 278,
     "status": "error",
     "timestamp": 1547735988213,
     "user": {
      "displayName": "Alexander Dowling",
      "photoUrl": "https://lh3.googleusercontent.com/-LChdQ2m5OQE/AAAAAAAAAAI/AAAAAAAAAA0/JeXJe4vQJ7M/s64/photo.jpg",
      "userId": "00988067626794866502"
     },
     "user_tz": 300
    },
    "id": "KwG_NR8Jzerp",
    "nbpages": {
     "level": 2,
     "link": "[1.2.8 Strings and Overloading](https://ndcbe.github.io/cbe-xx258/01.02-Variables.html#1.2.8-Strings-and-Overloading)",
     "section": "1.2.8 Strings and Overloading"
    },
    "outputId": "bb456be6-e96a-418e-c683-d5418ff09d14"
   },
   "outputs": [
    {
     "ename": "TypeError",
     "evalue": "can't multiply sequence by non-int of type 'float'",
     "output_type": "error",
     "traceback": [
      "\u001b[0;31m---------------------------------------------------------------------------\u001b[0m",
      "\u001b[0;31mTypeError\u001b[0m                                 Traceback (most recent call last)",
      "\u001b[0;32m<ipython-input-8-cf9164a8e59b>\u001b[0m in \u001b[0;36m<module>\u001b[0;34m\u001b[0m\n\u001b[0;32m----> 1\u001b[0;31m \u001b[0;34m'The roof, '\u001b[0m \u001b[0;34m*\u001b[0m \u001b[0;36m3.15\u001b[0m\u001b[0;34m\u001b[0m\u001b[0;34m\u001b[0m\u001b[0m\n\u001b[0m",
      "\u001b[0;31mTypeError\u001b[0m: can't multiply sequence by non-int of type 'float'"
     ]
    }
   ],
   "source": [
    "'The roof, ' * 3.15"
   ]
  },
  {
   "cell_type": "markdown",
   "metadata": {
    "colab_type": "text",
    "id": "J-wsrWVOzers",
    "nbpages": {
     "level": 2,
     "link": "[1.2.8 Strings and Overloading](https://ndcbe.github.io/cbe-xx258/01.02-Variables.html#1.2.8-Strings-and-Overloading)",
     "section": "1.2.8 Strings and Overloading"
    }
   },
   "source": [
    "The upshot is that only an integer times a character/string makes sense. The order of operations is respected"
   ]
  },
  {
   "cell_type": "code",
   "execution_count": null,
   "metadata": {
    "colab": {},
    "colab_type": "code",
    "id": "X6av1942zers",
    "nbpages": {
     "level": 2,
     "link": "[1.2.8 Strings and Overloading](https://ndcbe.github.io/cbe-xx258/01.02-Variables.html#1.2.8-Strings-and-Overloading)",
     "section": "1.2.8 Strings and Overloading"
    },
    "outputId": "57ea90ec-f7c6-4c5f-eeec-5e98957e4755"
   },
   "outputs": [],
   "source": [
    "'The roof, ' * 3 + 'is on fire...'"
   ]
  },
  {
   "cell_type": "markdown",
   "metadata": {
    "colab_type": "text",
    "id": "lCkaFKjTzert",
    "nbpages": {
     "level": 2,
     "link": "[1.2.8 Strings and Overloading](https://ndcbe.github.io/cbe-xx258/01.02-Variables.html#1.2.8-Strings-and-Overloading)",
     "section": "1.2.8 Strings and Overloading"
    }
   },
   "source": [
    "Minus makes sense, but only sometimes, so it is not allowed."
   ]
  },
  {
   "cell_type": "code",
   "execution_count": null,
   "metadata": {
    "colab": {
     "base_uri": "https://localhost:8080/",
     "height": 166
    },
    "colab_type": "code",
    "executionInfo": {
     "elapsed": 225,
     "status": "error",
     "timestamp": 1547736047906,
     "user": {
      "displayName": "Alexander Dowling",
      "photoUrl": "https://lh3.googleusercontent.com/-LChdQ2m5OQE/AAAAAAAAAAI/AAAAAAAAAA0/JeXJe4vQJ7M/s64/photo.jpg",
      "userId": "00988067626794866502"
     },
     "user_tz": 300
    },
    "id": "eNATKHF9zeru",
    "nbpages": {
     "level": 2,
     "link": "[1.2.8 Strings and Overloading](https://ndcbe.github.io/cbe-xx258/01.02-Variables.html#1.2.8-Strings-and-Overloading)",
     "section": "1.2.8 Strings and Overloading"
    },
    "outputId": "fb3b3130-04e1-417c-9e8d-88973ea5e70a"
   },
   "outputs": [],
   "source": [
    "'The roof' "
   ]
  },
  {
   "cell_type": "markdown",
   "metadata": {
    "nbpages": {
     "level": 2,
     "link": "[1.2.8 Strings and Overloading](https://ndcbe.github.io/cbe-xx258/01.02-Variables.html#1.2.8-Strings-and-Overloading)",
     "section": "1.2.8 Strings and Overloading"
    }
   },
   "source": [
    "<div style=\"background-color: rgba(0,255,0,0.05) ; padding: 10px; border: 1px solid darkgreen;\"> \n",
    "    <b>Home Activity</b>: Create the string \"row row row your boat gently down the stream\" using string multiplication and concatenation.\n",
    "</div>"
   ]
  },
  {
   "cell_type": "code",
   "execution_count": null,
   "metadata": {
    "nbpages": {
     "level": 2,
     "link": "[1.2.8 Strings and Overloading](https://ndcbe.github.io/cbe-xx258/01.02-Variables.html#1.2.8-Strings-and-Overloading)",
     "section": "1.2.8 Strings and Overloading"
    }
   },
   "outputs": [],
   "source": [
    "\"row \"*3+\"your boat gently down the stream\""
   ]
  },
  {
   "cell_type": "markdown",
   "metadata": {},
   "source": [
    "<!--NAVIGATION-->\n",
    "< [1.1 Welcome to Jupyter Notebooks and Vocareum](https://ndcbe.github.io/cbe-xx258/01.01-Jupyter-Notebooks.html) | [Contents](toc.html) | [1.3 Flow Control and Pseudocode](https://ndcbe.github.io/cbe-xx258/01.03-Flow-control.html) ><p><a href=\"https://colab.research.google.com/github/ndcbe/cbe-xx258/blob/master/docs/01.02-Variables.ipynb\"> <img align=\"left\" src=\"https://colab.research.google.com/assets/colab-badge.svg\" alt=\"Open in Colab\" title=\"Open in Google Colaboratory\"></a><p><a href=\"https://ndcbe.github.io/cbe-xx258/01.02-Variables.ipynb\"> <img align=\"left\" src=\"https://img.shields.io/badge/Github-Download-blue.svg\" alt=\"Download\" title=\"Download Notebook\"></a>"
   ]
  }
 ],
 "metadata": {
  "colab": {
   "collapsed_sections": [],
   "name": "L1-Getting-Started.ipynb",
   "provenance": [],
   "version": "0.3.2"
  },
  "kernelspec": {
   "display_name": "Python 3",
   "language": "python",
   "name": "python3"
  },
  "language_info": {
   "codemirror_mode": {
    "name": "ipython",
    "version": 3
   },
   "file_extension": ".py",
   "mimetype": "text/x-python",
   "name": "python",
   "nbconvert_exporter": "python",
   "pygments_lexer": "ipython3",
   "version": "3.7.3"
  }
 },
 "nbformat": 4,
 "nbformat_minor": 2
}
